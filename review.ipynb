{
  "nbformat": 4,
  "nbformat_minor": 0,
  "metadata": {
    "colab": {
      "name": "review",
      "provenance": [],
      "authorship_tag": "ABX9TyPybzy84gpWDOgsU3K/apAK",
      "include_colab_link": true
    },
    "kernelspec": {
      "name": "python3",
      "display_name": "Python 3"
    }
  },
  "cells": [
    {
      "cell_type": "markdown",
      "metadata": {
        "id": "view-in-github",
        "colab_type": "text"
      },
      "source": [
        "<a href=\"https://colab.research.google.com/github/isabellasims/course-work/blob/master/review.ipynb\" target=\"_parent\"><img src=\"https://colab.research.google.com/assets/colab-badge.svg\" alt=\"Open In Colab\"/></a>"
      ]
    },
    {
      "cell_type": "code",
      "metadata": {
        "id": "UPrFpc5xGIJ1"
      },
      "source": [
        "# asking the right questions to think of an apprach = more time consuming than coding it\n",
        "# planning saves a lot of time\n"
      ],
      "execution_count": null,
      "outputs": []
    },
    {
      "cell_type": "markdown",
      "metadata": {
        "id": "HGaMy25HGhj1"
      },
      "source": [
        "Given an array of ints length 3, return an array with the elements \"rotated left\" so {1, 2, 3} yields {2, 3, 1}."
      ]
    },
    {
      "cell_type": "code",
      "metadata": {
        "id": "W4VgR87cEyC2"
      },
      "source": [
        "def rotate_left3(nums):\n",
        "  temp = [1,1,1] # need temp vals to index this way\n",
        "  # 0->2 (1)\n",
        "  temp[0] = nums[1]\n",
        "  # 1 ->3 (2)\n",
        "  temp[1] = nums[2]\n",
        "  # 2 -> 1\n",
        "  temp[2] = nums[0]\n",
        "  return temp "
      ],
      "execution_count": null,
      "outputs": []
    }
  ]
}