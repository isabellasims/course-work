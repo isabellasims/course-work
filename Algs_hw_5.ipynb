{
  "nbformat": 4,
  "nbformat_minor": 0,
  "metadata": {
    "colab": {
      "name": "Algs hw 5",
      "provenance": [],
      "authorship_tag": "ABX9TyPbItaLFz3AKKsyFruKrobJ",
      "include_colab_link": true
    },
    "kernelspec": {
      "name": "python3",
      "display_name": "Python 3"
    }
  },
  "cells": [
    {
      "cell_type": "markdown",
      "metadata": {
        "id": "view-in-github",
        "colab_type": "text"
      },
      "source": [
        "<a href=\"https://colab.research.google.com/github/isabellasims/course-work/blob/master/Algs_hw_5.ipynb\" target=\"_parent\"><img src=\"https://colab.research.google.com/assets/colab-badge.svg\" alt=\"Open In Colab\"/></a>"
      ]
    },
    {
      "cell_type": "markdown",
      "metadata": {
        "id": "XiXO3SYa3kiz"
      },
      "source": [
        "Part A):\n",
        "Dr. X, Systems Analyst for the Speedy-Look-Up Consulting Firm\n",
        "has the following advice:\n",
        "20% of the names in your alphabetically ordered, sequentially\n",
        "allocated, core-resident table of 10,000 names account for 80% of\n",
        "the table look-ups. Instead of carrying out a binary search over a\n",
        "single table with 10,000 entries, you should have a high-frequency\n",
        "table, where 2000 most frequently looked-up names are arranged\n",
        "alphabetically, and a low-frequently table, where the remaining\n",
        "8000 names are arranged alphabetically. When you want to look up\n",
        "a name, you search first in the small high-frequency table. 80% of\n",
        "the searches will stop right there. In only 20% of the cases will you\n",
        "\n",
        "\n",
        "also have to search the larger low-frequency table.\n",
        "HAPPY ENDING: Dr. X gets a salary raise for having increased\n",
        "significantly the throughput of Speedy-Look-Up’s computer center.\n",
        "SAD ENDING: Dr. X gets fired for professional incompetence.\n",
        "You are the President of the Speedy-Look-Up, Chairman of the\n",
        "Board, and the main stockholder. Choose between the HAPPY and\n",
        "SAD ending.\n",
        "\n",
        "\n",
        "Explain in detail how you made that decision, be specific and use\n",
        "data to justify your choice.\n",
        "Can you think of a better way of searching the table? Please explain\n",
        "in detail."
      ]
    },
    {
      "cell_type": "markdown",
      "metadata": {
        "id": "imj6yiZW-tNJ"
      },
      "source": [
        "I would choose the happy ending because Dr. X is onto a good idea here. That said, it can and should be improved. \n",
        "\n",
        "Dr. X is right that we should split the table up. However, it would be more efficient to split table up into three tables instead of 2. \n",
        "\n",
        "- The first table would stay the same as proposed (the top 20% look-ups)\n",
        "-  The second table would be the remainder of names that are looked up. \n",
        "- The third table would be names that are not looked-up.\n",
        "\n",
        "\n",
        "If a name in the third table is looked up, it should be added to the second table and removed from the first. Likewise, if a name from the second table is looked up more than a name in the first table, it should be removed from the second table and added to the first. Since everytime we move a name it will need to be resorted alphabetically, we ideally would do these steps when the system is most active. If the frequency of name look-ups changes often, we would want to do this more frequently. We should also weigh the time it takes to resort the table vs the time we save by doing so. We only want to resort the table if it saves us time. \n",
        "\n",
        "\n",
        "Aditionally, we should be doing the table look-ups as a binary search. I'm not sure if this was implied by Dr. X, but if it was not I may consider option B, as there is really no reson to alphabetically sort the names in the tables if we aren't performing a binary search on them.  \n",
        "\n",
        "\n",
        "Another idea: \n",
        "\n",
        "If we weren't doing a binary search, a different option would be to sort the names by look-up frequency and sequentially search the first two tables. The order in which we search tables the tables would remain the same. We only search the second table if we didn't find our name in the first and only search the third table if we didn't find our name in the second. \n",
        "In this situation, we would want to structure the third table differetly than the first two. Since th\n"
      ]
    },
    {
      "cell_type": "code",
      "metadata": {
        "id": "AUgUpwnKAf1X"
      },
      "source": [
        ""
      ],
      "execution_count": null,
      "outputs": []
    }
  ]
}