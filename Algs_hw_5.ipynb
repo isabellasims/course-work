{
  "nbformat": 4,
  "nbformat_minor": 0,
  "metadata": {
    "colab": {
      "name": "Algs hw 5",
      "provenance": [],
      "authorship_tag": "ABX9TyMbqVoBXn6T4MQx6vZtaqGV",
      "include_colab_link": true
    },
    "kernelspec": {
      "name": "python3",
      "display_name": "Python 3"
    }
  },
  "cells": [
    {
      "cell_type": "markdown",
      "metadata": {
        "id": "view-in-github",
        "colab_type": "text"
      },
      "source": [
        "<a href=\"https://colab.research.google.com/github/isabellasims/course-work/blob/master/Algs_hw_5.ipynb\" target=\"_parent\"><img src=\"https://colab.research.google.com/assets/colab-badge.svg\" alt=\"Open In Colab\"/></a>"
      ]
    },
    {
      "cell_type": "code",
      "metadata": {
        "id": "UUGD4k093jN5"
      },
      "source": [
        ""
      ],
      "execution_count": null,
      "outputs": []
    },
    {
      "cell_type": "markdown",
      "metadata": {
        "id": "XiXO3SYa3kiz"
      },
      "source": [
        "Part A):\n",
        "Dr. X, Systems Analyst for the Speedy-Look-Up Consulting Firm\n",
        "has the following advice:\n",
        "20% of the names in your alphabetically ordered, sequentially\n",
        "allocated, core-resident table of 10,000 names account for 80% of\n",
        "the table look-ups. Instead of carrying out a binary search over a\n",
        "single table with 10,000 entries, you should have a high-frequency\n",
        "table, where 2000 most frequently looked-up names are arranged\n",
        "alphabetically, and a low-frequently table, where the remaining\n",
        "8000 names are arranged alphabetically. When you want to look up\n",
        "a name, you search first in the small high-frequency table. 80% of\n",
        "the searches will stop right there. In only 20% of the cases will you\n",
        "\n",
        "\n",
        "also have to search the larger low-frequency table.\n",
        "HAPPY ENDING: Dr. X gets a salary raise for having increased\n",
        "significantly the throughput of Speedy-Look-Up’s computer center.\n",
        "SAD ENDING: Dr. X gets fired for professional incompetence.\n",
        "You are the President of the Speedy-Look-Up, Chairman of the\n",
        "Board, and the main stockholder. Choose between the HAPPY and\n",
        "SAD ending.\n",
        "\n",
        "\n",
        "Explain in detail how you made that decision, be specific and use\n",
        "data to justify your choice.\n",
        "Can you think of a better way of searching the table? Please explain\n",
        "in detail."
      ]
    }
  ]
}