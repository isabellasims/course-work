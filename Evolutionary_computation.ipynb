{
  "nbformat": 4,
  "nbformat_minor": 0,
  "metadata": {
    "colab": {
      "name": "Evolutionary computation",
      "provenance": [],
      "include_colab_link": true
    },
    "kernelspec": {
      "name": "python3",
      "display_name": "Python 3"
    }
  },
  "cells": [
    {
      "cell_type": "markdown",
      "metadata": {
        "id": "view-in-github",
        "colab_type": "text"
      },
      "source": [
        "<a href=\"https://colab.research.google.com/github/isabellasims/course-work/blob/master/Evolutionary_computation.ipynb\" target=\"_parent\"><img src=\"https://colab.research.google.com/assets/colab-badge.svg\" alt=\"Open In Colab\"/></a>"
      ]
    },
    {
      "cell_type": "code",
      "metadata": {
        "id": "rbln_f7Eyh2M"
      },
      "source": [
        "charset = list(\"abcdefghijklmnopqrstuvwxyzABCDEFGHIJKLMNOPQRSTUVWXYZ\")\n",
        "#stringLength = 10\n",
        "stringLength = 3\n",
        "\n",
        "# goal is an all-caps string\n",
        "# higher fitness = more uppercase letters\n",
        "goal = [\"f\",\"i\",\"t\"]\n",
        "def fitness(example):\n",
        "  f = 0\n",
        "  \n",
        "  # more specific fitness = faster genetic alg\n",
        "  for ch in example:\n",
        "    if ch == \"i\" or ch == \"f\" or ch == \"t\": \n",
        "      f += 1\n",
        "      \n",
        "  for i in range(len(example)):\n",
        "    if example[i] == goal[i]:\n",
        "      f += 1      \n",
        "  return f\n",
        "\n",
        "\n",
        "\n",
        "def isGoal(example):\n",
        "\n",
        "  if example == goal:\n",
        "    return True "
      ],
      "execution_count": null,
      "outputs": []
    },
    {
      "cell_type": "code",
      "metadata": {
        "id": "cDuKOsCEylJ6"
      },
      "source": [
        "from random import choice,random,randint\n",
        "\n",
        "def guessUntilCorrect():\n",
        "  stepsTaken = 0\n",
        "  while True:\n",
        "    stepsTaken += 1\n",
        "    \n",
        "   \n",
        "    guess = [] # create strings of specified length\n",
        "    \n",
        "    for _ in range(stringLength):\n",
        "      _ = choice(charset)\n",
        "      guess.append(_)\n",
        "      \n",
        "    if isGoal(guess):\n",
        "      print(f\"Found goal in {stepsTaken} steps.\")\n",
        "      return guess"
      ],
      "execution_count": null,
      "outputs": []
    },
    {
      "cell_type": "markdown",
      "metadata": {
        "id": "c1bEzaWP92oj"
      },
      "source": [
        "**Genetic Algorithms**"
      ]
    },
    {
      "cell_type": "code",
      "metadata": {
        "id": "qHOd2kvp961J"
      },
      "source": [
        "mutationRate = 0.5 \n",
        "# Change for dif searching speeds\n",
        "\n",
        "# generates random btwn 0 & 1 and if less than mutation rate, it generates a new charcter\n",
        "def mutate(example): \n",
        "  return [(choice(charset) if random() < mutationRate else ch) for ch in example]"
      ],
      "execution_count": null,
      "outputs": []
    },
    {
      "cell_type": "code",
      "metadata": {
        "id": "APCvxHWyFpQb"
      },
      "source": [
        "def crossover(parent1, parent2): # \n",
        "  #cuts up and puts two halves together\n",
        "  # pick a random point to cross over at\n",
        "  crossOverPoint = randint(1,stringLength) #\n",
        "  return parent1[:crossOverPoint] + parent2[crossOverPoint:] # returns new gene set - half from p1 half from p2 "
      ],
      "execution_count": null,
      "outputs": []
    },
    {
      "cell_type": "code",
      "metadata": {
        "id": "C5szZL0OeIbC"
      },
      "source": [
        "populationSize = 50\n",
        "\n",
        "def geneticAlgorithm():\n",
        "  iterations = 0\n",
        "\n",
        "  # the initial population is populationSize random strings\n",
        "  population = [[choice(charset) for _ in range(stringLength)] for _ in range(populationSize)] # array of arrays\n",
        "  print(population)\n",
        "  \n",
        "  while True:\n",
        "    iterations += 1\n",
        "    # do any of our population's individuals satisfy the goal?\n",
        "    for individual in population:\n",
        "      if (isGoal(individual)): # sees if its all caps\n",
        "        print(f\"Found goal in {iterations} iterations at index {population.index(individual)}\")\n",
        "        return individual\n",
        "    \n",
        "    # if not, crossover and mutate to get a new generation\n",
        "    \n",
        "    # sort the current population by descending order of fitness\n",
        "    population.sort(key=fitness, reverse=True) # RANKING... better strings at top (sort does l to g)\n",
        "    \n",
        "    \n",
        "    # take the top 10 (arbitrary number) and make them parents of the new generation\n",
        "    parents = population[:10] # ---> top 10 candidates\n",
        "    # make the next generation by randomly selecting two parents to\n",
        "    # crossover, and then mutating the result, until we have 50 new individuals\n",
        "    population = [mutate(crossover(choice(parents),choice(parents))) for _ in range(populationSize)] # GENERATING NEW POPULATION FROM PARENTS\n",
        "  "
      ],
      "execution_count": null,
      "outputs": []
    },
    {
      "cell_type": "code",
      "metadata": {
        "id": "ZYMq2M0veNi8",
        "outputId": "49ec0b78-3bdf-4a48-8a40-f25269ce7198",
        "colab": {
          "base_uri": "https://localhost:8080/",
          "height": 190
        }
      },
      "source": [
        "print(\"Guess until correct:\")\n",
        "\n",
        "guessUntilCorrect() \n",
        "print(\"                 \")\n",
        "print(\"---------vs---------\")\n",
        "print(\"                 \")\n",
        "\n",
        "print(\"Genetic Alg:\") \n",
        "geneticAlgorithm()"
      ],
      "execution_count": null,
      "outputs": [
        {
          "output_type": "stream",
          "text": [
            "Guess until correct:\n",
            "Found goal in 78844 steps.\n",
            "                 \n",
            "---------vs---------\n",
            "                 \n",
            "Genetic Alg:\n",
            "[['E', 'A', 'N'], ['g', 'z', 'a'], ['E', 'y', 'O'], ['m', 'J', 'r'], ['C', 'c', 'F'], ['o', 'Q', 'y'], ['A', 'n', 'N'], ['u', 'o', 'L'], ['T', 'w', 'C'], ['x', 'C', 'G'], ['y', 'F', 'a'], ['J', 'I', 'p'], ['m', 'F', 'S'], ['v', 'M', 'k'], ['A', 'c', 's'], ['W', 'u', 'V'], ['D', 'g', 'D'], ['R', 'z', 'm'], ['W', 'u', 'G'], ['w', 'P', 'u'], ['u', 'J', 'w'], ['E', 'h', 'l'], ['e', 'W', 'V'], ['p', 'e', 'B'], ['g', 't', 'D'], ['v', 'E', 'j'], ['V', 'S', 'O'], ['R', 'V', 'm'], ['e', 'P', 'S'], ['G', 'S', 'E'], ['j', 'T', 'C'], ['t', 'Z', 'I'], ['r', 'I', 'r'], ['b', 'E', 'o'], ['w', 'Y', 'd'], ['I', 'P', 'V'], ['B', 'S', 'T'], ['u', 'm', 'R'], ['S', 's', 'S'], ['b', 'T', 'Y'], ['X', 'h', 'Z'], ['Y', 'H', 'b'], ['E', 'L', 'X'], ['x', 'b', 't'], ['R', 'K', 'x'], ['u', 'L', 'W'], ['E', 'J', 'g'], ['D', 'I', 'x'], ['K', 'r', 'p'], ['M', 'b', 'D']]\n",
            "Found goal in 8 iterations at index 6\n"
          ],
          "name": "stdout"
        },
        {
          "output_type": "execute_result",
          "data": {
            "text/plain": [
              "['f', 'i', 't']"
            ]
          },
          "metadata": {
            "tags": []
          },
          "execution_count": 63
        }
      ]
    }
  ]
}