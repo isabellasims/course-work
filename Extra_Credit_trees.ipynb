{
  "nbformat": 4,
  "nbformat_minor": 0,
  "metadata": {
    "colab": {
      "name": "Extra Credit trees",
      "provenance": [],
      "authorship_tag": "ABX9TyMkexgoK+VFyhRevkUrQEHF",
      "include_colab_link": true
    },
    "kernelspec": {
      "name": "python3",
      "display_name": "Python 3"
    }
  },
  "cells": [
    {
      "cell_type": "markdown",
      "metadata": {
        "id": "view-in-github",
        "colab_type": "text"
      },
      "source": [
        "<a href=\"https://colab.research.google.com/github/isabellasims/course-work/blob/master/Extra_Credit_trees.ipynb\" target=\"_parent\"><img src=\"https://colab.research.google.com/assets/colab-badge.svg\" alt=\"Open In Colab\"/></a>"
      ]
    },
    {
      "cell_type": "markdown",
      "metadata": {
        "id": "o9YVKnyMdwSh"
      },
      "source": [
        "This extra credit was explained in class as we will get 2 points to code something that checks if 2 trees are equal. This means that the trees have both the same content and structure"
      ]
    },
    {
      "cell_type": "code",
      "metadata": {
        "id": "t_WBBd-WdyXh"
      },
      "source": [
        "class Node:\n",
        "  def __init__(self, data): \n",
        "    self.data = data\n",
        "    self.left_child = None\n",
        "    self.right_child = None"
      ],
      "execution_count": 59,
      "outputs": []
    },
    {
      "cell_type": "code",
      "metadata": {
        "id": "Y-OzsvyheLBx"
      },
      "source": [
        "def check_equal(tree1,tree2):\n",
        "  # if both trees are empty, they are the same\n",
        "  if (not tree1 and not tree2):\n",
        "    return True\n",
        "  # if both trees are not empty, check if they are equal\n",
        "  if (tree1 and tree2):\n",
        "    # check that the trees hold the same content \n",
        "    return ( (tree1.data == tree2.data) and check_equal(tree1.left_child,tree2.left_child) and check_equal(tree1.right_child,tree2.right_child) )\n",
        "   \n",
        "  # if one tree is empty and the other is not, they are not equal\n",
        "  else:\n",
        "    return False\n"
      ],
      "execution_count": 60,
      "outputs": []
    },
    {
      "cell_type": "code",
      "metadata": {
        "id": "p7nYMXjwkyrF"
      },
      "source": [
        "# strucure: creation starts with root node and use dot notation to extend node child, for example:\n",
        "  # tree = Node(val) defines the root node\n",
        "  # tree.Node.left_child defines the first left child\n",
        "  # tree.Node.left_child.left_child defineds the first left childs first left child\n",
        "def create_tree(a,b,c,d,e): # this function will create trees in order to test the check_equal functions accuracy\n",
        "  # define roots of both trees\n",
        "  tree = Node(a)\n",
        "\n",
        "  tree.left_child = Node(b)\n",
        "  tree.right_child = Node(c)\n",
        "  tree.left_child.left_child = Node(d)\n",
        "  tree.left_child.right_child = Node(e)\n",
        "  return tree\n",
        "\n",
        "def create_tree2(a,b,c,d): # this function will create trees in order to test the check_equal functions accuracy\n",
        "  # define roots of both trees\n",
        "  tree = Node(a)\n",
        "  tree.left_child = Node(b)\n",
        "  tree.right_child = Node(c)\n",
        "  tree.left_child.left_child = Node(d)\n",
        "  return tree\n",
        "\n"
      ],
      "execution_count": 61,
      "outputs": []
    },
    {
      "cell_type": "code",
      "metadata": {
        "id": "r9qSxDihlfp1",
        "outputId": "29587711-9037-416a-fefb-f86317ba9942",
        "colab": {
          "base_uri": "https://localhost:8080/",
          "height": 34
        }
      },
      "source": [
        "# check 2 equal trees with same structure ---> should eval true\n",
        "tree1 = create_tree(1,2,3,4,5)\n",
        "tree2 = create_tree(1,2,3,4,5)\n",
        "check_equal(tree1,tree2)"
      ],
      "execution_count": 67,
      "outputs": [
        {
          "output_type": "execute_result",
          "data": {
            "text/plain": [
              "True"
            ]
          },
          "metadata": {
            "tags": []
          },
          "execution_count": 67
        }
      ]
    },
    {
      "cell_type": "code",
      "metadata": {
        "id": "SbVlg8U6qGOY",
        "outputId": "ed1984d8-1dad-4a2a-d150-a1c5b16b37e8",
        "colab": {
          "base_uri": "https://localhost:8080/",
          "height": 34
        }
      },
      "source": [
        "# check 2 non-equal trees with same structure ---> should eval false\n",
        "tree3 = create_tree(1,2,3,4,5)\n",
        "tree4 = create_tree(1,2,3,4,6)\n",
        "check_equal(tree3,tree4)"
      ],
      "execution_count": 68,
      "outputs": [
        {
          "output_type": "execute_result",
          "data": {
            "text/plain": [
              "False"
            ]
          },
          "metadata": {
            "tags": []
          },
          "execution_count": 68
        }
      ]
    },
    {
      "cell_type": "code",
      "metadata": {
        "id": "QLAafdMyqVBm",
        "outputId": "60844d2f-bb04-4591-e121-ece7a509a7e3",
        "colab": {
          "base_uri": "https://localhost:8080/",
          "height": 34
        }
      },
      "source": [
        "# check 2 trees with different structure ---> should eval false\n",
        "\n",
        "tree5 = create_tree(1,2,3,4,5)\n",
        "tree6 = create_tree2(1,2,3,4)\n",
        "check_equal(tree3,tree4)"
      ],
      "execution_count": 69,
      "outputs": [
        {
          "output_type": "execute_result",
          "data": {
            "text/plain": [
              "False"
            ]
          },
          "metadata": {
            "tags": []
          },
          "execution_count": 69
        }
      ]
    }
  ]
}