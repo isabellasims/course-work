{
  "nbformat": 4,
  "nbformat_minor": 0,
  "metadata": {
    "colab": {
      "name": "Extra Credit trees",
      "provenance": [],
      "authorship_tag": "ABX9TyPoKkDmWmExt45wtObQg6z9",
      "include_colab_link": true
    },
    "kernelspec": {
      "name": "python3",
      "display_name": "Python 3"
    }
  },
  "cells": [
    {
      "cell_type": "markdown",
      "metadata": {
        "id": "view-in-github",
        "colab_type": "text"
      },
      "source": [
        "<a href=\"https://colab.research.google.com/github/isabellasims/course-work/blob/master/Extra_Credit_trees.ipynb\" target=\"_parent\"><img src=\"https://colab.research.google.com/assets/colab-badge.svg\" alt=\"Open In Colab\"/></a>"
      ]
    },
    {
      "cell_type": "markdown",
      "metadata": {
        "id": "o9YVKnyMdwSh"
      },
      "source": [
        "This extra credit was explained in class as we will get 2 points to code something that checks if 2 trees are equal. This means that the trees have both the same content and structure"
      ]
    },
    {
      "cell_type": "code",
      "metadata": {
        "id": "t_WBBd-WdyXh"
      },
      "source": [
        "class Node:\n",
        "  def __init__(self, data): \n",
        "    self.data = data\n",
        "    self.left_child = None\n",
        "    self.right_child = None"
      ],
      "execution_count": 1,
      "outputs": []
    },
    {
      "cell_type": "code",
      "metadata": {
        "id": "Y-OzsvyheLBx"
      },
      "source": [
        "def check_equal(tree1,tree2):\n",
        "  # if both trees are empty, they are the same\n",
        "  if (not tree1 and not tree2):\n",
        "    return True\n",
        "  # if both trees are not empty, check if they are equal\n",
        "  elif (tree1 and tree2):\n",
        "    # check that the trees hold the same content \n",
        "    if (tree1.data == tree2.data):\n",
        "      # use recursion to check that the data of each nodes children are equal. This part checks for structural differences even if the contents are the same\n",
        "      if ( check_equal(tree1.left_child,tree1.right_child) == check_equal(tree2.left_child,tree2.right_child)):\n",
        "        return True\n",
        "  # if one tree is empty and the other is not, they are not equal\n",
        "  else:\n",
        "    return False\n"
      ],
      "execution_count": 4,
      "outputs": []
    },
    {
      "cell_type": "code",
      "metadata": {
        "id": "-GBI5K1bgONs"
      },
      "source": [
        "# strucure: creation starts with root node and use dot notation to extend node child, for example:\n",
        "  # root = Node(val) defines the root node\n",
        "  # root.Node.left_child defines the first left child\n",
        "  # root.Node.left_child.left_child defineds the first left childs first left child\n",
        "def createTrees(node1_val,node2_val,node2_val):\n",
        "  "
      ],
      "execution_count": null,
      "outputs": []
    }
  ]
}