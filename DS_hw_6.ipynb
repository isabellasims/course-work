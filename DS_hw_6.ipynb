{
  "nbformat": 4,
  "nbformat_minor": 0,
  "metadata": {
    "colab": {
      "name": "DS hw 6",
      "provenance": [],
      "include_colab_link": true
    },
    "kernelspec": {
      "name": "python3",
      "display_name": "Python 3"
    }
  },
  "cells": [
    {
      "cell_type": "markdown",
      "metadata": {
        "id": "view-in-github",
        "colab_type": "text"
      },
      "source": [
        "<a href=\"https://colab.research.google.com/github/isabellasims/course-work/blob/master/DS_hw_6.ipynb\" target=\"_parent\"><img src=\"https://colab.research.google.com/assets/colab-badge.svg\" alt=\"Open In Colab\"/></a>"
      ]
    },
    {
      "cell_type": "markdown",
      "metadata": {
        "id": "Fzue4AXs0pEL",
        "colab_type": "text"
      },
      "source": [
        "***Question 2 Part C***\n",
        "- I coded this problem to better demonstrate output\n",
        "- This problem is basically just a fibonocci sequence with the addition of (n-3) as well as different initial conditions \n"
      ]
    },
    {
      "cell_type": "code",
      "metadata": {
        "id": "rVEo-Rn2ic4k",
        "colab_type": "code",
        "colab": {
          "base_uri": "https://localhost:8080/",
          "height": 187
        },
        "outputId": "b9d6b4ab-2110-4d44-ad1d-af6c0fc0d458"
      },
      "source": [
        "def stairs(n):\n",
        "  # padding for initial conditions\n",
        "  if n == 0:\n",
        "    return 1\n",
        "  # padding for initial conditions\n",
        "  elif n <= 2 > 0:\n",
        "    return n\n",
        "  # sequence to run once past initial conditions\n",
        "  else:\n",
        "    return(stairs(n-1) + stairs(n-2)+ stairs(n-3))\n",
        "\n",
        "nterms = 8\n",
        "\n",
        "# check if the number of terms is valid\n",
        "print(\"ways to climb 8 stairs:\")\n",
        "for i in range(nterms+1): \n",
        "  print(\"a\",i , \" \" , \"= \" , sep='',end = '')\n",
        "  print(stairs(i))\n"
      ],
      "execution_count": null,
      "outputs": [
        {
          "output_type": "stream",
          "text": [
            "ways to climb 8 stairs:\n",
            "a0 = 1\n",
            "a1 = 1\n",
            "a2 = 2\n",
            "a3 = 4\n",
            "a4 = 7\n",
            "a5 = 13\n",
            "a6 = 24\n",
            "a7 = 44\n",
            "a8 = 81\n"
          ],
          "name": "stdout"
        }
      ]
    }
  ]
}