{
  "nbformat": 4,
  "nbformat_minor": 0,
  "metadata": {
    "colab": {
      "name": "AI project - evolutionary comp",
      "provenance": [],
      "include_colab_link": true
    },
    "kernelspec": {
      "name": "python3",
      "display_name": "Python 3"
    }
  },
  "cells": [
    {
      "cell_type": "markdown",
      "metadata": {
        "id": "view-in-github",
        "colab_type": "text"
      },
      "source": [
        "<a href=\"https://colab.research.google.com/github/isabellasims/course-work/blob/master/AI_project_evolutionary_comp.ipynb\" target=\"_parent\"><img src=\"https://colab.research.google.com/assets/colab-badge.svg\" alt=\"Open In Colab\"/></a>"
      ]
    },
    {
      "cell_type": "markdown",
      "metadata": {
        "id": "otgZcz-_a2hd",
        "colab_type": "text"
      },
      "source": [
        "In the second homework assignment, when I found that swapping a gene (higher mutation rate) produced better offspring in some situations, it reminded me of the Monty Hall problem. Here, I attempted to impliment the monty hall problem in order to quickly generate a fit population. The program takes a population of contestants, then checks each individual to see if it is applicable to perform the montyhall problem on. If it is, the monty hall problem is performed on that individual. The other individuals who do not satisfy the population (goat doors aka when there is not one and only one correct letter in the three letter string) is added to the end of the population. I think that implimenting the Monty Hall problem would be better suited to other projects like neural networks or gameshow simulation. I also think that adjusting the fitness algorithm to better fit the monty hall problem would produce more meaningful results."
      ]
    },
    {
      "cell_type": "code",
      "metadata": {
        "id": "gU14FxL265d0",
        "colab_type": "code",
        "colab": {}
      },
      "source": [
        "from random import choice, random, randint, shuffle\n",
        "import numpy as np\n",
        "import matplotlib.pyplot as plt"
      ],
      "execution_count": null,
      "outputs": []
    },
    {
      "cell_type": "code",
      "metadata": {
        "id": "59clp5t9686I",
        "colab_type": "code",
        "colab": {
          "base_uri": "https://localhost:8080/",
          "height": 34
        },
        "outputId": "c2e81c54-3311-4ccc-cc8a-818a9ed78974"
      },
      "source": [
        "charset = list(\"abcdefghijklmnopqrstuvwxyz\")\n",
        "goal = input(\"define a 3 letter gene you wish to generate : \")\n",
        "goal = list(goal)\n",
        "\n",
        "#goal = [\"f\",\"i\",\"t\"]\n",
        "stringLength = len(goal)\n",
        "million = goal[0]"
      ],
      "execution_count": null,
      "outputs": [
        {
          "output_type": "stream",
          "text": [
            "define a 3 letter gene you wish to generate : fit\n"
          ],
          "name": "stdout"
        }
      ]
    },
    {
      "cell_type": "code",
      "metadata": {
        "id": "Y9D535LW6-5g",
        "colab_type": "code",
        "colab": {}
      },
      "source": [
        "def MHcondition(individual):\n",
        "    counter = 0    \n",
        "    if million in individual:\n",
        "      counter += 1          \n",
        "    if counter == 1:\n",
        "      return True\n",
        "    else:\n",
        "      return False    \n",
        "    counter = 0"
      ],
      "execution_count": null,
      "outputs": []
    },
    {
      "cell_type": "code",
      "metadata": {
        "id": "FHP1Tv9t7BOx",
        "colab_type": "code",
        "colab": {}
      },
      "source": [
        "def fitness(individual):\n",
        "  f = 0\n",
        "  \n",
        "  # if MHcondition(individual) == True: \n",
        "  #   f +=1 # add 1 to fitness for combinations with correct condition for MH problem \n",
        "  if getSwitch(individual) == million:\n",
        "    f+=2 # add 2 to fitness when MH problem works\n",
        "  for i in range(len(individual)):\n",
        "    if individual[i] == goal[i]:\n",
        "      f += 1\n",
        "    if individual[i] in goal:\n",
        "      f += 1     \n",
        " \n",
        "  return f"
      ],
      "execution_count": null,
      "outputs": []
    },
    {
      "cell_type": "code",
      "metadata": {
        "id": "UF6oyu_D7DEP",
        "colab_type": "code",
        "colab": {}
      },
      "source": [
        "def isGoal(individual):  \n",
        "  if individual == goal:\n",
        "    return True"
      ],
      "execution_count": null,
      "outputs": []
    },
    {
      "cell_type": "code",
      "metadata": {
        "id": "ze45RV9z7F78",
        "colab_type": "code",
        "colab": {}
      },
      "source": [
        "def getSwitch(individual): \n",
        "  temp = individual\n",
        "  pick = choice(temp)\n",
        "  temp.remove(pick) # remove the random choice \n",
        "  for char in temp:\n",
        "    if char!= million:\n",
        "      goat = char\n",
        "      temp.remove(goat)\n",
        "    else: # this is accounting for an error I'm not sure why I have when a value is not assigned to goat despite the individual satisfying MH problem condition... Not super important because we don't care much about the goat value\n",
        "      goat = choice(charset) \n",
        "  switch = temp\n",
        "    \n",
        "  return switch"
      ],
      "execution_count": null,
      "outputs": []
    },
    {
      "cell_type": "code",
      "metadata": {
        "id": "R45XH3Rv7Iew",
        "colab_type": "code",
        "colab": {
          "base_uri": "https://localhost:8080/",
          "height": 51
        },
        "outputId": "e78120bb-6078-4a8d-e328-9891a2a6585e"
      },
      "source": [
        "print(getSwitch([\"f\",\"o\",\"h\"]))\n",
        "print(getSwitch([\"p\",\"o\",\"h\"]))"
      ],
      "execution_count": null,
      "outputs": [
        {
          "output_type": "stream",
          "text": [
            "['f']\n",
            "['o']\n"
          ],
          "name": "stdout"
        }
      ]
    },
    {
      "cell_type": "code",
      "metadata": {
        "id": "wrrgXbBp7LB5",
        "colab_type": "code",
        "colab": {}
      },
      "source": [
        "populationSize = 50\n",
        "stringLength = 3\n",
        "population = []\n",
        "def makeContests():\n",
        "  contestants = [[choice(charset) for _ in range(stringLength)] for _ in range(populationSize)]\n",
        "  #print(\"contestants\" ,contestants)\n",
        "  return contestants"
      ],
      "execution_count": null,
      "outputs": []
    },
    {
      "cell_type": "code",
      "metadata": {
        "id": "9gB-qiew7N_4",
        "colab_type": "code",
        "colab": {}
      },
      "source": [
        "doors = []\n",
        "goatDoors = []\n",
        "def mhProblem(contestants):\n",
        "    goat = ''\n",
        "    pick = ''\n",
        "    temp = ''   \n",
        "    evolvedTemp = []  \n",
        "\n",
        "    for i in contestants:       \n",
        "      if MHcondition(i): \n",
        "        for j in i:\n",
        "          evolvedTemp.append(j)         \n",
        "        temp = i              \n",
        "        switch = getSwitch(temp) \n",
        "        switch = np.array(switch,ndmin = 1) # fixes switch issue     \n",
        "        #print(\"switch\" , switch[0])\n",
        "        evolvedTemp.remove(switch[0])\n",
        "        evolvedTemp.insert(0, switch[0])\n",
        "        doors.append(evolvedTemp)\n",
        "        evolvedTemp = []\n",
        "      else: \n",
        "        goatDoors.append(i) \n",
        "    return doors"
      ],
      "execution_count": null,
      "outputs": []
    },
    {
      "cell_type": "code",
      "metadata": {
        "id": "EWWzpiir7RSm",
        "colab_type": "code",
        "colab": {}
      },
      "source": [
        "mutationRate = .1\n",
        "def mutate(example):\n",
        "  if MHcondition(example) == True:\n",
        "    switch = getSwitch(example) \n",
        "    if len(switch) == 0: # Filtering out empty switch values\n",
        "      genebank = [goal[0],choice(charset),choice(charset)] \n",
        "      return genebank\n",
        "    switch = switch[0]\n",
        "    genebank = [switch,choice(charset),choice(charset)] # idea is you put the switched value in here and try again for the rest try for another goal value bc MH condition should make you 2/3 sure that the switch is there]  \n",
        "    return genebank\n",
        "  else: # if the condition is not true here, force satisfy MH condition at first index if mutation \n",
        "    genebank = [goal[0],choice(charset),choice(charset)] \n",
        "    return genebank\n",
        "def crossover(parent1, parent2): \n",
        "  combine = parent1 + parent2\n",
        "  shuffle(combine)\n",
        "  return combine[:3]"
      ],
      "execution_count": null,
      "outputs": []
    },
    {
      "cell_type": "code",
      "metadata": {
        "id": "OCF76TvC7Tnc",
        "colab_type": "code",
        "colab": {
          "base_uri": "https://localhost:8080/",
          "height": 69
        },
        "outputId": "854ce0f0-219a-4054-9e58-249aa484cdad"
      },
      "source": [
        "print(mutate(['a','b','c']))\n",
        "print(mutate(['f','b','c']))\n",
        "print(crossover(mutate(['a','b','c']),mutate(['f','b','c'])))\n",
        "#print(mutate(crossover(['a','b','c']),mutate(['f','b','c'])))"
      ],
      "execution_count": null,
      "outputs": [
        {
          "output_type": "stream",
          "text": [
            "['f', 'b', 'j']\n",
            "['f', 'y', 'g']\n",
            "['f', 't', 'f']\n"
          ],
          "name": "stdout"
        }
      ]
    },
    {
      "cell_type": "code",
      "metadata": {
        "id": "o7pRZ-gT7Vnq",
        "colab_type": "code",
        "colab": {}
      },
      "source": [
        "stringLength = 3\n",
        "x = []\n",
        "y = []\n",
        "cords = []\n",
        "\n",
        "\n",
        "\n",
        "\n",
        "def geneticAlgorithm():\n",
        "    iterations = 0   \n",
        "    #while True:  \n",
        "    populationSize = 50\n",
        "    contestants = makeContests()\n",
        "    print(contestants)\n",
        "    Doors = mhProblem(contestants)\n",
        "    population = Doors\n",
        "    population.extend(goatDoors)\n",
        "    print(\"population:\",population)\n",
        "\n",
        "    while True:\n",
        "      iterations += 1\n",
        "      #mhProblem(contestants)\n",
        "      for individual in population:\n",
        "        if (isGoal(individual)):\n",
        "          print(f\"Found gene in {iterations} iterations at index {population.index(individual)}\")\n",
        "          cords.append(x)\n",
        "          cords.append(y)\n",
        "          return individual\n",
        "\n",
        "\n",
        "      population.sort(key=fitness, reverse=True)\n",
        "      \n",
        "      parents = population[:10] # ---> top 10 candidates  \n",
        "      fittest = population[:1]\n",
        "      fittest = fittest[0] # unnesting list in order to plot and guage fitness\n",
        "   \n",
        "   \n",
        "      x.append(iterations) \n",
        "      y.append(fitness(fittest))  \n",
        "      population = [mutate(crossover(choice(parents),choice(parents))) for _ in range(populationSize)] # G\n",
        "      for i in population: # final filter on population\n",
        "        if len(i) != 3:\n",
        "          population.pop(i)\n",
        "      print(\"population sorted:\",population)"
      ],
      "execution_count": null,
      "outputs": []
    },
    {
      "cell_type": "code",
      "metadata": {
        "id": "Eu6SqNB57Xd8",
        "colab_type": "code",
        "colab": {
          "base_uri": "https://localhost:8080/",
          "height": 453
        },
        "outputId": "e2425afc-4cc1-44af-d7aa-81940fbaf862"
      },
      "source": [
        "geneticAlgorithm()"
      ],
      "execution_count": null,
      "outputs": [
        {
          "output_type": "stream",
          "text": [
            "[['k', 's', 'x'], ['c', 'e', 'h'], ['x', 'j', 'w'], ['n', 'r', 'm'], ['o', 'm', 'z'], ['q', 'h', 'q'], ['d', 'u', 'a'], ['e', 'k', 'm'], ['y', 'f', 'z'], ['j', 'f', 'r'], ['v', 'y', 'r'], ['r', 'i', 'q'], ['l', 'o', 'i'], ['a', 's', 'c'], ['w', 'x', 'x'], ['r', 'r', 'l'], ['i', 'b', 'p'], ['q', 'z', 'v'], ['t', 'u', 'p'], ['m', 'd', 'o'], ['y', 'i', 'j'], ['g', 'v', 'w'], ['y', 'g', 'o'], ['u', 'u', 'p'], ['s', 'd', 'k'], ['g', 'j', 'i'], ['f', 'a', 'h'], ['n', 'r', 'c'], ['a', 'a', 'g'], ['u', 'v', 'd'], ['z', 'y', 'b'], ['w', 'm', 'q'], ['i', 'n', 's'], ['c', 'r', 'y'], ['s', 'w', 'z'], ['y', 'r', 'r'], ['a', 'l', 'd'], ['y', 'e', 'k'], ['f', 'b', 'a'], ['i', 'p', 'z'], ['a', 'y', 'z'], ['f', 'j', 'a'], ['f', 'f', 's'], ['d', 'm', 'z'], ['l', 'l', 'k'], ['r', 'b', 'x'], ['q', 'k', 'd'], ['y', 'q', 'f'], ['o', 'w', 'z'], ['p', 'x', 'f']]\n",
            "population: [['f', 'y', 'z'], ['f', 'j', 'r'], ['f', 'a', 'h'], ['f', 'b', 'a'], ['a', 'f', 'j'], ['f', 'f', 's'], ['f', 'y', 'q'], ['x', 'p', 'f'], ['k', 's', 'x'], ['c', 'e', 'h'], ['x', 'j', 'w'], ['n', 'r', 'm'], ['o', 'm', 'z'], ['q', 'h', 'q'], ['d', 'u', 'a'], ['e', 'k', 'm'], ['v', 'y', 'r'], ['r', 'i', 'q'], ['l', 'o', 'i'], ['a', 's', 'c'], ['w', 'x', 'x'], ['r', 'r', 'l'], ['i', 'b', 'p'], ['q', 'z', 'v'], ['t', 'u', 'p'], ['m', 'd', 'o'], ['y', 'i', 'j'], ['g', 'v', 'w'], ['y', 'g', 'o'], ['u', 'u', 'p'], ['s', 'd', 'k'], ['g', 'j', 'i'], ['n', 'r', 'c'], ['a', 'a', 'g'], ['u', 'v', 'd'], ['z', 'y', 'b'], ['w', 'm', 'q'], ['i', 'n', 's'], ['c', 'r', 'y'], ['s', 'w', 'z'], ['y', 'r', 'r'], ['a', 'l', 'd'], ['y', 'e', 'k'], ['i', 'p', 'z'], ['a', 'y', 'z'], ['d', 'm', 'z'], ['l', 'l', 'k'], ['r', 'b', 'x'], ['q', 'k', 'd'], ['o', 'w', 'z']]\n",
            "population sorted: [['f', 'v', 't'], ['f', 'k', 't'], ['f', 'h', 'e'], ['f', 'c', 'o'], ['f', 'g', 't'], ['f', 'q', 'u'], ['f', 'j', 'l'], ['f', 'a', 'c'], ['f', 'r', 'x'], ['f', 'x', 'j'], ['f', 'f', 'z'], ['f', 'd', 'v'], ['f', 'i', 'k'], ['f', 'g', 's'], ['f', 'l', 'p'], ['f', 'r', 'l'], ['f', 'a', 't'], ['f', 's', 'r'], ['f', 'n', 'g'], ['f', 'h', 'w'], ['f', 'z', 'b'], ['f', 'l', 'z'], ['f', 'a', 'o'], ['f', 'u', 'o'], ['f', 'b', 'i'], ['f', 'l', 'f'], ['f', 'e', 'y'], ['f', 'y', 'i'], ['f', 'v', 'u'], ['f', 'i', 'r'], ['f', 'n', 'j'], ['f', 'c', 'v'], ['f', 'i', 'm'], ['f', 'x', 'q'], ['f', 'q', 'f'], ['f', 'j', 'c'], ['f', 'n', 'w'], ['f', 'f', 'y'], ['f', 'n', 'b'], ['f', 'k', 'w'], ['f', 'm', 'e'], ['f', 'f', 'g'], ['f', 'd', 'f'], ['f', 'v', 'm'], ['f', 'p', 's'], ['f', 'o', 'p'], ['f', 'l', 'u'], ['f', 'g', 's'], ['f', 'y', 'd'], ['f', 'p', 's']]\n",
            "population sorted: [['f', 'c', 's'], ['f', 'r', 'd'], ['f', 'n', 'g'], ['f', 'e', 'w'], ['f', 'p', 'e'], ['f', 'x', 'l'], ['f', 'd', 'm'], ['f', 'm', 'd'], ['f', 'u', 'x'], ['f', 'f', 'y'], ['f', 'u', 'x'], ['f', 'c', 'i'], ['f', 'u', 's'], ['f', 'f', 'e'], ['f', 'o', 'w'], ['f', 'm', 'h'], ['f', 'r', 'e'], ['f', 'i', 'o'], ['f', 'j', 'm'], ['f', 'x', 'd'], ['f', 'v', 'n'], ['f', 'l', 'i'], ['f', 'h', 'n'], ['f', 'k', 'p'], ['f', 'm', 'd'], ['f', 'd', 'q'], ['f', 'v', 'm'], ['f', 'e', 't'], ['f', 'k', 'b'], ['f', 't', 'k'], ['f', 'k', 'b'], ['f', 'a', 'i'], ['f', 'p', 'b'], ['f', 'k', 'i'], ['f', 'h', 'a'], ['f', 's', 'u'], ['f', 'f', 'r'], ['f', 'm', 'j'], ['f', 'e', 'v'], ['f', 'y', 'x'], ['f', 'g', 'f'], ['f', 's', 'o'], ['f', 'b', 'c'], ['f', 'v', 'n'], ['f', 'w', 'y'], ['f', 'g', 'r'], ['f', 'h', 'w'], ['f', 'l', 'r'], ['f', 'v', 'k'], ['f', 'e', 'n']]\n",
            "population sorted: [['f', 't', 'j'], ['f', 'c', 'q'], ['f', 's', 's'], ['f', 'j', 'f'], ['f', 'w', 'd'], ['f', 'm', 'f'], ['f', 'v', 'd'], ['f', 'j', 'a'], ['f', 'f', 'f'], ['f', 'x', 'k'], ['f', 't', 'q'], ['f', 'p', 'i'], ['f', 'u', 'd'], ['f', 'b', 'h'], ['f', 'v', 'p'], ['f', 'l', 'i'], ['f', 'u', 'x'], ['f', 'v', 'a'], ['f', 'v', 'j'], ['f', 'g', 'b'], ['f', 'h', 'd'], ['f', 'f', 'e'], ['f', 'd', 'q'], ['f', 't', 'k'], ['f', 'd', 'p'], ['f', 'y', 't'], ['f', 'q', 'z'], ['f', 'n', 'v'], ['f', 'd', 'l'], ['f', 'd', 'e'], ['f', 'u', 'e'], ['f', 'r', 't'], ['f', 'z', 'v'], ['f', 'n', 'r'], ['f', 'g', 't'], ['f', 'f', 'o'], ['f', 'v', 'u'], ['f', 'u', 'r'], ['f', 'v', 'e'], ['f', 'x', 'w'], ['f', 'm', 'r'], ['f', 'f', 'h'], ['f', 't', 'j'], ['f', 'z', 'v'], ['f', 'a', 'i'], ['f', 'w', 'g'], ['f', 't', 'a'], ['f', 'r', 'k'], ['f', 'z', 'r'], ['f', 'd', 'a']]\n",
            "population sorted: [['f', 'e', 'd'], ['f', 'z', 'd'], ['f', 'g', 'n'], ['f', 'h', 'q'], ['f', 'v', 'y'], ['f', 'o', 'c'], ['f', 'i', 'h'], ['f', 'b', 't'], ['f', 'j', 'a'], ['f', 'h', 'n'], ['f', 'b', 'm'], ['f', 'x', 'q'], ['f', 'c', 'z'], ['f', 'f', 'i'], ['f', 'w', 'j'], ['f', 'e', 'g'], ['f', 'r', 'c'], ['f', 'm', 't'], ['f', 'u', 'b'], ['f', 'l', 'i'], ['f', 't', 'f'], ['f', 'k', 'o'], ['f', 'a', 't'], ['f', 'd', 't'], ['f', 'j', 's'], ['f', 'n', 'j'], ['f', 'c', 'e'], ['f', 'o', 'k'], ['f', 'y', 'b'], ['f', 'z', 'k'], ['f', 'q', 'c'], ['f', 'h', 'f'], ['f', 'n', 'v'], ['f', 'b', 'j'], ['f', 'j', 'q'], ['f', 'k', 'o'], ['f', 'q', 'y'], ['f', 'l', 's'], ['f', 'z', 'k'], ['f', 'f', 'p'], ['f', 'h', 'q'], ['f', 'x', 'd'], ['f', 'l', 'a'], ['f', 'g', 'd'], ['f', 'd', 'b'], ['f', 'a', 'r'], ['f', 'y', 'q'], ['f', 'y', 'z'], ['f', 'h', 's'], ['f', 'i', 'm']]\n",
            "population sorted: [['f', 'e', 'z'], ['f', 'z', 'x'], ['f', 'g', 'a'], ['f', 'z', 'j'], ['f', 'n', 'a'], ['f', 'c', 'h'], ['f', 't', 'h'], ['f', 'r', 'c'], ['f', 'z', 'i'], ['f', 'i', 'u'], ['f', 'i', 'z'], ['f', 'u', 'i'], ['f', 'z', 'w'], ['f', 'w', 'g'], ['f', 'u', 'e'], ['f', 'j', 'x'], ['f', 'e', 'b'], ['f', 'e', 'o'], ['f', 'o', 'u'], ['f', 'm', 'v'], ['f', 'z', 's'], ['f', 'l', 'c'], ['f', 'a', 'n'], ['f', 'b', 'd'], ['f', 'q', 'o'], ['f', 'q', 'y'], ['f', 'c', 's'], ['f', 'f', 'y'], ['f', 'i', 'd'], ['f', 'm', 'b'], ['f', 'z', 'o'], ['f', 'e', 'x'], ['f', 'a', 'g'], ['f', 'x', 'm'], ['f', 'u', 'i'], ['f', 'i', 'v'], ['f', 'q', 't'], ['f', 'p', 'n'], ['f', 'x', 'z'], ['f', 'w', 'r'], ['f', 'q', 'y'], ['f', 'x', 'o'], ['f', 't', 's'], ['f', 'c', 'y'], ['f', 'l', 'l'], ['f', 's', 'f'], ['f', 'x', 'l'], ['f', 'z', 'a'], ['f', 'f', 'x'], ['f', 'a', 'o']]\n",
            "population sorted: [['f', 'l', 'j'], ['f', 'n', 'w'], ['f', 'v', 'h'], ['f', 'k', 'r'], ['f', 'a', 'o'], ['f', 'f', 'h'], ['f', 'c', 'f'], ['f', 'd', 'd'], ['f', 'y', 's'], ['f', 'f', 't'], ['f', 'k', 'm'], ['f', 'i', 'g'], ['f', 'v', 'p'], ['f', 'x', 'y'], ['f', 'a', 'p'], ['f', 'z', 'a'], ['f', 'v', 'h'], ['f', 'w', 'm'], ['f', 'n', 'a'], ['f', 'i', 'b'], ['f', 'v', 'k'], ['f', 'e', 'b'], ['f', 'w', 'v'], ['f', 'a', 'h'], ['f', 'x', 'a'], ['f', 't', 'y'], ['f', 'v', 'd'], ['f', 'r', 'v'], ['f', 'k', 'q'], ['f', 't', 'e'], ['f', 'b', 'b'], ['f', 'b', 'c'], ['f', 'v', 'z'], ['f', 'i', 'a'], ['f', 'r', 'l'], ['f', 'i', 'j'], ['f', 'i', 'u'], ['f', 'o', 'k'], ['f', 'c', 'u'], ['f', 'w', 'h'], ['f', 'c', 'f'], ['f', 'z', 'i'], ['f', 'h', 'y'], ['f', 'n', 'v'], ['f', 'r', 'r'], ['f', 'w', 'u'], ['f', 'r', 'k'], ['f', 'w', 'y'], ['f', 'z', 'i'], ['f', 'p', 'a']]\n",
            "population sorted: [['f', 'k', 'v'], ['f', 'c', 'h'], ['f', 'w', 'e'], ['f', 'q', 't'], ['f', 'p', 'o'], ['f', 'w', 'z'], ['f', 'v', 'x'], ['f', 'y', 'l'], ['f', 'k', 'u'], ['f', 'z', 'f'], ['f', 'x', 'u'], ['f', 'v', 'g'], ['f', 's', 'y'], ['f', 'p', 'f'], ['f', 'v', 'f'], ['f', 'y', 'q'], ['f', 'e', 'n'], ['f', 'i', 'z'], ['f', 'd', 'j'], ['f', 'l', 'z'], ['f', 'b', 'x'], ['f', 'b', 'm'], ['f', 'y', 'f'], ['f', 't', 'd'], ['f', 'a', 'h'], ['f', 'n', 'o'], ['f', 'f', 'f'], ['f', 'h', 'u'], ['f', 'i', 'q'], ['f', 's', 'c'], ['f', 'u', 'd'], ['f', 'g', 'h'], ['f', 'n', 'j'], ['f', 'f', 'p'], ['f', 'h', 'j'], ['f', 'x', 'p'], ['f', 't', 'p'], ['f', 'a', 'n'], ['f', 'u', 'n'], ['f', 'x', 'h'], ['f', 'g', 'e'], ['f', 'x', 'x'], ['f', 't', 'r'], ['f', 't', 'w'], ['f', 'm', 'q'], ['f', 'x', 'l'], ['f', 'f', 'w'], ['f', 'v', 'u'], ['f', 's', 'i'], ['f', 'h', 'x']]\n",
            "population sorted: [['f', 't', 'w'], ['f', 'x', 'p'], ['f', 'x', 'z'], ['f', 'e', 'm'], ['f', 'b', 'k'], ['f', 'm', 'b'], ['f', 'c', 'i'], ['f', 'v', 'l'], ['f', 'e', 'u'], ['f', 'z', 't'], ['f', 'h', 'g'], ['f', 'h', 'a'], ['f', 'o', 'j'], ['f', 'b', 'p'], ['f', 't', 'f'], ['f', 'g', 'a'], ['f', 'y', 'o'], ['f', 'f', 'm'], ['f', 'y', 'm'], ['f', 'l', 'm'], ['f', 'f', 'r'], ['f', 'l', 'p'], ['f', 'r', 'q'], ['f', 'a', 'x'], ['f', 'z', 'd'], ['f', 'o', 'd'], ['f', 'z', 'o'], ['f', 'u', 'i'], ['f', 'k', 'a'], ['f', 'q', 'w'], ['f', 'a', 'b'], ['f', 'n', 'q'], ['f', 's', 'u'], ['f', 't', 'w'], ['f', 'c', 'v'], ['f', 'f', 's'], ['f', 'o', 'u'], ['f', 'u', 'e'], ['f', 'a', 'b'], ['f', 't', 't'], ['f', 'q', 'r'], ['f', 'o', 's'], ['f', 'z', 'z'], ['f', 't', 'u'], ['f', 'r', 'f'], ['f', 'b', 's'], ['f', 'y', 'h'], ['f', 'u', 'd'], ['f', 'e', 'm'], ['f', 'k', 'z']]\n",
            "population sorted: [['f', 'j', 'b'], ['f', 'i', 'j'], ['f', 'm', 't'], ['f', 'w', 'z'], ['f', 't', 'x'], ['f', 'q', 't'], ['f', 'd', 'a'], ['f', 'k', 'z'], ['f', 'i', 'h'], ['f', 's', 'l'], ['f', 't', 'd'], ['f', 'k', 'f'], ['f', 'b', 'q'], ['f', 'n', 'm'], ['f', 'z', 'y'], ['f', 'h', 'l'], ['f', 'd', 'g'], ['f', 'b', 'e'], ['f', 'g', 'x'], ['f', 's', 'w'], ['f', 'x', 'j'], ['f', 'v', 'f'], ['f', 't', 'b'], ['f', 'r', 'l'], ['f', 's', 'o'], ['f', 'l', 's'], ['f', 'g', 'a'], ['f', 'b', 'r'], ['f', 'w', 'm'], ['f', 'p', 'd'], ['f', 'd', 'y'], ['f', 'f', 'd'], ['f', 'k', 'j'], ['f', 'm', 'x'], ['f', 't', 'm'], ['f', 'k', 'h'], ['f', 'z', 'f'], ['f', 't', 'e'], ['f', 'i', 's'], ['f', 'd', 'g'], ['f', 't', 'q'], ['f', 'b', 'j'], ['f', 'a', 'w'], ['f', 'c', 'n'], ['f', 'g', 'f'], ['f', 'w', 'c'], ['f', 'e', 'j'], ['f', 'e', 'g'], ['f', 'q', 't'], ['f', 'v', 'g']]\n",
            "population sorted: [['f', 'j', 'j'], ['f', 'w', 't'], ['f', 'v', 't'], ['f', 'v', 'w'], ['f', 'h', 'z'], ['f', 'c', 'b'], ['f', 'n', 'w'], ['f', 'q', 'e'], ['f', 'o', 'j'], ['f', 'u', 'k'], ['f', 'm', 'g'], ['f', 'b', 'w'], ['f', 'i', 'h'], ['f', 'o', 'z'], ['f', 'o', 'j'], ['f', 'z', 'n'], ['f', 'p', 'c'], ['f', 'a', 'b'], ['f', 'i', 'o'], ['f', 'f', 'q'], ['f', 'k', 'r'], ['f', 'v', 'f'], ['f', 's', 's'], ['f', 'x', 's'], ['f', 'l', 'e'], ['f', 'l', 'p'], ['f', 'u', 'x'], ['f', 't', 'p'], ['f', 'l', 'o'], ['f', 'k', 'p'], ['f', 'j', 'g'], ['f', 'a', 'p'], ['f', 'r', 'x'], ['f', 'n', 'r'], ['f', 'r', 'a'], ['f', 'q', 'i'], ['f', 'v', 'b'], ['f', 'e', 'j'], ['f', 'w', 'd'], ['f', 'j', 'f'], ['f', 'w', 'o'], ['f', 'f', 'm'], ['f', 'q', 'c'], ['f', 'i', 'n'], ['f', 'i', 'i'], ['f', 'y', 'q'], ['f', 'g', 'f'], ['f', 'r', 'z'], ['f', 'v', 'c'], ['f', 'z', 'j']]\n",
            "population sorted: [['f', 's', 'o'], ['f', 'c', 'e'], ['f', 'y', 'd'], ['f', 'w', 'a'], ['f', 'y', 'b'], ['f', 'm', 'l'], ['f', 'd', 'z'], ['f', 'k', 'c'], ['f', 'p', 'l'], ['f', 'y', 'e'], ['f', 'b', 'q'], ['f', 's', 'z'], ['f', 'x', 'f'], ['f', 'd', 'k'], ['f', 'x', 'j'], ['f', 'q', 'q'], ['f', 'x', 'y'], ['f', 'u', 'c'], ['f', 'j', 'l'], ['f', 't', 'z'], ['f', 'q', 'h'], ['f', 'm', 'k'], ['f', 'c', 'n'], ['f', 'w', 'm'], ['f', 'i', 'w'], ['f', 's', 'a'], ['f', 'j', 'h'], ['f', 'l', 'y'], ['f', 'q', 'h'], ['f', 's', 'q'], ['f', 's', 'a'], ['f', 'm', 'y'], ['f', 'm', 'p'], ['f', 'h', 's'], ['f', 'm', 'l'], ['f', 'v', 'i'], ['f', 'b', 'c'], ['f', 's', 'a'], ['f', 't', 'v'], ['f', 'h', 'z'], ['f', 's', 'w'], ['f', 't', 'r'], ['f', 'b', 'b'], ['f', 'w', 'z'], ['f', 'i', 'm'], ['f', 'g', 'x'], ['f', 'k', 'n'], ['f', 'e', 'e'], ['f', 'h', 'm'], ['f', 'j', 'a']]\n",
            "population sorted: [['f', 'r', 'f'], ['f', 'b', 'h'], ['f', 'h', 'p'], ['f', 'c', 'x'], ['f', 'k', 'u'], ['f', 'r', 'y'], ['f', 'y', 'i'], ['f', 'm', 'i'], ['f', 's', 'l'], ['f', 'q', 'f'], ['f', 'f', 'c'], ['f', 'h', 'f'], ['f', 'f', 'y'], ['f', 'w', 'b'], ['f', 'm', 's'], ['f', 'e', 'y'], ['f', 'n', 'a'], ['f', 'm', 'n'], ['f', 'x', 'p'], ['f', 'c', 'z'], ['f', 'r', 'e'], ['f', 'b', 'e'], ['f', 'i', 'x'], ['f', 'c', 'y'], ['f', 'a', 'e'], ['f', 'q', 'b'], ['f', 'j', 'h'], ['f', 'y', 'x'], ['f', 'k', 'u'], ['f', 't', 'x'], ['f', 's', 'm'], ['f', 'c', 'i'], ['f', 'y', 'c'], ['f', 'o', 'n'], ['f', 'e', 'r'], ['f', 'e', 'o'], ['f', 'n', 'h'], ['f', 'e', 'e'], ['f', 'k', 'w'], ['f', 'l', 'y'], ['f', 's', 'n'], ['f', 'v', 'i'], ['f', 'i', 'm'], ['f', 'a', 'q'], ['f', 'h', 'w'], ['f', 'n', 'g'], ['f', 'z', 'f'], ['f', 'g', 'l'], ['f', 'b', 'a'], ['f', 'v', 'u']]\n",
            "population sorted: [['f', 'j', 'l'], ['f', 'z', 'c'], ['f', 'a', 'c'], ['f', 'o', 'l'], ['f', 'u', 'u'], ['f', 's', 'f'], ['f', 'p', 'g'], ['f', 'h', 'x'], ['f', 'h', 't'], ['f', 'y', 'm'], ['f', 'p', 'z'], ['f', 'l', 'a'], ['f', 'k', 'w'], ['f', 'u', 'k'], ['f', 'g', 'c'], ['f', 'r', 'y'], ['f', 'v', 'a'], ['f', 'o', 'o'], ['f', 'u', 'o'], ['f', 'q', 'l'], ['f', 'v', 'b'], ['f', 'p', 'z'], ['f', 'i', 'x'], ['f', 'u', 't'], ['f', 'o', 'r'], ['f', 'm', 'd'], ['f', 'r', 's'], ['f', 'i', 'j'], ['f', 'a', 'l'], ['f', 'l', 'c'], ['f', 'y', 'f'], ['f', 'e', 'c'], ['f', 'n', 'h'], ['f', 'b', 'c'], ['f', 't', 'y'], ['f', 'e', 'k'], ['f', 'c', 'n'], ['f', 'l', 'r'], ['f', 'd', 'e'], ['f', 'e', 'v'], ['f', 'l', 'j'], ['f', 'w', 'a'], ['f', 'u', 'n'], ['f', 'k', 'q'], ['f', 'q', 'z'], ['f', 'b', 'c'], ['f', 'p', 'q'], ['f', 'f', 'd'], ['f', 'r', 'o'], ['f', 'f', 'v']]\n",
            "population sorted: [['f', 'x', 'p'], ['f', 'i', 'a'], ['f', 't', 'u'], ['f', 'i', 'u'], ['f', 'c', 'n'], ['f', 'j', 'k'], ['f', 'z', 'd'], ['f', 'd', 'q'], ['f', 'p', 'i'], ['f', 's', 'f'], ['f', 'i', 'v'], ['f', 'q', 'f'], ['f', 'a', 'q'], ['f', 'w', 't'], ['f', 'o', 'n'], ['f', 'y', 'k'], ['f', 'e', 'h'], ['f', 'j', 'v'], ['f', 't', 't'], ['f', 'b', 'u'], ['f', 'i', 'e'], ['f', 'm', 'w'], ['f', 't', 'l'], ['f', 'u', 'e'], ['f', 'a', 'p'], ['f', 'h', 'q'], ['f', 't', 'n'], ['f', 'c', 'w'], ['f', 'f', 'p'], ['f', 'f', 't'], ['f', 'h', 'q'], ['f', 'z', 'c'], ['f', 'i', 'h'], ['f', 'o', 'u'], ['f', 'q', 's'], ['f', 'j', 'l'], ['f', 'w', 'j'], ['f', 'e', 'x'], ['f', 'r', 'f'], ['f', 'z', 'g'], ['f', 'q', 'j'], ['f', 'y', 'x'], ['f', 'e', 'x'], ['f', 'o', 'k'], ['f', 't', 'x'], ['f', 'x', 'y'], ['f', 'b', 'm'], ['f', 'w', 'f'], ['f', 'v', 'd'], ['f', 'e', 'q']]\n",
            "population sorted: [['f', 'p', 'l'], ['f', 'p', 'c'], ['f', 'e', 't'], ['f', 'y', 'm'], ['f', 'n', 'z'], ['f', 'm', 's'], ['f', 'w', 'p'], ['f', 'a', 'i'], ['f', 'm', 'a'], ['f', 'e', 'n'], ['f', 'x', 'd'], ['f', 'y', 'n'], ['f', 'f', 't'], ['f', 'r', 'a'], ['f', 'i', 'v'], ['f', 'g', 'q'], ['f', 's', 'p'], ['f', 'r', 'b'], ['f', 'u', 'i'], ['f', 'c', 'n'], ['f', 'j', 't'], ['f', 'g', 'p'], ['f', 'f', 'l'], ['f', 'b', 'i'], ['f', 'i', 'r'], ['f', 'k', 'i'], ['f', 'u', 'l'], ['f', 'i', 'v'], ['f', 'g', 'w'], ['f', 's', 's'], ['f', 'q', 'p'], ['f', 'f', 'w'], ['f', 't', 'z'], ['f', 'w', 'l'], ['f', 'v', 'g'], ['f', 'c', 'n'], ['f', 'u', 'x'], ['f', 'o', 'n'], ['f', 'g', 'x'], ['f', 'z', 'k'], ['f', 'a', 'b'], ['f', 'j', 'o'], ['f', 'z', 'o'], ['f', 'h', 'u'], ['f', 'n', 'c'], ['f', 'i', 'y'], ['f', 'b', 'f'], ['f', 'r', 'c'], ['f', 'l', 'p'], ['f', 'y', 'k']]\n",
            "population sorted: [['f', 'e', 'g'], ['f', 'c', 'n'], ['f', 'x', 'm'], ['f', 'f', 'h'], ['f', 'm', 'a'], ['f', 'm', 'b'], ['f', 'v', 'x'], ['f', 'v', 'c'], ['f', 'z', 'i'], ['f', 'e', 'g'], ['f', 's', 'b'], ['f', 'k', 'r'], ['f', 'o', 'd'], ['f', 'c', 'v'], ['f', 'q', 'y'], ['f', 'g', 'i'], ['f', 'n', 'o'], ['f', 'f', 'q'], ['f', 'w', 'b'], ['f', 'd', 'n'], ['f', 'p', 'j'], ['f', 'w', 'f'], ['f', 'u', 'f'], ['f', 'a', 'y'], ['f', 'h', 'e'], ['f', 'q', 'z'], ['f', 'c', 'c'], ['f', 'g', 't'], ['f', 'b', 't'], ['f', 'o', 'n'], ['f', 'c', 'v'], ['f', 'v', 'b'], ['f', 'f', 'r'], ['f', 'l', 'd'], ['f', 'i', 'q'], ['f', 'v', 'p'], ['f', 'i', 'x'], ['f', 'd', 's'], ['f', 'x', 'r'], ['f', 'z', 'p'], ['f', 'n', 'a'], ['f', 't', 'g'], ['f', 'j', 'o'], ['f', 'l', 'e'], ['f', 'i', 'p'], ['f', 'j', 'o'], ['f', 'f', 'o'], ['f', 'j', 'i'], ['f', 's', 'h'], ['f', 'i', 'e']]\n",
            "population sorted: [['f', 'l', 'q'], ['f', 'k', 'h'], ['f', 'h', 'k'], ['f', 'd', 'h'], ['f', 'j', 'x'], ['f', 'o', 'c'], ['f', 'p', 'c'], ['f', 'h', 'c'], ['f', 'q', 't'], ['f', 'n', 'k'], ['f', 'e', 'e'], ['f', 'c', 'y'], ['f', 'k', 'q'], ['f', 'x', 'u'], ['f', 'u', 'a'], ['f', 'c', 'x'], ['f', 'f', 'c'], ['f', 't', 'q'], ['f', 'o', 'h'], ['f', 'm', 'a'], ['f', 'm', 'o'], ['f', 'g', 'k'], ['f', 'm', 'm'], ['f', 'y', 'b'], ['f', 'y', 'd'], ['f', 'u', 'o'], ['f', 'v', 'v'], ['f', 'y', 'n'], ['f', 'f', 'd'], ['f', 'x', 'u'], ['f', 'n', 'e'], ['f', 'b', 'k'], ['f', 'n', 'l'], ['f', 'u', 'q'], ['f', 'r', 'a'], ['f', 'p', 'h'], ['f', 'n', 'r'], ['f', 'd', 'a'], ['f', 't', 'p'], ['f', 'x', 'f'], ['f', 'g', 'v'], ['f', 'b', 'w'], ['f', 'f', 'w'], ['f', 'n', 'a'], ['f', 'f', 'u'], ['f', 'n', 'a'], ['f', 'n', 'e'], ['f', 'x', 'o'], ['f', 'd', 'u'], ['f', 't', 'y']]\n",
            "population sorted: [['f', 't', 'd'], ['f', 'f', 'y'], ['f', 'i', 'k'], ['f', 'd', 'w'], ['f', 'd', 'w'], ['f', 'e', 'p'], ['f', 'z', 'y'], ['f', 'n', 'c'], ['f', 'd', 't'], ['f', 't', 'c'], ['f', 'k', 'v'], ['f', 'i', 'h'], ['f', 'z', 'h'], ['f', 's', 'x'], ['f', 'h', 'g'], ['f', 'k', 'b'], ['f', 'z', 'g'], ['f', 'k', 'n'], ['f', 'l', 's'], ['f', 'q', 'n'], ['f', 'n', 'x'], ['f', 'w', 'u'], ['f', 'o', 'e'], ['f', 'd', 'w'], ['f', 'q', 'n'], ['f', 'x', 'a'], ['f', 'p', 'i'], ['f', 'k', 'k'], ['f', 'l', 's'], ['f', 'v', 'q'], ['f', 'u', 'm'], ['f', 'q', 'h'], ['f', 's', 'w'], ['f', 'v', 'p'], ['f', 'v', 'o'], ['f', 'g', 't'], ['f', 'g', 'd'], ['f', 'o', 'q'], ['f', 'h', 'k'], ['f', 'v', 'k'], ['f', 'w', 'l'], ['f', 'z', 'g'], ['f', 'o', 'i'], ['f', 'o', 'c'], ['f', 'k', 'n'], ['f', 'l', 'd'], ['f', 'q', 'h'], ['f', 'e', 'd'], ['f', 'q', 'l'], ['f', 'o', 'i']]\n",
            "population sorted: [['f', 'n', 'u'], ['f', 'u', 'a'], ['f', 'o', 'n'], ['f', 'i', 'g'], ['f', 'x', 'v'], ['f', 'e', 'h'], ['f', 't', 't'], ['f', 'r', 'f'], ['f', 'u', 'k'], ['f', 'c', 'a'], ['f', 'j', 'h'], ['f', 'y', 'r'], ['f', 'y', 'w'], ['f', 't', 'h'], ['f', 'w', 'd'], ['f', 'h', 'k'], ['f', 'w', 'v'], ['f', 'y', 'v'], ['f', 'k', 'a'], ['f', 'm', 'p'], ['f', 'f', 'p'], ['f', 'd', 'm'], ['f', 'n', 'q'], ['f', 'w', 'c'], ['f', 'l', 'k'], ['f', 'c', 'b'], ['f', 'm', 'b'], ['f', 'k', 'o'], ['f', 'f', 'j'], ['f', 'c', 'j'], ['f', 'v', 'e'], ['f', 't', 'q'], ['f', 'k', 'm'], ['f', 'h', 'b'], ['f', 'd', 'u'], ['f', 'f', 'c'], ['f', 'j', 's'], ['f', 'k', 's'], ['f', 'p', 'l'], ['f', 's', 'c'], ['f', 'd', 'b'], ['f', 'b', 'f'], ['f', 'j', 'y'], ['f', 'm', 't'], ['f', 'd', 'p'], ['f', 'e', 'e'], ['f', 'g', 'd'], ['f', 'y', 'o'], ['f', 'o', 'e'], ['f', 's', 'j']]\n",
            "population sorted: [['f', 'k', 'z'], ['f', 'i', 'i'], ['f', 'f', 'v'], ['f', 'q', 'q'], ['f', 'i', 'w'], ['f', 'u', 'r'], ['f', 'b', 'j'], ['f', 'l', 'g'], ['f', 'p', 'g'], ['f', 'z', 'g'], ['f', 'n', 'y'], ['f', 'c', 't'], ['f', 'n', 'j'], ['f', 't', 'v'], ['f', 'e', 'b'], ['f', 'z', 'y'], ['f', 'q', 's'], ['f', 'p', 'j'], ['f', 'i', 't'], ['f', 'j', 'i'], ['f', 'i', 'g'], ['f', 'r', 'i'], ['f', 'a', 's'], ['f', 'h', 'a'], ['f', 'a', 't'], ['f', 'a', 'w'], ['f', 'e', 'q'], ['f', 'a', 't'], ['f', 'g', 'd'], ['f', 'y', 't'], ['f', 'm', 'o'], ['f', 'n', 'g'], ['f', 'c', 'p'], ['f', 't', 'j'], ['f', 'l', 'm'], ['f', 'n', 'w'], ['f', 'n', 'r'], ['f', 'u', 'z'], ['f', 'w', 'y'], ['f', 'h', 'j'], ['f', 's', 'q'], ['f', 'c', 'l'], ['f', 'f', 'v'], ['f', 'z', 'q'], ['f', 't', 'w'], ['f', 't', 'u'], ['f', 'q', 'o'], ['f', 'a', 'y'], ['f', 'j', 'c'], ['f', 'e', 'u']]\n",
            "Found gene in 21 iterations at index 18\n"
          ],
          "name": "stdout"
        },
        {
          "output_type": "execute_result",
          "data": {
            "text/plain": [
              "['f', 'i', 't']"
            ]
          },
          "metadata": {
            "tags": []
          },
          "execution_count": 145
        }
      ]
    },
    {
      "cell_type": "code",
      "metadata": {
        "id": "n05xQ6EL7aYW",
        "colab_type": "code",
        "colab": {
          "base_uri": "https://localhost:8080/",
          "height": 299
        },
        "outputId": "44d40630-ed59-4d2c-f42d-b4c654915511"
      },
      "source": [
        "x = cords[0]\n",
        "y = cords[1]\n",
        "print(\"iterations\" , x)  \n",
        "print(\"most fit parent\" , y)\n",
        "plt.plot(x,y,\"o\")\n",
        "plt.show()"
      ],
      "execution_count": null,
      "outputs": [
        {
          "output_type": "stream",
          "text": [
            "iterations [1, 2, 3, 4, 5, 6, 7, 8, 9, 10, 11, 12, 13, 14, 15, 16, 17, 18, 19, 20]\n",
            "most fit parent [0, 2, 2, 2, 2, 0, 2, 2, 0, 0, 2, 0, 2, 0, 2, 2, 0, 2, 2, 2]\n"
          ],
          "name": "stdout"
        },
        {
          "output_type": "display_data",
          "data": {
            "image/png": "[encoded data removed]",
            "text/plain": [
              "<Figure size 432x288 with 1 Axes>"
            ]
          },
          "metadata": {
            "tags": []
          }
        }
      ]
    }
  ]
}