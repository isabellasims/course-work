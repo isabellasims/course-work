{
  "nbformat": 4,
  "nbformat_minor": 0,
  "metadata": {
    "colab": {
      "name": "Algs hw 7",
      "provenance": [],
      "authorship_tag": "ABX9TyOtypxAtiSy7TM/3xJvI3v4",
      "include_colab_link": true
    },
    "kernelspec": {
      "name": "python3",
      "display_name": "Python 3"
    }
  },
  "cells": [
    {
      "cell_type": "markdown",
      "metadata": {
        "id": "view-in-github",
        "colab_type": "text"
      },
      "source": [
        "<a href=\"https://colab.research.google.com/github/isabellasims/course-work/blob/master/Algs_hw_7.ipynb\" target=\"_parent\"><img src=\"https://colab.research.google.com/assets/colab-badge.svg\" alt=\"Open In Colab\"/></a>"
      ]
    },
    {
      "cell_type": "markdown",
      "metadata": {
        "id": "nXpkAq2hFu0g"
      },
      "source": [
        "Isabella Sims"
      ]
    },
    {
      "cell_type": "markdown",
      "metadata": {
        "id": "iCLliMCc4z3K"
      },
      "source": [
        "Consider the presentation that we had in the class on the following topics:\n",
        "\n",
        "\n",
        "- Consistency heuristic\n",
        "- Educated guess\n",
        "- Absurdity heuristic\n",
        "- Common sense\n",
        "- Contagion heuristic\n",
        "- Availability heuristic\n",
        "- Working backward\n",
        "- Familiarity heuristic\n",
        "- Scarcity heuristic\n",
        "- Rule of thumb\n",
        "- Affect heuristic\n",
        "\n",
        "\n",
        "CHOOSE ONLY 5 From the above List.\n",
        "\n",
        "You are required to briefly define your own way (not using the definition given in\n",
        "the presentation) these heuristics and provide an example (in a real practical case\n",
        "of developing an algorithm in solving a problem).\n",
        "\n",
        "Define your problem clearly and show how your heuristic can be used in\n",
        "developing the algorithm to solve the problem (or part of it). "
      ]
    },
    {
      "cell_type": "markdown",
      "metadata": {
        "id": "gZkFINM85L2b"
      },
      "source": [
        "\n",
        "**Topic**\n",
        "Educated Guess\n",
        "\n",
        "\n",
        "\n",
        "**Own Definition**\n",
        "A heuristic that draws conclusions based on what is currently known and what has been learned in the past. The decision uses that history and applies it to a new question where the answer is currently unknown. An educated guess is not research-based, rather it is a decision made from prevoius knowledge and no new knowledge is used or saught out to approximate the answer to the question.\n",
        "\n",
        "**Example**\n",
        "A multiple choice test\n",
        "\n",
        "\n",
        "**Problem**\n",
        "I am unsure what the answer is to a multiple choice problem on my exam. The question is:\n",
        "\n",
        "what is the most common blood type?\n",
        "\n",
        "A. O+\n",
        "\n",
        "B. O-\n",
        "\n",
        "C. AB - \n",
        "\n",
        "D. A+\n",
        "\n",
        "\n",
        "**Decision**\n",
        "Instead of chosing a random answer, I cross off the answers I know not to be true. My mother is AB - and has said that it is rare, so I cross out C. I know I have heard that one O type is the most common, so I cross out D as well. I myself am O- and have been told that I am the universal doner, but never that I have the most common blood type. I feel it is likely that I would have also been told at some point that I am the most common blood type if I was. So, I assume that B is incorrect and choose A. (O+) as my answer. "
      ]
    },
    {
      "cell_type": "markdown",
      "metadata": {
        "id": "KKzUCHV06l0I"
      },
      "source": [
        "**Topic** Common Sense\n",
        "\n",
        "**Own Definition** A common sense decision is made when it seems there is a clear answer to the question based on someones observation of a situation. The decision is rational, sound, and practical. A persons ability to consistently make good judgement calls is reflective of their common sense. \n",
        "\n",
        "\n",
        "**Example**\n",
        "I am locked out of my computer\n",
        "\n",
        "\n",
        "\n",
        "**Problem**\n",
        "I am attempting to log in to my computer and I keep being notified my entered password is incorrect. I try a few more times and am very careful to type the exact letters I am attempting to answer. I can either spent the rest of my evening re-attempting the same password and not beleiving it is actually incorrect or I can decide to change my password.\n",
        "\n",
        "\n",
        "**Decision**\n",
        "After a few, careful attempts, I reset my password and am let back in to my computer. The opposite of common sense is trying the same solution over and over again while expecting different results. I see that everytime I enter my password I remain incorrect, so I assume I have forgotten the password, reset it, and am able to access my computer again."
      ]
    },
    {
      "cell_type": "markdown",
      "metadata": {
        "id": "vY4VYLeD6kLO"
      },
      "source": [
        "**Topic** Availability\n",
        "\n",
        "**Own Definition** allows someone to make a decision based on similar situations that come to mind that would reasonably be applicable to ones current situation. \n",
        "\n",
        "**Example**\n",
        "I am in a rush to an event I am late for. \n",
        "\n",
        "\n",
        "**Problem**\n",
        "I am driving my car to an event I am late for. I can either speed or go a regular pace and be minimally late to the event.\n",
        "\n",
        "\n",
        "\n",
        "**Decision**\n",
        "I remember two of my friends who were in similar situations. One got a large speeding ticket from a speed trap camera for $200. The other was pulled over and was far more late for their event than they would have had the not sped. I decide not to speed because the potential risks outweigh the rewards based off of examples I recalled.\n"
      ]
    },
    {
      "cell_type": "markdown",
      "metadata": {
        "id": "UE2BH7EeAhlK"
      },
      "source": [
        "**Topic** Scarcity\n",
        "\n",
        "**Own Definition**\n",
        "Scarcity is used when the item in question is or becomes \"rare\", thus making it more desirable to the decision maker. \n",
        "\n",
        "**Example**\n",
        "A raffle for free bungy jumping at 8 in the morning\n",
        "\n",
        "\n",
        "**Problem**\n",
        "(true story) I am abroad and there is a raffle for free bungee jumping taking place at 8am. I had planned to get up at 6am so I would have time to eat breakfast but overslept until 7am. The raffle is about a 45 minute walk from my dorm room.\n",
        "\n",
        "\n",
        "\n",
        "**Decision**\n",
        "\n",
        "As much as I love pancakes and coffee, I decide to skip breakfast and hurry over to the raffle so I can make it in time. This is the only bungee jumping raffle of the semester, making me percieve it as a rare opportunity, and I decide that one day without breakfast is worth an opportunity to win the raffle."
      ]
    },
    {
      "cell_type": "markdown",
      "metadata": {
        "id": "JdUlzZIjAh1q"
      },
      "source": [
        "**Topic** Affect\n",
        "\n",
        "**Own Definition** An Affect heuristic is when you make a quick judgement based on the little information provided. The decision of whether the person/thing in question is good or bad is fast and made without any other research or consideration. This can end well or end poorly. It is similar to the concept of first impressions or \"trusting your gut\"\n",
        "\n",
        "**Example**\n",
        "Judging a person based on their first impression\n",
        "\n",
        "**Problem**\n",
        "I am conducting 5 minute interviews for a week long position where the successful candidate will critique my website and offer ideas for improvement. 2 people show up for the interview.\n",
        "\n",
        "\n",
        "**Decision**\n",
        "The first one is stern and underdressed. I make a snap judgement call that they are grouchy and lazy and decide not to hire them for the position. The second one is extremely friendly and dressed well, I decide that she seems hard working and fun to work with. I hire her for the position. \n",
        "\n",
        "At the end of the position, she turns in her feedback to me which reads: \"everything is perfect, I wouldn't change a thing!\"\n",
        "\n",
        "In this situation, the Affect method or snap judgement has failed me. Her feedback is useless and I'm out $100. I wish I had hired the other candidate for the position."
      ]
    }
  ]
}