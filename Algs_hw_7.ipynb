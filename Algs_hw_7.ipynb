{
  "nbformat": 4,
  "nbformat_minor": 0,
  "metadata": {
    "colab": {
      "name": "Algs hw 7",
      "provenance": [],
      "authorship_tag": "ABX9TyOjRzWvxmMxXbjnQVJHe0A4",
      "include_colab_link": true
    },
    "kernelspec": {
      "name": "python3",
      "display_name": "Python 3"
    }
  },
  "cells": [
    {
      "cell_type": "markdown",
      "metadata": {
        "id": "view-in-github",
        "colab_type": "text"
      },
      "source": [
        "<a href=\"https://colab.research.google.com/github/isabellasims/course-work/blob/master/Algs_hw_7.ipynb\" target=\"_parent\"><img src=\"https://colab.research.google.com/assets/colab-badge.svg\" alt=\"Open In Colab\"/></a>"
      ]
    },
    {
      "cell_type": "code",
      "metadata": {
        "id": "Esz5EWAi4sN1"
      },
      "source": [
        ""
      ],
      "execution_count": null,
      "outputs": []
    },
    {
      "cell_type": "markdown",
      "metadata": {
        "id": "iCLliMCc4z3K"
      },
      "source": [
        "Consider the presentation that we had in the class on the following topics:\n",
        "\n",
        "\n",
        "- Consistency heuristic\n",
        "- Educated guess\n",
        "- Absurdity heuristic\n",
        "- Common sense\n",
        "- Contagion heuristic\n",
        "- Availability heuristic\n",
        "- Working backward\n",
        "- Familiarity heuristic\n",
        "- Scarcity heuristic\n",
        "- Rule of thumb\n",
        "- Affect heuristic\n",
        "\n",
        "\n",
        "CHOOSE ONLY 5 From the above List.\n",
        "\n",
        "You are required to briefly define your own way (not using the definition given in\n",
        "the presentation) these heuristics and provide an example (in a real practical case\n",
        "of developing an algorithm in solving a problem).\n",
        "\n",
        "Define your problem clearly and show how your heuristic can be used in\n",
        "developing the algorithm to solve the problem (or part of it). "
      ]
    },
    {
      "cell_type": "markdown",
      "metadata": {
        "id": "gZkFINM85L2b"
      },
      "source": [
        "**Problem**\n",
        "\n",
        "\n",
        "\n",
        "**Decision**"
      ]
    },
    {
      "cell_type": "markdown",
      "metadata": {
        "id": "Y1gF1edV5Tn-"
      },
      "source": [
        "**Problem**\n",
        "\n",
        "\n",
        "\n",
        "**Decision**"
      ]
    },
    {
      "cell_type": "markdown",
      "metadata": {
        "id": "spAVRw9w5T38"
      },
      "source": [
        "**Problem**\n",
        "\n",
        "\n",
        "\n",
        "**Decision**"
      ]
    },
    {
      "cell_type": "markdown",
      "metadata": {
        "id": "IWD1VpkP5UDM"
      },
      "source": [
        "**Problem**\n",
        "\n",
        "\n",
        "\n",
        "**Decision**"
      ]
    },
    {
      "cell_type": "markdown",
      "metadata": {
        "id": "wOvSdPUH5Ur6"
      },
      "source": [
        "**Problem**\n",
        "\n",
        "\n",
        "\n",
        "**Decision**"
      ]
    }
  ]
}