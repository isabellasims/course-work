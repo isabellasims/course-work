{
  "nbformat": 4,
  "nbformat_minor": 0,
  "metadata": {
    "colab": {
      "name": "Algs hw 4",
      "provenance": [],
      "authorship_tag": "ABX9TyMSu6lm+OMlt2jmtV+5YnvR",
      "include_colab_link": true
    },
    "kernelspec": {
      "name": "python3",
      "display_name": "Python 3"
    }
  },
  "cells": [
    {
      "cell_type": "markdown",
      "metadata": {
        "id": "view-in-github",
        "colab_type": "text"
      },
      "source": [
        "<a href=\"https://colab.research.google.com/github/isabellasims/course-work/blob/master/Algs_hw_4.ipynb\" target=\"_parent\"><img src=\"https://colab.research.google.com/assets/colab-badge.svg\" alt=\"Open In Colab\"/></a>"
      ]
    },
    {
      "cell_type": "markdown",
      "metadata": {
        "id": "umOP23Q60SkD"
      },
      "source": [
        "1. A directed graph with n vertices is called YUCCA if there is a vertex with indegree 0 and\n",
        "outdegree n-1. For example, the following is a YUCCA because node A has indegree 0 and\n",
        "outdegree n-1. "
      ]
    },
    {
      "cell_type": "markdown",
      "metadata": {
        "id": "iOUkhM7K0Tq9"
      },
      "source": [
        "Write an algorithm to test whether a graph represented as an adjacency matrix is a\n",
        "YUCCA. Your algorithm must examine only O (n) entries of the adjacency matrix. Justify the\n",
        "correctness and time complexity of your algorithm. Use the above graph to show how your\n",
        "algorithm works."
      ]
    },
    {
      "cell_type": "markdown",
      "metadata": {
        "id": "mj5Ot5h_0biW"
      },
      "source": [
        "B) Write a program to implement your algorithm in Part A. Test your program with\n",
        "different graphs to show that your graph is YUCCA and cases when it is not a YUCCA.\n",
        "Test your program with the following inputs.\n",
        "Program in .java or ….; output file as .pdf\n",
        "Provide your program, input graphs, outputs.\n",
        "\n",
        "Input: Graph 1\n",
        "\n",
        "{0, 1, 1, 0, 1},\n",
        "\n",
        "{1, 0, 1, 0, 0},\n",
        "\n",
        "{0, 1, 0, 0, 1},\n",
        "\n",
        "{1, 1, 1, 0, 1},\n",
        "\n",
        "{0, 1, 1, 0, 0}\n",
        "\n",
        "Input: Graph 2\n",
        "\n",
        "{0, 1, 1, 0},\n",
        "\n",
        "{1, 0, 1, 1},\n",
        "\n",
        "{0, 0, 0, 0},\n",
        "\n",
        "{1, 0, 1, 0}\n",
        "\n",
        "Input: Graph in Part A"
      ]
    },
    {
      "cell_type": "code",
      "metadata": {
        "id": "M_77TZlX0HC7",
        "outputId": "bb7bb9c9-b3cb-4fd8-9686-99143c96cb7f",
        "colab": {
          "base_uri": "https://localhost:8080/",
          "height": 68
        }
      },
      "source": [
        "row = 0\n",
        "matrix = [[0,1,1,1,1,1],[0,0,1,0,0,0],[0,0,0,0,0,0]]\n",
        "for i in range(len(matrix)):\n",
        "    for j in range(len(matrix[i])):\n",
        "        print(matrix[i][j], end=' ')\n",
        "        #print(sum(matrix[i][j]))\n",
        "    print()\n",
        "          \n"
      ],
      "execution_count": 41,
      "outputs": [
        {
          "output_type": "stream",
          "text": [
            "0 1 1 1 1 1 \n",
            "0 0 1 0 0 0 \n",
            "0 0 0 0 0 0 \n"
          ],
          "name": "stdout"
        }
      ]
    },
    {
      "cell_type": "code",
      "metadata": {
        "id": "CMCBexyo4C86",
        "outputId": "77dc15e8-bf3f-4d7c-83b7-a617bdc46050",
        "colab": {
          "base_uri": "https://localhost:8080/",
          "height": 215
        }
      },
      "source": [
        "for i in matrix:\n",
        "  # access column numbers\n",
        "  for j in range(len(matrix[i])):\n",
        "    print(i[j])"
      ],
      "execution_count": 45,
      "outputs": [
        {
          "output_type": "error",
          "ename": "TypeError",
          "evalue": "ignored",
          "traceback": [
            "\u001b[0;31m---------------------------------------------------------------------------\u001b[0m",
            "\u001b[0;31mTypeError\u001b[0m                                 Traceback (most recent call last)",
            "\u001b[0;32m<ipython-input-45-9f03019add1b>\u001b[0m in \u001b[0;36m<module>\u001b[0;34m()\u001b[0m\n\u001b[1;32m      1\u001b[0m \u001b[0;32mfor\u001b[0m \u001b[0mi\u001b[0m \u001b[0;32min\u001b[0m \u001b[0mmatrix\u001b[0m\u001b[0;34m:\u001b[0m\u001b[0;34m\u001b[0m\u001b[0;34m\u001b[0m\u001b[0m\n\u001b[1;32m      2\u001b[0m   \u001b[0;31m# access column numbers\u001b[0m\u001b[0;34m\u001b[0m\u001b[0;34m\u001b[0m\u001b[0;34m\u001b[0m\u001b[0m\n\u001b[0;32m----> 3\u001b[0;31m   \u001b[0;32mfor\u001b[0m \u001b[0mj\u001b[0m \u001b[0;32min\u001b[0m \u001b[0mrange\u001b[0m\u001b[0;34m(\u001b[0m\u001b[0mlen\u001b[0m\u001b[0;34m(\u001b[0m\u001b[0mmatrix\u001b[0m\u001b[0;34m[\u001b[0m\u001b[0mi\u001b[0m\u001b[0;34m]\u001b[0m\u001b[0;34m)\u001b[0m\u001b[0;34m)\u001b[0m\u001b[0;34m:\u001b[0m\u001b[0;34m\u001b[0m\u001b[0;34m\u001b[0m\u001b[0m\n\u001b[0m\u001b[1;32m      4\u001b[0m     \u001b[0mprint\u001b[0m\u001b[0;34m(\u001b[0m\u001b[0mi\u001b[0m\u001b[0;34m[\u001b[0m\u001b[0mj\u001b[0m\u001b[0;34m]\u001b[0m\u001b[0;34m)\u001b[0m\u001b[0;34m\u001b[0m\u001b[0;34m\u001b[0m\u001b[0m\n",
            "\u001b[0;31mTypeError\u001b[0m: list indices must be integers or slices, not list"
          ]
        }
      ]
    },
    {
      "cell_type": "code",
      "metadata": {
        "id": "WTY6Y5GX41Tv",
        "outputId": "17c9aeef-564c-42f7-f551-7508033fae12",
        "colab": {
          "base_uri": "https://localhost:8080/",
          "height": 68
        }
      },
      "source": [
        "for i in matrix:\n",
        "  # access sum of columns\n",
        "  print(i)"
      ],
      "execution_count": 51,
      "outputs": [
        {
          "output_type": "stream",
          "text": [
            "[0, 1, 1, 1, 1, 1]\n",
            "[0, 0, 1, 0, 0, 0]\n",
            "[0, 0, 0, 0, 0, 0]\n"
          ],
          "name": "stdout"
        }
      ]
    },
    {
      "cell_type": "code",
      "metadata": {
        "id": "B-l0h60H5Xo-"
      },
      "source": [
        "for i in range(len(matrix)):\n",
        "  # access sum of columns\n",
        "  print(sum(matrix[i]))"
      ],
      "execution_count": null,
      "outputs": []
    },
    {
      "cell_type": "code",
      "metadata": {
        "id": "JzGkxd4m0ZeT",
        "outputId": "00e3d5b0-2a80-42df-c6df-5d2c23b464c5",
        "colab": {
          "base_uri": "https://localhost:8080/",
          "height": 300
        }
      },
      "source": [
        "for i in range(len(matrix)):\n",
        "  #print(matrix[i],end=' ')\n",
        "  print()\n",
        "  for j in range(len(matrix[i])-2):\n",
        "    #print(matrix[i],end=' ')\n",
        "    print(matrix[j][i],end=' ')\n",
        "    print()\n",
        "    "
      ],
      "execution_count": 25,
      "outputs": [
        {
          "output_type": "stream",
          "text": [
            "\n",
            "0 \n",
            "0 \n",
            "0 \n"
          ],
          "name": "stdout"
        },
        {
          "output_type": "error",
          "ename": "IndexError",
          "evalue": "ignored",
          "traceback": [
            "\u001b[0;31m---------------------------------------------------------------------------\u001b[0m",
            "\u001b[0;31mIndexError\u001b[0m                                Traceback (most recent call last)",
            "\u001b[0;32m<ipython-input-25-fcbb1260425e>\u001b[0m in \u001b[0;36m<module>\u001b[0;34m()\u001b[0m\n\u001b[1;32m      4\u001b[0m   \u001b[0;32mfor\u001b[0m \u001b[0mj\u001b[0m \u001b[0;32min\u001b[0m \u001b[0mrange\u001b[0m\u001b[0;34m(\u001b[0m\u001b[0mlen\u001b[0m\u001b[0;34m(\u001b[0m\u001b[0mmatrix\u001b[0m\u001b[0;34m[\u001b[0m\u001b[0mi\u001b[0m\u001b[0;34m]\u001b[0m\u001b[0;34m)\u001b[0m\u001b[0;34m-\u001b[0m\u001b[0;36m2\u001b[0m\u001b[0;34m)\u001b[0m\u001b[0;34m:\u001b[0m\u001b[0;34m\u001b[0m\u001b[0;34m\u001b[0m\u001b[0m\n\u001b[1;32m      5\u001b[0m     \u001b[0;31m#print(matrix[i],end=' ')\u001b[0m\u001b[0;34m\u001b[0m\u001b[0;34m\u001b[0m\u001b[0;34m\u001b[0m\u001b[0m\n\u001b[0;32m----> 6\u001b[0;31m     \u001b[0mprint\u001b[0m\u001b[0;34m(\u001b[0m\u001b[0mmatrix\u001b[0m\u001b[0;34m[\u001b[0m\u001b[0mj\u001b[0m\u001b[0;34m]\u001b[0m\u001b[0;34m[\u001b[0m\u001b[0mi\u001b[0m\u001b[0;34m]\u001b[0m\u001b[0;34m,\u001b[0m\u001b[0mend\u001b[0m\u001b[0;34m=\u001b[0m\u001b[0;34m' '\u001b[0m\u001b[0;34m)\u001b[0m\u001b[0;34m\u001b[0m\u001b[0;34m\u001b[0m\u001b[0m\n\u001b[0m\u001b[1;32m      7\u001b[0m     \u001b[0mprint\u001b[0m\u001b[0;34m(\u001b[0m\u001b[0;34m)\u001b[0m\u001b[0;34m\u001b[0m\u001b[0;34m\u001b[0m\u001b[0m\n\u001b[1;32m      8\u001b[0m \u001b[0;34m\u001b[0m\u001b[0m\n",
            "\u001b[0;31mIndexError\u001b[0m: list index out of range"
          ]
        }
      ]
    }
  ]
}