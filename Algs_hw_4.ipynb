{
  "nbformat": 4,
  "nbformat_minor": 0,
  "metadata": {
    "colab": {
      "name": "Algs hw 4",
      "provenance": [],
      "authorship_tag": "ABX9TyOSzXZ4L1B2f6lDSIn+Uvgb",
      "include_colab_link": true
    },
    "kernelspec": {
      "name": "python3",
      "display_name": "Python 3"
    }
  },
  "cells": [
    {
      "cell_type": "markdown",
      "metadata": {
        "id": "view-in-github",
        "colab_type": "text"
      },
      "source": [
        "<a href=\"https://colab.research.google.com/github/isabellasims/course-work/blob/master/Algs_hw_4.ipynb\" target=\"_parent\"><img src=\"https://colab.research.google.com/assets/colab-badge.svg\" alt=\"Open In Colab\"/></a>"
      ]
    },
    {
      "cell_type": "markdown",
      "metadata": {
        "id": "umOP23Q60SkD"
      },
      "source": [
        "1. A directed graph with n vertices is called YUCCA if there is a vertex with indegree 0 and\n",
        "outdegree n-1. For example, the following is a YUCCA because node A has indegree 0 and\n",
        "outdegree n-1. "
      ]
    },
    {
      "cell_type": "markdown",
      "metadata": {
        "id": "iOUkhM7K0Tq9"
      },
      "source": [
        "Write an algorithm to test whether a graph represented as an adjacency matrix is a\n",
        "YUCCA. Your algorithm must examine only O (n) entries of the adjacency matrix. Justify the\n",
        "correctness and time complexity of your algorithm. Use the above graph to show how your\n",
        "algorithm works."
      ]
    },
    {
      "cell_type": "code",
      "metadata": {
        "id": "M_77TZlX0HC7"
      },
      "source": [
        "# This is the Matrix from the graph in part A\n",
        "matrix1 = [[0,1,1,1,1,1],[0,0,1,0,0,0],[0,1,0,1,0,0],[0,0,0,0,1,0],[0,0,0,0,0,0],[0,0,0,0,1,0]]\n",
        "# Graph 1\n",
        "matrix2 = [[0, 1, 1, 0, 1],[1, 0, 1, 0, 0],[0, 1, 0, 0, 1],[1, 1, 1, 0, 1],[0, 1, 1, 0, 0]]\n",
        "# Graph 2\n",
        "matrix3 = [[0,1,1,0],[1,0,1,1],[0,0,0,0],[1,0,1,0]]\n",
        "\n",
        "# NOTE: this is not a part of my algorithm. It is just visualizes the nested lists as matrices for convenience\n",
        "def print_matrix(matrix):\n",
        "  for i in range(len(matrix)):\n",
        "      for j in range(len(matrix[i])):\n",
        "          print(matrix[i][j], end=' ')        \n",
        "      print()\n",
        "          \n"
      ],
      "execution_count": 183,
      "outputs": []
    },
    {
      "cell_type": "code",
      "metadata": {
        "id": "9UhM4R7ACPBw"
      },
      "source": [
        "# def find_YUCCA(matrix):\n",
        "#   cols = []\n",
        "#   temp = []\n",
        "#   # create a list of column values so we can find the sum later\n",
        "#   for i in range(len(matrix)): \n",
        "#     for j in range(len(matrix)):\n",
        "#       temp.append(matrix[j][i])\n",
        "#     cols.append(temp)\n",
        "#     temp = []\n",
        "\n",
        "#   sums = []\n",
        "#   temp2 = []\n",
        "\n",
        "#   # create a nested list of the sums of row and column values\n",
        "#   for i in range(len(matrix)):\n",
        "#     x = sum(cols[i])  \n",
        "#     y = sum(matrix[i])\n",
        "#     temp2 = [x,y]\n",
        "#     sums.append(temp2)\n",
        "#     temp2 = []\n",
        "#   for i in range(len(sums)):\n",
        "#     if(sum(sums[i])==len(matrix)-1):\n",
        "#       print(\"this matrix is YUCCA:\")\n",
        "#       break\n",
        "#     else:\n",
        "#       print(\"this matrix is not YUCCA:\")\n",
        "#       break\n",
        "\n",
        "\n"
      ],
      "execution_count": 184,
      "outputs": []
    },
    {
      "cell_type": "code",
      "metadata": {
        "id": "DpLqqqLWMyO-"
      },
      "source": [
        "def find_YUCCA(matrix):\n",
        "  cols = []\n",
        "  temp = []\n",
        "  sums = []\n",
        "  temp2 = []\n",
        "  # create a list of column values so we can find the sum later\n",
        "  for i in range(len(matrix)): \n",
        "    for j in range(len(matrix)):\n",
        "      temp.append(matrix[j][i])\n",
        "    # create a nested list of the sums of row and column values\n",
        "    cols.append(temp)\n",
        "    temp = []\n",
        "    x = sum(cols[i])  \n",
        "    y = sum(matrix[i])\n",
        "    temp2 = [x,y]\n",
        "    sums.append(temp2)\n",
        "    temp2 = []\n",
        "\n",
        "\n",
        "  for i in range(len(sums)):\n",
        "    if(sum(sums[i])==len(matrix)-1):\n",
        "      print(\"this matrix is YUCCA:\")\n",
        "      break\n",
        "    else:\n",
        "      print(\"this matrix is not YUCCA:\")\n",
        "      break\n",
        "\n",
        "\n"
      ],
      "execution_count": 185,
      "outputs": []
    },
    {
      "cell_type": "code",
      "metadata": {
        "id": "A1L9JwJIJf0P",
        "outputId": "754e167c-49ce-4967-8dc8-7bb186de78e3",
        "colab": {
          "base_uri": "https://localhost:8080/",
          "height": 357
        }
      },
      "source": [
        "find_YUCCA(matrix1)\n",
        "print_matrix(matrix1)\n",
        "\n",
        "print()\n",
        "find_YUCCA(matrix2)\n",
        "print_matrix(matrix2)\n",
        "\n",
        "print()\n",
        "find_YUCCA(matrix3)\n",
        "print_matrix(matrix3)\n"
      ],
      "execution_count": 186,
      "outputs": [
        {
          "output_type": "stream",
          "text": [
            "this matrix is YUCCA:\n",
            "0 1 1 1 1 1 \n",
            "0 0 1 0 0 0 \n",
            "0 1 0 1 0 0 \n",
            "0 0 0 0 1 0 \n",
            "0 0 0 0 0 0 \n",
            "0 0 0 0 1 0 \n",
            "\n",
            "this matrix is not YUCCA:\n",
            "0 1 1 0 1 \n",
            "1 0 1 0 0 \n",
            "0 1 0 0 1 \n",
            "1 1 1 0 1 \n",
            "0 1 1 0 0 \n",
            "\n",
            "this matrix is not YUCCA:\n",
            "0 1 1 0 \n",
            "1 0 1 1 \n",
            "0 0 0 0 \n",
            "1 0 1 0 \n"
          ],
          "name": "stdout"
        }
      ]
    }
  ]
}