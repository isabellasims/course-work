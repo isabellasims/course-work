{
  "nbformat": 4,
  "nbformat_minor": 0,
  "metadata": {
    "colab": {
      "name": "Algs hw 4",
      "provenance": [],
      "authorship_tag": "ABX9TyOEZljfNcyWX2D5l+ipnEjp",
      "include_colab_link": true
    },
    "kernelspec": {
      "name": "python3",
      "display_name": "Python 3"
    }
  },
  "cells": [
    {
      "cell_type": "markdown",
      "metadata": {
        "id": "view-in-github",
        "colab_type": "text"
      },
      "source": [
        "<a href=\"https://colab.research.google.com/github/isabellasims/course-work/blob/master/Algs_hw_4.ipynb\" target=\"_parent\"><img src=\"https://colab.research.google.com/assets/colab-badge.svg\" alt=\"Open In Colab\"/></a>"
      ]
    },
    {
      "cell_type": "markdown",
      "metadata": {
        "id": "umOP23Q60SkD"
      },
      "source": [
        "1. A directed graph with n vertices is called YUCCA if there is a vertex with indegree 0 and\n",
        "outdegree n-1. For example, the following is a YUCCA because node A has indegree 0 and\n",
        "outdegree n-1. "
      ]
    },
    {
      "cell_type": "markdown",
      "metadata": {
        "id": "iOUkhM7K0Tq9"
      },
      "source": [
        "Write an algorithm to test whether a graph represented as an adjacency matrix is a\n",
        "YUCCA. Your algorithm must examine only O (n) entries of the adjacency matrix. Justify the\n",
        "correctness and time complexity of your algorithm. Use the above graph to show how your\n",
        "algorithm works."
      ]
    },
    {
      "cell_type": "markdown",
      "metadata": {
        "id": "mj5Ot5h_0biW"
      },
      "source": [
        "B) Write a program to implement your algorithm in Part A. Test your program with\n",
        "different graphs to show that your graph is YUCCA and cases when it is not a YUCCA.\n",
        "Test your program with the following inputs.\n",
        "Program in .java or ….; output file as .pdf\n",
        "Provide your program, input graphs, outputs.\n",
        "\n",
        "Input: Graph 1\n",
        "\n",
        "{0, 1, 1, 0, 1},\n",
        "\n",
        "{1, 0, 1, 0, 0},\n",
        "\n",
        "{0, 1, 0, 0, 1},\n",
        "\n",
        "{1, 1, 1, 0, 1},\n",
        "\n",
        "{0, 1, 1, 0, 0}\n",
        "\n",
        "Input: Graph 2\n",
        "\n",
        "{0, 1, 1, 0},\n",
        "\n",
        "{1, 0, 1, 1},\n",
        "\n",
        "{0, 0, 0, 0},\n",
        "\n",
        "{1, 0, 1, 0}\n",
        "\n",
        "Input: Graph in Part A"
      ]
    },
    {
      "cell_type": "code",
      "metadata": {
        "id": "M_77TZlX0HC7",
        "outputId": "a8102801-309b-4a38-879e-291e387a7720",
        "colab": {
          "base_uri": "https://localhost:8080/",
          "height": 68
        }
      },
      "source": [
        "row = 0\n",
        "matrix = [[0,1,1,1,1,1],[0,0,1,0,0,0],[0,0,0,0,0,0]]\n",
        "for i in range(len(matrix)):\n",
        "    for j in range(len(matrix[i])):\n",
        "        print(matrix[i][j], end=' ')\n",
        "        #print(sum(matrix[i][j]))\n",
        "    print()\n",
        "          \n"
      ],
      "execution_count": 67,
      "outputs": [
        {
          "output_type": "stream",
          "text": [
            "0 1 1 1 1 1 \n",
            "0 0 1 0 0 0 \n",
            "0 0 0 0 0 0 \n"
          ],
          "name": "stdout"
        }
      ]
    },
    {
      "cell_type": "code",
      "metadata": {
        "id": "B-l0h60H5Xo-",
        "outputId": "7ef875f6-3bd6-4596-bd6c-fdb86399da05",
        "colab": {
          "base_uri": "https://localhost:8080/",
          "height": 119
        }
      },
      "source": [
        "for i in range(len(matrix)):\n",
        "  # access sum of columns\n",
        "  print(sum(matrix[i]))\n",
        "  print(matrix[i])\n",
        "  \n",
        "  #for j in range(len(matrix)):\n"
      ],
      "execution_count": 68,
      "outputs": [
        {
          "output_type": "stream",
          "text": [
            "5\n",
            "[0, 1, 1, 1, 1, 1]\n",
            "1\n",
            "[0, 0, 1, 0, 0, 0]\n",
            "0\n",
            "[0, 0, 0, 0, 0, 0]\n"
          ],
          "name": "stdout"
        }
      ]
    },
    {
      "cell_type": "code",
      "metadata": {
        "id": "ODR9DiFW6-Me",
        "outputId": "3961c266-a779-478e-8bf0-b4e8e40c2e2f",
        "colab": {
          "base_uri": "https://localhost:8080/",
          "height": 385
        }
      },
      "source": [
        "num = 5\n",
        "for i in range(num):\n",
        "  #print(matrix[i], end=' ')\n",
        "  for j in range(6):\n",
        "    print(\"i=\",i)\n",
        "    print(\"j=\",j)\n",
        "    print(matrix[j][i])"
      ],
      "execution_count": 93,
      "outputs": [
        {
          "output_type": "stream",
          "text": [
            "i= 0\n",
            "j= 0\n",
            "0\n",
            "i= 0\n",
            "j= 1\n",
            "0\n",
            "i= 0\n",
            "j= 2\n",
            "0\n",
            "i= 0\n",
            "j= 3\n"
          ],
          "name": "stdout"
        },
        {
          "output_type": "error",
          "ename": "IndexError",
          "evalue": "ignored",
          "traceback": [
            "\u001b[0;31m---------------------------------------------------------------------------\u001b[0m",
            "\u001b[0;31mIndexError\u001b[0m                                Traceback (most recent call last)",
            "\u001b[0;32m<ipython-input-93-1b2856dba56b>\u001b[0m in \u001b[0;36m<module>\u001b[0;34m()\u001b[0m\n\u001b[1;32m      4\u001b[0m     \u001b[0mprint\u001b[0m\u001b[0;34m(\u001b[0m\u001b[0;34m\"i=\"\u001b[0m\u001b[0;34m,\u001b[0m\u001b[0mi\u001b[0m\u001b[0;34m)\u001b[0m\u001b[0;34m\u001b[0m\u001b[0;34m\u001b[0m\u001b[0m\n\u001b[1;32m      5\u001b[0m     \u001b[0mprint\u001b[0m\u001b[0;34m(\u001b[0m\u001b[0;34m\"j=\"\u001b[0m\u001b[0;34m,\u001b[0m\u001b[0mj\u001b[0m\u001b[0;34m)\u001b[0m\u001b[0;34m\u001b[0m\u001b[0;34m\u001b[0m\u001b[0m\n\u001b[0;32m----> 6\u001b[0;31m     \u001b[0mprint\u001b[0m\u001b[0;34m(\u001b[0m\u001b[0mmatrix\u001b[0m\u001b[0;34m[\u001b[0m\u001b[0mj\u001b[0m\u001b[0;34m]\u001b[0m\u001b[0;34m[\u001b[0m\u001b[0mi\u001b[0m\u001b[0;34m]\u001b[0m\u001b[0;34m)\u001b[0m\u001b[0;34m\u001b[0m\u001b[0;34m\u001b[0m\u001b[0m\n\u001b[0m",
            "\u001b[0;31mIndexError\u001b[0m: list index out of range"
          ]
        }
      ]
    },
    {
      "cell_type": "code",
      "metadata": {
        "id": "CsHLpr2WAgr1",
        "outputId": "471d4526-917e-416c-b6e7-a3d2598dfb27",
        "colab": {
          "base_uri": "https://localhost:8080/",
          "height": 170
        }
      },
      "source": [
        "for i in range(3): \n",
        "  for j in range(3):\n",
        "    print(j,i)"
      ],
      "execution_count": 102,
      "outputs": [
        {
          "output_type": "stream",
          "text": [
            "0 0\n",
            "1 0\n",
            "2 0\n",
            "0 1\n",
            "1 1\n",
            "2 1\n",
            "0 2\n",
            "1 2\n",
            "2 2\n"
          ],
          "name": "stdout"
        }
      ]
    },
    {
      "cell_type": "code",
      "metadata": {
        "id": "9UhM4R7ACPBw",
        "outputId": "fe538b33-211f-48f6-eaf4-78ec8d6b2655",
        "colab": {
          "base_uri": "https://localhost:8080/",
          "height": 170
        }
      },
      "source": [
        "for i in range(3): \n",
        "  for j in range(3):\n",
        "    print(matrix[j][i])\n",
        "  #print()"
      ],
      "execution_count": 103,
      "outputs": [
        {
          "output_type": "stream",
          "text": [
            "0\n",
            "0\n",
            "0\n",
            "1\n",
            "0\n",
            "0\n",
            "1\n",
            "1\n",
            "0\n"
          ],
          "name": "stdout"
        }
      ]
    },
    {
      "cell_type": "code",
      "metadata": {
        "id": "CMCBexyo4C86",
        "outputId": "93501657-57e9-493f-b1cb-fc03e53fc2dd",
        "colab": {
          "base_uri": "https://localhost:8080/",
          "height": 68
        }
      },
      "source": [
        "for i in matrix:\n",
        "  # access column numbers\n",
        "  print(i[0])\n"
      ],
      "execution_count": 70,
      "outputs": [
        {
          "output_type": "stream",
          "text": [
            "0\n",
            "0\n",
            "0\n"
          ],
          "name": "stdout"
        }
      ]
    },
    {
      "cell_type": "code",
      "metadata": {
        "id": "WTY6Y5GX41Tv",
        "outputId": "9fbc4946-cca0-4593-ca8c-09fe47140fab",
        "colab": {
          "base_uri": "https://localhost:8080/",
          "height": 68
        }
      },
      "source": [
        "for i in matrix:\n",
        "  # access sum of columns\n",
        "  print(i)"
      ],
      "execution_count": 71,
      "outputs": [
        {
          "output_type": "stream",
          "text": [
            "[0, 1, 1, 1, 1, 1]\n",
            "[0, 0, 1, 0, 0, 0]\n",
            "[0, 0, 0, 0, 0, 0]\n"
          ],
          "name": "stdout"
        }
      ]
    }
  ]
}