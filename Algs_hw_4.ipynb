{
  "nbformat": 4,
  "nbformat_minor": 0,
  "metadata": {
    "colab": {
      "name": "Algs hw 4",
      "provenance": [],
      "authorship_tag": "ABX9TyM8Kw5Kdc/VCy0EazMbvWjL",
      "include_colab_link": true
    },
    "kernelspec": {
      "name": "python3",
      "display_name": "Python 3"
    }
  },
  "cells": [
    {
      "cell_type": "markdown",
      "metadata": {
        "id": "view-in-github",
        "colab_type": "text"
      },
      "source": [
        "<a href=\"https://colab.research.google.com/github/isabellasims/course-work/blob/master/Algs_hw_4.ipynb\" target=\"_parent\"><img src=\"https://colab.research.google.com/assets/colab-badge.svg\" alt=\"Open In Colab\"/></a>"
      ]
    },
    {
      "cell_type": "markdown",
      "metadata": {
        "id": "umOP23Q60SkD"
      },
      "source": [
        "1. A directed graph with n vertices is called YUCCA if there is a vertex with indegree 0 and\n",
        "outdegree n-1. For example, the following is a YUCCA because node A has indegree 0 and\n",
        "outdegree n-1. "
      ]
    },
    {
      "cell_type": "markdown",
      "metadata": {
        "id": "iOUkhM7K0Tq9"
      },
      "source": [
        "Write an algorithm to test whether a graph represented as an adjacency matrix is a\n",
        "YUCCA. Your algorithm must examine only O (n) entries of the adjacency matrix. Justify the\n",
        "correctness and time complexity of your algorithm. Use the above graph to show how your\n",
        "algorithm works."
      ]
    },
    {
      "cell_type": "markdown",
      "metadata": {
        "id": "mj5Ot5h_0biW"
      },
      "source": [
        "B) Write a program to implement your algorithm in Part A. Test your program with\n",
        "different graphs to show that your graph is YUCCA and cases when it is not a YUCCA.\n",
        "Test your program with the following inputs.\n",
        "Program in .java or ….; output file as .pdf\n",
        "Provide your program, input graphs, outputs.\n",
        "\n",
        "Input: Graph 1\n",
        "\n",
        "{0, 1, 1, 0, 1},\n",
        "\n",
        "{1, 0, 1, 0, 0},\n",
        "\n",
        "{0, 1, 0, 0, 1},\n",
        "\n",
        "{1, 1, 1, 0, 1},\n",
        "\n",
        "{0, 1, 1, 0, 0}\n",
        "\n",
        "Input: Graph 2\n",
        "\n",
        "{0, 1, 1, 0},\n",
        "\n",
        "{1, 0, 1, 1},\n",
        "\n",
        "{0, 0, 0, 0},\n",
        "\n",
        "{1, 0, 1, 0}\n",
        "\n",
        "Input: Graph in Part A"
      ]
    },
    {
      "cell_type": "code",
      "metadata": {
        "id": "M_77TZlX0HC7",
        "outputId": "53915b7d-c312-410b-c2ea-3b0e46c43b6a",
        "colab": {
          "base_uri": "https://localhost:8080/",
          "height": 119
        }
      },
      "source": [
        "row = 0\n",
        "matrix = [[0,1,1,1,1,1],[0,0,1,0,0,0],[0,1,0,1,0,0],[0,0,0,0,1,0],[0,0,0,0,0,0],[0,0,0,0,1,0]]\n",
        "for i in range(len(matrix)):\n",
        "    for j in range(len(matrix[i])):\n",
        "        print(matrix[i][j], end=' ')\n",
        "        #print(sum(matrix[i][j]))\n",
        "    print()\n",
        "          \n"
      ],
      "execution_count": 106,
      "outputs": [
        {
          "output_type": "stream",
          "text": [
            "0 1 1 1 1 1 \n",
            "0 0 1 0 0 0 \n",
            "0 1 0 1 0 0 \n",
            "0 0 0 0 1 0 \n",
            "0 0 0 0 0 0 \n",
            "0 0 0 0 1 0 \n"
          ],
          "name": "stdout"
        }
      ]
    },
    {
      "cell_type": "code",
      "metadata": {
        "id": "B-l0h60H5Xo-",
        "outputId": "e023c30d-2afd-4d0e-ec5e-7890cd37b3bf",
        "colab": {
          "base_uri": "https://localhost:8080/",
          "height": 119
        }
      },
      "source": [
        "for i in range(len(matrix)):\n",
        "  # access sum of columns\n",
        "  print(sum(matrix[i]))\n",
        "  #print(matrix[i])\n",
        "  \n",
        "  #for j in range(len(matrix)):\n"
      ],
      "execution_count": 108,
      "outputs": [
        {
          "output_type": "stream",
          "text": [
            "5\n",
            "1\n",
            "2\n",
            "1\n",
            "0\n",
            "1\n"
          ],
          "name": "stdout"
        }
      ]
    },
    {
      "cell_type": "code",
      "metadata": {
        "id": "9UhM4R7ACPBw",
        "outputId": "d4f612d3-458f-4b08-93ba-79f69b547632",
        "colab": {
          "base_uri": "https://localhost:8080/",
          "height": 102
        }
      },
      "source": [
        "rows = []\n",
        "temp = []\n",
        "for i in range(3): \n",
        "  for j in range(3):\n",
        "    print(matrix[j][i],end = \"\")\n",
        "    temp.append(matrix[j][i])\n",
        "  rows.append(temp)\n",
        "  temp = []\n",
        "    #print(matrix[j])\n",
        "    # print(sum(list(matrix[j][i])),end = \"\")\n",
        "  print()\n",
        "print(temp)\n",
        "print(rows)"
      ],
      "execution_count": 123,
      "outputs": [
        {
          "output_type": "stream",
          "text": [
            "000\n",
            "101\n",
            "110\n",
            "[]\n",
            "[[0, 0, 0], [1, 0, 1], [1, 1, 0]]\n"
          ],
          "name": "stdout"
        }
      ]
    },
    {
      "cell_type": "code",
      "metadata": {
        "id": "CsHLpr2WAgr1",
        "outputId": "471d4526-917e-416c-b6e7-a3d2598dfb27",
        "colab": {
          "base_uri": "https://localhost:8080/",
          "height": 170
        }
      },
      "source": [
        "for i in range(3): \n",
        "  for j in range(3):\n",
        "    print(j,i)"
      ],
      "execution_count": 102,
      "outputs": [
        {
          "output_type": "stream",
          "text": [
            "0 0\n",
            "1 0\n",
            "2 0\n",
            "0 1\n",
            "1 1\n",
            "2 1\n",
            "0 2\n",
            "1 2\n",
            "2 2\n"
          ],
          "name": "stdout"
        }
      ]
    },
    {
      "cell_type": "code",
      "metadata": {
        "id": "CMCBexyo4C86",
        "outputId": "93501657-57e9-493f-b1cb-fc03e53fc2dd",
        "colab": {
          "base_uri": "https://localhost:8080/",
          "height": 68
        }
      },
      "source": [
        "for i in matrix:\n",
        "  # access column numbers\n",
        "  print(i[0])\n"
      ],
      "execution_count": 70,
      "outputs": [
        {
          "output_type": "stream",
          "text": [
            "0\n",
            "0\n",
            "0\n"
          ],
          "name": "stdout"
        }
      ]
    },
    {
      "cell_type": "code",
      "metadata": {
        "id": "WTY6Y5GX41Tv",
        "outputId": "9fbc4946-cca0-4593-ca8c-09fe47140fab",
        "colab": {
          "base_uri": "https://localhost:8080/",
          "height": 68
        }
      },
      "source": [
        "for i in matrix:\n",
        "  # access sum of columns\n",
        "  print(i)"
      ],
      "execution_count": 71,
      "outputs": [
        {
          "output_type": "stream",
          "text": [
            "[0, 1, 1, 1, 1, 1]\n",
            "[0, 0, 1, 0, 0, 0]\n",
            "[0, 0, 0, 0, 0, 0]\n"
          ],
          "name": "stdout"
        }
      ]
    }
  ]
}