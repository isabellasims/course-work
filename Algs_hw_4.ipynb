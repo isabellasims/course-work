{
  "nbformat": 4,
  "nbformat_minor": 0,
  "metadata": {
    "colab": {
      "name": "Algs hw 4",
      "provenance": [],
      "authorship_tag": "ABX9TyNsvg+mLd5kpXy/vje1TyXj",
      "include_colab_link": true
    },
    "kernelspec": {
      "name": "python3",
      "display_name": "Python 3"
    }
  },
  "cells": [
    {
      "cell_type": "markdown",
      "metadata": {
        "id": "view-in-github",
        "colab_type": "text"
      },
      "source": [
        "<a href=\"https://colab.research.google.com/github/isabellasims/course-work/blob/master/Algs_hw_4.ipynb\" target=\"_parent\"><img src=\"https://colab.research.google.com/assets/colab-badge.svg\" alt=\"Open In Colab\"/></a>"
      ]
    },
    {
      "cell_type": "markdown",
      "metadata": {
        "id": "umOP23Q60SkD"
      },
      "source": [
        "1. A directed graph with n vertices is called YUCCA if there is a vertex with indegree 0 and\n",
        "outdegree n-1. For example, the following is a YUCCA because node A has indegree 0 and\n",
        "outdegree n-1. "
      ]
    },
    {
      "cell_type": "markdown",
      "metadata": {
        "id": "iOUkhM7K0Tq9"
      },
      "source": [
        "Write an algorithm to test whether a graph represented as an adjacency matrix is a\n",
        "YUCCA. Your algorithm must examine only O (n) entries of the adjacency matrix. Justify the\n",
        "correctness and time complexity of your algorithm. Use the above graph to show how your\n",
        "algorithm works."
      ]
    },
    {
      "cell_type": "markdown",
      "metadata": {
        "id": "mj5Ot5h_0biW"
      },
      "source": [
        "B) Write a program to implement your algorithm in Part A. Test your program with\n",
        "different graphs to show that your graph is YUCCA and cases when it is not a YUCCA.\n",
        "Test your program with the following inputs.\n",
        "Program in .java or ….; output file as .pdf\n",
        "Provide your program, input graphs, outputs.\n",
        "\n",
        "Input: Graph 1\n",
        "\n",
        "{0, 1, 1, 0, 1},\n",
        "\n",
        "{1, 0, 1, 0, 0},\n",
        "\n",
        "{0, 1, 0, 0, 1},\n",
        "\n",
        "{1, 1, 1, 0, 1},\n",
        "\n",
        "{0, 1, 1, 0, 0}\n",
        "\n",
        "Input: Graph 2\n",
        "\n",
        "{0, 1, 1, 0},\n",
        "\n",
        "{1, 0, 1, 1},\n",
        "\n",
        "{0, 0, 0, 0},\n",
        "\n",
        "{1, 0, 1, 0}\n",
        "\n",
        "Input: Graph in Part A"
      ]
    },
    {
      "cell_type": "code",
      "metadata": {
        "id": "M_77TZlX0HC7"
      },
      "source": [
        ""
      ],
      "execution_count": null,
      "outputs": []
    }
  ]
}