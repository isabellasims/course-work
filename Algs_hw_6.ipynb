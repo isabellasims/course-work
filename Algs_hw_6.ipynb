{
  "nbformat": 4,
  "nbformat_minor": 0,
  "metadata": {
    "colab": {
      "name": "Algs hw 6",
      "provenance": [],
      "authorship_tag": "ABX9TyNs3uDIR3oaxOWYGwvrYU9X",
      "include_colab_link": true
    },
    "kernelspec": {
      "name": "python3",
      "display_name": "Python 3"
    }
  },
  "cells": [
    {
      "cell_type": "markdown",
      "metadata": {
        "id": "view-in-github",
        "colab_type": "text"
      },
      "source": [
        "<a href=\"https://colab.research.google.com/github/isabellasims/course-work/blob/master/Algs_hw_6.ipynb\" target=\"_parent\"><img src=\"https://colab.research.google.com/assets/colab-badge.svg\" alt=\"Open In Colab\"/></a>"
      ]
    },
    {
      "cell_type": "markdown",
      "metadata": {
        "id": "g7QUd5GEB7dJ"
      },
      "source": [
        "CSC420: Algorithms & Data Structures Fall 2020\n",
        "Homework #6 (7 Points) \n",
        "\n",
        "\n",
        "Part A): Creating Hash table\n",
        "1. Given a hash table of size 35, create a hash table with 32 AU/CS students’ IDs (5 digits ID), using division hash function with largest prime# <= hash table size and Linear probing for Overflow/Collision handling.\n",
        "\n",
        "After creating the hash table, print the average number of probing in creating the hash table.\n",
        "\n",
        "2. Search for a Key in the hash table (try 4 different keys). Print appropriate messages (key found, or key does not exist in the hash table.\n",
        "\n",
        "Also, after the searches, print the average number of probing.\n",
        "\n",
        "Part B): Repeat Part A with Hash table size of 50.\n",
        "\n",
        "(Use the same 32 students as in Part A) &\n",
        "(Use the same 4 keys for searching as in section 2 of Part A).\n",
        "\n",
        "Does the increase in hash table size decrease the number of probing?\n",
        "Explain Your findings.\n",
        "\n",
        "\n",
        "++++++++++++++++++++++++++++++++++++++++++++++++++++++\n",
        "Provide, Nice, Informative Outputs to show the significance of this\n",
        "experiment."
      ]
    },
    {
      "cell_type": "code",
      "metadata": {
        "id": "SMKHr7PzzAC2"
      },
      "source": [
        "\n"
      ],
      "execution_count": null,
      "outputs": []
    },
    {
      "cell_type": "code",
      "metadata": {
        "id": "p5GqeLXmppjc",
        "outputId": "f1b03559-5f00-4abc-b630-5917c1c9fa4d",
        "colab": {
          "base_uri": "https://localhost:8080/"
        }
      },
      "source": [
        "# table size 35\n",
        "# use division hash function with largest prime #\n",
        "# create list of 32 AU IDs\n",
        "import random\n",
        "au_ids = []\n",
        "for i in range(32):\n",
        "  temp = []  \n",
        "  for i in range(5):\n",
        "    temp.append(random.randint(1,9))\n",
        "  num = int(''.join(map(str,temp)))\n",
        "  au_ids.append(num)\n",
        "\n"
      ],
      "execution_count": 14,
      "outputs": [
        {
          "output_type": "stream",
          "text": [
            "32\n"
          ],
          "name": "stdout"
        }
      ]
    },
    {
      "cell_type": "code",
      "metadata": {
        "id": "2Nv8M7_P2K7_",
        "outputId": "f32e4c7a-d5f2-47c9-8bd6-c4ebbe582424",
        "colab": {
          "base_uri": "https://localhost:8080/"
        }
      },
      "source": [
        "PN = 31 # closest prime \n",
        "class Hash():\n",
        "  def __init__(self,ids):\n",
        "    self.ids = ids\n",
        "  # index of every ID should be id % 31\n",
        "\n",
        "  def get_index(id):\n",
        "    return id%PN\n",
        "print(Hash.table)\n",
        "print(19983%31)\n",
        "table = Hash(au_ids)\n",
        "print(table.ids)"
      ],
      "execution_count": 27,
      "outputs": [
        {
          "output_type": "stream",
          "text": [
            "[]\n",
            "19\n",
            "[23255, 38236, 27567, 68134, 35355, 92291, 41226, 28595, 46379, 49977, 28784, 15195, 25531, 56427, 68274, 36678, 51894, 36829, 18455, 11671, 78375, 56359, 86488, 84221, 36199, 99748, 61925, 39792, 57984, 55649, 67426, 33833]\n"
          ],
          "name": "stdout"
        }
      ]
    },
    {
      "cell_type": "code",
      "metadata": {
        "id": "ecWT-5lW3Y-z",
        "outputId": "376e7aad-3120-4b77-e453-79c198ef9aee",
        "colab": {
          "base_uri": "https://localhost:8080/"
        }
      },
      "source": [
        "keys = ['a', 'b', 'c']\n",
        "values = [1, 2, 3]\n",
        "hash = {k:v for k, v in zip(keys, values)}\n",
        "hash"
      ],
      "execution_count": 17,
      "outputs": [
        {
          "output_type": "execute_result",
          "data": {
            "text/plain": [
              "{'a': 1, 'b': 2, 'c': 3}"
            ]
          },
          "metadata": {
            "tags": []
          },
          "execution_count": 17
        }
      ]
    },
    {
      "cell_type": "code",
      "metadata": {
        "id": "aI2I1HkSurpB"
      },
      "source": [
        "def get_index(key: str):\n",
        "    return hash(key) % len(au_ids)"
      ],
      "execution_count": 15,
      "outputs": []
    },
    {
      "cell_type": "markdown",
      "metadata": {
        "id": "pcRPGXH_ssqE"
      },
      "source": [
        "Part 1\n",
        "- turn in as sims.py for program\n",
        "- implimenting a hash table\n",
        "- randomly create 5 digits so there is no bias\n",
        "- use division method\n",
        "- table size = 35\n",
        "\n",
        "Hypothesis: The bigger the hash table size, the lower the probe is\n",
        "--> search less because you have more space to look for & find available\n",
        "\n",
        "Print avg number of probing\n",
        "- count all prob then divide by 32"
      ]
    },
    {
      "cell_type": "markdown",
      "metadata": {
        "id": "aVnJ7D4sto9d"
      },
      "source": [
        "part 2\n",
        "\n",
        "- now search for item\n",
        "- try 4 different keys\n",
        "- randomly create and choose them\n",
        "- Should be same at pt 1 except size will be 50 w a different probing\n",
        "\n",
        "\n",
        "- At end: do analysis --> does the increase in size decrease num of probing? explain!"
      ]
    }
  ]
}