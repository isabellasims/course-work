{
  "nbformat": 4,
  "nbformat_minor": 0,
  "metadata": {
    "colab": {
      "name": "Algs hw 6",
      "provenance": [],
      "authorship_tag": "ABX9TyN3pDvMc19bojLuKczK5sm0",
      "include_colab_link": true
    },
    "kernelspec": {
      "name": "python3",
      "display_name": "Python 3"
    }
  },
  "cells": [
    {
      "cell_type": "markdown",
      "metadata": {
        "id": "view-in-github",
        "colab_type": "text"
      },
      "source": [
        "<a href=\"https://colab.research.google.com/github/isabellasims/course-work/blob/master/Algs_hw_6.ipynb\" target=\"_parent\"><img src=\"https://colab.research.google.com/assets/colab-badge.svg\" alt=\"Open In Colab\"/></a>"
      ]
    },
    {
      "cell_type": "markdown",
      "metadata": {
        "id": "g7QUd5GEB7dJ"
      },
      "source": [
        "CSC420: Algorithms & Data Structures Fall 2020\n",
        "Homework #6 (7 Points) \n",
        "\n",
        "\n",
        "Part A): Creating Hash table\n",
        "1. Given a hash table of size 35, create a hash table with 32 AU/CS students’ IDs (5 digits ID), using division hash function with largest prime# <= hash table size and Linear probing for Overflow/Collision handling.\n",
        "\n",
        "After creating the hash table, print the average number of probing in creating the hash table.\n",
        "\n",
        "2. Search for a Key in the hash table (try 4 different keys). Print appropriate messages (key found, or key does not exist in the hash table.\n",
        "\n",
        "Also, after the searches, print the average number of probing.\n",
        "\n",
        "Part B): Repeat Part A with Hash table size of 50.\n",
        "\n",
        "(Use the same 32 students as in Part A) &\n",
        "(Use the same 4 keys for searching as in section 2 of Part A).\n",
        "\n",
        "Does the increase in hash table size decrease the number of probing?\n",
        "Explain Your findings.\n",
        "\n",
        "\n",
        "++++++++++++++++++++++++++++++++++++++++++++++++++++++\n",
        "Provide, Nice, Informative Outputs to show the significance of this\n",
        "experiment."
      ]
    },
    {
      "cell_type": "code",
      "metadata": {
        "id": "SMKHr7PzzAC2"
      },
      "source": [
        "\n"
      ],
      "execution_count": 6,
      "outputs": []
    },
    {
      "cell_type": "code",
      "metadata": {
        "id": "p5GqeLXmppjc"
      },
      "source": [
        "# table size 35\n",
        "# use division hash function with largest prime #\n",
        "# create list of 32 AU IDs\n",
        "import random\n",
        "au_ids = []\n",
        "for i in range(32):\n",
        "  temp = []  \n",
        "  for i in range(5):\n",
        "    temp.append(random.randint(1,9))\n",
        "  num = int(''.join(map(str,temp)))\n",
        "  au_ids.append(num)\n",
        "\n",
        "temp_table = []\n",
        "for i in range(35):\n",
        "  temp_table.append(0)\n",
        "\n"
      ],
      "execution_count": 7,
      "outputs": []
    },
    {
      "cell_type": "code",
      "metadata": {
        "id": "2Nv8M7_P2K7_",
        "outputId": "1e22ca92-4714-4500-d70b-da0a9f1d8c47",
        "colab": {
          "base_uri": "https://localhost:8080/"
        }
      },
      "source": [
        "PN = 31 # closest prime \n",
        "class Hash():\n",
        "  def __init__(self,ids,table):\n",
        "    self.ids = ids\n",
        "    self.table = table\n",
        "  # index of every ID should be id % 31\n",
        "  def get_index(self,id):\n",
        "    return id%PN\n",
        "  # create a table of indexes to use later in linear probing\n",
        "  def make_index_table(self):\n",
        "    ind_table = []\n",
        "    for id in range(len(self.ids)):\n",
        "      index = self.get_index(id)\n",
        "      ind_table.insert(id,index)\n",
        "    return ind_table\n",
        "    \n",
        "  def make_table(self):\n",
        "    hash_table = self.table\n",
        "    for i in self.ids:\n",
        "      index = i % 31\n",
        "     # print(index)\n",
        "      hash_table.insert(i%31,i)\n",
        "    return table\n",
        "\n",
        "\n",
        "table = Hash(au_ids,temp_table)\n",
        "hash = table.make_table()\n",
        "print(hash)\n",
        "# print(table)\n",
        "# print(table.get_index(38236))\n",
        "# mhashi = table.make_index_table()\n",
        "# print(au_ids)\n",
        "# print(mhashi)\n",
        "\n"
      ],
      "execution_count": 11,
      "outputs": [
        {
          "output_type": "stream",
          "text": [
            "<__main__.Hash object at 0x7fe3c98ab940>\n"
          ],
          "name": "stdout"
        }
      ]
    },
    {
      "cell_type": "code",
      "metadata": {
        "id": "_ErkPlyP-EOV"
      },
      "source": [
        "myhash = []\n",
        "for i in au_ids:\n",
        "  index = N %31\n",
        "\n",
        "  myhash.insert(i%31,i)\n",
        "print(myhash)\n"
      ],
      "execution_count": null,
      "outputs": []
    },
    {
      "cell_type": "code",
      "metadata": {
        "id": "TrV6UXn4wK5B"
      },
      "source": [
        ""
      ],
      "execution_count": null,
      "outputs": []
    },
    {
      "cell_type": "markdown",
      "metadata": {
        "id": "pcRPGXH_ssqE"
      },
      "source": [
        "Part 1\n",
        "- turn in as sims.py for program\n",
        "- implimenting a hash table\n",
        "- randomly create 5 digits so there is no bias\n",
        "- use division method\n",
        "- table size = 35\n",
        "\n",
        "Hypothesis: The bigger the hash table size, the lower the probe is\n",
        "--> search less because you have more space to look for & find available\n",
        "\n",
        "Print avg number of probing\n",
        "- count all prob then divide by 32"
      ]
    },
    {
      "cell_type": "markdown",
      "metadata": {
        "id": "aVnJ7D4sto9d"
      },
      "source": [
        "part 2\n",
        "\n",
        "- now search for item\n",
        "- try 4 different keys\n",
        "- randomly create and choose them\n",
        "- Should be same at pt 1 except size will be 50 w a different probing\n",
        "\n",
        "\n",
        "- At end: do analysis --> does the increase in size decrease num of probing? explain!"
      ]
    }
  ]
}