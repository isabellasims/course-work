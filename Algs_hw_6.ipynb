{
  "nbformat": 4,
  "nbformat_minor": 0,
  "metadata": {
    "colab": {
      "name": "Algs hw 6",
      "provenance": [],
      "authorship_tag": "ABX9TyN20YigY4aEalAsiY2fA0Tu",
      "include_colab_link": true
    },
    "kernelspec": {
      "name": "python3",
      "display_name": "Python 3"
    }
  },
  "cells": [
    {
      "cell_type": "markdown",
      "metadata": {
        "id": "view-in-github",
        "colab_type": "text"
      },
      "source": [
        "<a href=\"https://colab.research.google.com/github/isabellasims/course-work/blob/master/Algs_hw_6.ipynb\" target=\"_parent\"><img src=\"https://colab.research.google.com/assets/colab-badge.svg\" alt=\"Open In Colab\"/></a>"
      ]
    },
    {
      "cell_type": "code",
      "metadata": {
        "id": "4G5bno18sqhJ"
      },
      "source": [
        ""
      ],
      "execution_count": null,
      "outputs": []
    },
    {
      "cell_type": "markdown",
      "metadata": {
        "id": "pcRPGXH_ssqE"
      },
      "source": [
        "turn in as sims.py for program\n",
        "implimenting a hash table\n",
        "randomly create 5 digits so there is no bias\n",
        "use division method\n",
        "table size = 35"
      ]
    }
  ]
}