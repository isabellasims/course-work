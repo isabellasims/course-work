{
  "nbformat": 4,
  "nbformat_minor": 0,
  "metadata": {
    "colab": {
      "name": "Algs hw 6",
      "provenance": [],
      "authorship_tag": "ABX9TyPguTLERi+I0OWz68hZMALn",
      "include_colab_link": true
    },
    "kernelspec": {
      "name": "python3",
      "display_name": "Python 3"
    }
  },
  "cells": [
    {
      "cell_type": "markdown",
      "metadata": {
        "id": "view-in-github",
        "colab_type": "text"
      },
      "source": [
        "<a href=\"https://colab.research.google.com/github/isabellasims/course-work/blob/master/Algs_hw_6.ipynb\" target=\"_parent\"><img src=\"https://colab.research.google.com/assets/colab-badge.svg\" alt=\"Open In Colab\"/></a>"
      ]
    },
    {
      "cell_type": "markdown",
      "metadata": {
        "id": "g7QUd5GEB7dJ"
      },
      "source": [
        "CSC420: Algorithms & Data Structures Fall 2020\n",
        "Homework #6 (7 Points) \n",
        "\n",
        "\n",
        "Part A): Creating Hash table\n",
        "1. Given a hash table of size 35, create a hash table with 32 AU/CS students’ IDs (5 digits ID), using division hash function with largest prime# <= hash table size and Linear probing for Overflow/Collision handling.\n",
        "\n",
        "After creating the hash table, print the average number of probing in creating the hash table.\n",
        "\n",
        "2. Search for a Key in the hash table (try 4 different keys). Print appropriate messages (key found, or key does not exist in the hash table.\n",
        "\n",
        "Also, after the searches, print the average number of probing.\n",
        "\n",
        "Part B): Repeat Part A with Hash table size of 50.\n",
        "\n",
        "(Use the same 32 students as in Part A) &\n",
        "(Use the same 4 keys for searching as in section 2 of Part A).\n",
        "\n",
        "Does the increase in hash table size decrease the number of probing?\n",
        "Explain Your findings.\n",
        "\n",
        "\n",
        "++++++++++++++++++++++++++++++++++++++++++++++++++++++\n",
        "Provide, Nice, Informative Outputs to show the significance of this\n",
        "experiment."
      ]
    },
    {
      "cell_type": "code",
      "metadata": {
        "id": "SMKHr7PzzAC2"
      },
      "source": [
        "\n"
      ],
      "execution_count": 20,
      "outputs": []
    },
    {
      "cell_type": "code",
      "metadata": {
        "id": "p5GqeLXmppjc"
      },
      "source": [
        "# table size 35\n",
        "# use division hash function with largest prime #\n",
        "# create list of 32 AU IDs\n",
        "import random\n",
        "au_ids = []\n",
        "for i in range(32):\n",
        "  temp = []  \n",
        "  for i in range(5):\n",
        "    temp.append(random.randint(1,9))\n",
        "  num = int(''.join(map(str,temp)))\n",
        "  au_ids.append(num)\n",
        "\n"
      ],
      "execution_count": 21,
      "outputs": []
    },
    {
      "cell_type": "code",
      "metadata": {
        "id": "2Nv8M7_P2K7_",
        "outputId": "7cc03d1a-03ea-4ae4-b73c-438a02a913a9",
        "colab": {
          "base_uri": "https://localhost:8080/"
        }
      },
      "source": [
        "PN = 31 # closest prime \n",
        "class Hash():\n",
        "  def __init__(self,ids):\n",
        "    self.ids = ids\n",
        "  # index of every ID should be id % 31\n",
        "  def get_index(self,id):\n",
        "    return id%PN\n",
        "  # create a table of indexes to use later in linear probing\n",
        "  def make_index_table(self):\n",
        "    ind_table = []\n",
        "    for id in range(len(self.ids)):\n",
        "      index = self.get_index(id)\n",
        "      ind_table.insert(id,index)\n",
        "    return ind_table\n",
        "  #def lin_prob(self):\n",
        "    \n",
        "  def make_table(self):\n",
        "    table = []\n",
        "    for i in range(35):\n",
        "      table.append(0)\n",
        "    \n",
        "    for i in self.ids:\n",
        "      index = i % 31\n",
        "      #if index in \n",
        "      table.insert(i%31,i)\n",
        "    return table\n",
        "\n",
        "\n",
        "\n",
        "\n",
        "\n",
        "myhash = []\n",
        "for i in au_ids:\n",
        "  myhash.insert(i%31,i)\n",
        "print(myhash)\n",
        "\n",
        "\n",
        "table = Hash(au_ids)\n",
        "print(table)\n",
        "print(table.get_index(38236))\n",
        "mhashi = table.make_index_table()\n",
        "print(au_ids)\n",
        "print(mhashi)\n",
        "mhash = table.make_table()\n",
        "print(mhash)\n"
      ],
      "execution_count": 25,
      "outputs": [
        {
          "output_type": "stream",
          "text": [
            "[56513, 77283, 25546, 62281, 44144, 44236, 33947, 23356, 53143, 63276, 67745, 74892, 75865, 83475, 62476, 38836, 14923, 83634, 94654, 64898, 69894, 36415, 59356, 84275, 46585, 11985, 23959, 68563, 51242, 49993, 67789, 61935]\n",
            "<__main__.Hash object at 0x7f1ea0f82898>\n",
            "13\n",
            "[44236, 23356, 44144, 53143, 67745, 74892, 75865, 83475, 38836, 33947, 83634, 94654, 69894, 59356, 63276, 46585, 23959, 51242, 77283, 49993, 14923, 67789, 84275, 11985, 64898, 68563, 62476, 61935, 56513, 62281, 25546, 36415]\n",
            "[0, 1, 2, 3, 4, 5, 6, 7, 8, 9, 10, 11, 12, 13, 14, 15, 16, 17, 18, 19, 20, 21, 22, 23, 24, 25, 26, 27, 28, 29, 30, 0]\n",
            "[56513, 77283, 25546, 62281, 44144, 0, 33947, 0, 0, 63276, 0, 0, 0, 0, 62476, 75865, 14923, 0, 94654, 64898, 53143, 36415, 67745, 84275, 0, 11985, 0, 68563, 0, 0, 0, 49993, 61935, 67789, 23356, 69894, 0, 46585, 59356, 0, 0, 23959, 0, 0, 51242, 83475, 38836, 0, 83634, 0, 0, 0, 0, 74892, 0, 0, 0, 0, 0, 0, 0, 44236, 0, 0, 0, 0, 0]\n"
          ],
          "name": "stdout"
        }
      ]
    },
    {
      "cell_type": "code",
      "metadata": {
        "id": "_ErkPlyP-EOV",
        "outputId": "b07634b1-1b1c-49fb-cbe5-342b7541ade0",
        "colab": {
          "base_uri": "https://localhost:8080/",
          "height": 240
        }
      },
      "source": [
        "myhash = []\n",
        "for i in au_ids:\n",
        "  index = N %31\n",
        "\n",
        "  myhash.insert(i%31,i)\n",
        "print(myhash)\n"
      ],
      "execution_count": 23,
      "outputs": [
        {
          "output_type": "error",
          "ename": "NameError",
          "evalue": "ignored",
          "traceback": [
            "\u001b[0;31m---------------------------------------------------------------------------\u001b[0m",
            "\u001b[0;31mNameError\u001b[0m                                 Traceback (most recent call last)",
            "\u001b[0;32m<ipython-input-23-0c028649635a>\u001b[0m in \u001b[0;36m<module>\u001b[0;34m()\u001b[0m\n\u001b[1;32m      1\u001b[0m \u001b[0mmyhash\u001b[0m \u001b[0;34m=\u001b[0m \u001b[0;34m[\u001b[0m\u001b[0;34m]\u001b[0m\u001b[0;34m\u001b[0m\u001b[0;34m\u001b[0m\u001b[0m\n\u001b[1;32m      2\u001b[0m \u001b[0;32mfor\u001b[0m \u001b[0mi\u001b[0m \u001b[0;32min\u001b[0m \u001b[0mau_ids\u001b[0m\u001b[0;34m:\u001b[0m\u001b[0;34m\u001b[0m\u001b[0;34m\u001b[0m\u001b[0m\n\u001b[0;32m----> 3\u001b[0;31m   \u001b[0mindex\u001b[0m \u001b[0;34m=\u001b[0m \u001b[0mN\u001b[0m \u001b[0;34m%\u001b[0m\u001b[0;36m31\u001b[0m\u001b[0;34m\u001b[0m\u001b[0;34m\u001b[0m\u001b[0m\n\u001b[0m\u001b[1;32m      4\u001b[0m \u001b[0;34m\u001b[0m\u001b[0m\n\u001b[1;32m      5\u001b[0m   \u001b[0mmyhash\u001b[0m\u001b[0;34m.\u001b[0m\u001b[0minsert\u001b[0m\u001b[0;34m(\u001b[0m\u001b[0mi\u001b[0m\u001b[0;34m%\u001b[0m\u001b[0;36m31\u001b[0m\u001b[0;34m,\u001b[0m\u001b[0mi\u001b[0m\u001b[0;34m)\u001b[0m\u001b[0;34m\u001b[0m\u001b[0;34m\u001b[0m\u001b[0m\n",
            "\u001b[0;31mNameError\u001b[0m: name 'N' is not defined"
          ]
        }
      ]
    },
    {
      "cell_type": "markdown",
      "metadata": {
        "id": "pcRPGXH_ssqE"
      },
      "source": [
        "Part 1\n",
        "- turn in as sims.py for program\n",
        "- implimenting a hash table\n",
        "- randomly create 5 digits so there is no bias\n",
        "- use division method\n",
        "- table size = 35\n",
        "\n",
        "Hypothesis: The bigger the hash table size, the lower the probe is\n",
        "--> search less because you have more space to look for & find available\n",
        "\n",
        "Print avg number of probing\n",
        "- count all prob then divide by 32"
      ]
    },
    {
      "cell_type": "markdown",
      "metadata": {
        "id": "aVnJ7D4sto9d"
      },
      "source": [
        "part 2\n",
        "\n",
        "- now search for item\n",
        "- try 4 different keys\n",
        "- randomly create and choose them\n",
        "- Should be same at pt 1 except size will be 50 w a different probing\n",
        "\n",
        "\n",
        "- At end: do analysis --> does the increase in size decrease num of probing? explain!"
      ]
    }
  ]
}