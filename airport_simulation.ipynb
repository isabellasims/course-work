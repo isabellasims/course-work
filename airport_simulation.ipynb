{
  "nbformat": 4,
  "nbformat_minor": 0,
  "metadata": {
    "colab": {
      "name": "airport simulation",
      "provenance": [],
      "authorship_tag": "ABX9TyOhaMM4JNbrkwOThtunPOiQ"
    },
    "kernelspec": {
      "name": "python3",
      "display_name": "Python 3"
    }
  },
  "cells": [
    {
      "cell_type": "code",
      "metadata": {
        "id": "q-4AHq5Yr-xA"
      },
      "source": [
        "import random\n",
        "\n",
        "def get_globals():\n",
        "  global time_left\n",
        "  global airlines\n",
        "  \n",
        "\n",
        "class AirPlane:\n",
        "  def __init__(self, state,id,string):\n",
        "     self.state = state # will be 1 or 2. 1 means landing, 2 means takeoff \n",
        "     self.id = id # takeoff = even, landing = odd\n",
        "     self.string = string \n",
        "\n",
        "class Data:\n",
        "  landing_queue = []\n",
        "  take_off_queue = []\n",
        "  time_in_queue = 0\n",
        "  planes = []\n",
        "  def get_avg():\n",
        "    return sum(time_in_queue)/(len(time_in_queue))"
      ],
      "execution_count": 41,
      "outputs": []
    },
    {
      "cell_type": "code",
      "metadata": {
        "id": "1_sTwaWcyDZO"
      },
      "source": [
        "\n",
        "def run_sim():\n",
        "  # initial counters for plane ids\n",
        "  even_id = 2\n",
        "  odd_id = 1\n",
        "  get_globals()\n",
        "  time_left = 120\n",
        "  airlines = [\"Delta\",\"Southwest\",\"American\",\"Alaskan\"]\n",
        "  for i in range(time_left): \n",
        "    choice = random.randrange(1,3) # program decides if new plane is taking off or landing (1 = landing, 2 = takeoff)\n",
        "    if (choice % 2 == 0):     \n",
        "      plane = AirPlane(2,even_id,random.choice(airlines)) # assign even id\n",
        "      even_id +=1 # incriment counter\n",
        "      Data.planes.append(plane) # add new plane to data\n",
        "    else:\n",
        "      plane = AirPlane(1,odd_id,random.choice(airlines))\n",
        "      odd_id += 1\n",
        "      Data.planes.append(plane)\n",
        "    time_left-=1\n",
        "    if (time_left % 5 == 0):\n",
        "      Data.time_in_queue += 1\n",
        "      if (plane.state == 2): # (if plane is taking off)\n",
        "        Data.take_off_queue.append(plane)\n",
        "      else:\n",
        "        Data.landing_queue.append(plane)\n",
        "\n",
        "\n",
        "\n",
        "\n",
        "\n",
        "run_sim()"
      ],
      "execution_count": 42,
      "outputs": []
    },
    {
      "cell_type": "code",
      "metadata": {
        "id": "pHTRXX7E1r3m",
        "outputId": "2bb91323-e7e1-440b-b042-373ebc511133",
        "colab": {
          "base_uri": "https://localhost:8080/",
          "height": 68
        }
      },
      "source": [
        "print(Data.planes[0].string)\n",
        "print(len(Data.landing_queue))\n",
        "print(len(Data.take_off_queue))"
      ],
      "execution_count": 43,
      "outputs": [
        {
          "output_type": "stream",
          "text": [
            "Alaskan\n",
            "14\n",
            "10\n"
          ],
          "name": "stdout"
        }
      ]
    },
    {
      "cell_type": "code",
      "metadata": {
        "id": "pABluVe9uDbm"
      },
      "source": [
        "def main():\n",
        "  get_globals()\n",
        "  run_sim()\n",
        "  "
      ],
      "execution_count": 44,
      "outputs": []
    },
    {
      "cell_type": "code",
      "metadata": {
        "id": "VcyKbXl9xFQP",
        "outputId": "a7719487-e084-4d01-9b78-66c3f02a4f9a",
        "colab": {
          "base_uri": "https://localhost:8080/",
          "height": 34
        }
      },
      "source": [
        "import random\n",
        "print(random.randrange(1,3))\n"
      ],
      "execution_count": 45,
      "outputs": [
        {
          "output_type": "stream",
          "text": [
            "2\n"
          ],
          "name": "stdout"
        }
      ]
    }
  ]
}