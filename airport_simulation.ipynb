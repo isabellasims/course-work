{
  "nbformat": 4,
  "nbformat_minor": 0,
  "metadata": {
    "colab": {
      "name": "airport simulation",
      "provenance": [],
      "collapsed_sections": [],
      "authorship_tag": "ABX9TyOMS6g+kbXFAVRXeQEL+tXQ",
      "include_colab_link": true
    },
    "kernelspec": {
      "name": "python3",
      "display_name": "Python 3"
    }
  },
  "cells": [
    {
      "cell_type": "markdown",
      "metadata": {
        "id": "view-in-github",
        "colab_type": "text"
      },
      "source": [
        "<a href=\"https://colab.research.google.com/github/isabellasims/course-work/blob/master/airport_simulation.ipynb\" target=\"_parent\"><img src=\"https://colab.research.google.com/assets/colab-badge.svg\" alt=\"Open In Colab\"/></a>"
      ]
    },
    {
      "cell_type": "code",
      "metadata": {
        "id": "q-4AHq5Yr-xA"
      },
      "source": [
        "import random\n",
        "\n",
        "\n",
        "def get_globals():\n",
        "  global time_left\n",
        "  global airlines\n",
        "\n",
        "  \n",
        "class AirPlane:\n",
        "  def __init__(self, state,id,string):\n",
        "     self.state = state # will be 1 or 2. 1 means landing, 2 means takeoff \n",
        "     self.id = id # takeoff = even, landing = odd\n",
        "     self.string = string \n",
        " \n",
        "\n",
        "class Data:\n",
        "  landing_queue = []\n",
        "  take_off_queue = []\n",
        "\n",
        "\n",
        "  planes = []\n",
        "  def get_avg():\n",
        "    return sum(Data.time_in_queue)/(len(Data.time_in_queue))"
      ],
      "execution_count": 269,
      "outputs": []
    },
    {
      "cell_type": "code",
      "metadata": {
        "id": "1_sTwaWcyDZO",
        "outputId": "981b881b-ae4a-4813-e369-bd2a8f197197",
        "colab": {
          "base_uri": "https://localhost:8080/",
          "height": 1000
        }
      },
      "source": [
        "# note, for best results, run sim a couple times (or run just this cell multiple times) to gather substantial data. \n",
        "# Data is generative, so the way this runs, new planes are spawned every time unit instead of taking a file input\n",
        "## i felt like generative data was a more accurate depiction of real world flight patterns. If you just run the whole program once, the queues will be short as not many planes have been generated in the sky\n",
        "def run_sim():\n",
        "  time_in_queue = 0\n",
        "  time_in_landing_queue = 0\n",
        "  time_in_takeoff_queue = 0\n",
        "  count_cleared = 0\n",
        "  takeoffs_cleared = 0\n",
        "  landings_cleared = 0\n",
        "  # initial counters for plane ids\n",
        "  even_id = 2\n",
        "  odd_id = 1\n",
        "  get_globals()\n",
        "  time_left = 120\n",
        "  airlines = [\"Delta\",\"Southwest\",\"American\",\"Alaskan\"]\n",
        "  for i in range(time_left): \n",
        "    choice = random.randrange(1,3) # program decides if new plane is taking off or landing (1 = landing, 2 = takeoff)\n",
        "    if (choice % 2 == 0):          \n",
        "      plane = AirPlane(2,even_id,random.choice(airlines)) # assign even id\n",
        "      even_id +=2 # incriment counter\n",
        "      Data.planes.append(plane) # add new plane to data\n",
        "    else:\n",
        "      plane = AirPlane(1,odd_id,random.choice(airlines))\n",
        "      odd_id += 2\n",
        "      Data.planes.append(plane)\n",
        "    time_left-=1 # decrement time left\n",
        "    if (time_left % 5 == 0): # every 5 minutes ONE (from the option 0-3 given on assignment) request is made by a plane and therefore added to its respective queue   \n",
        "      if (plane.state == 2): # (if plane is taking off)\n",
        "        Data.take_off_queue.append(plane) \n",
        "        time_in_queue +=5 * len(Data.take_off_queue) # incriment the time in queue by 5 mins for every plane in the take off queue\n",
        "        time_in_takeoff_queue +=5\n",
        "\n",
        "      else: # if plane is landing\n",
        "        Data.landing_queue.append(plane)\n",
        "        time_in_queue +=5 * len(Data.landing_queue) # incriment the time in queue by 5 mins for every plane in the landing queue\n",
        "        time_in_landing_queue +=5\n",
        "\n",
        "    if (time_left % 15 ==0):\n",
        "      print(\"------------------------------------------\")\n",
        "      print(\"It has been 15 minutes:\")     \n",
        "      # every 15 minutes a request from both the landing queue and takeoff queue is satisfied\n",
        "      # since planes are being spawned every minute, the queues are going to grow unlike the example given on the assignment.      \n",
        "      print(\"there are\", len(Data.take_off_queue), \"planes waiting to take off\" )\n",
        "      print(\"there are\", len( Data.landing_queue), \"planes waiting to land\" )\n",
        "      if (Data.take_off_queue ):\n",
        "        cleared_for_take_off = Data.take_off_queue[0] \n",
        "        Data.take_off_queue.pop(0)\n",
        "        print(\"flight #\", cleared_for_take_off.id, \"is cleared for takeoff\")\n",
        "        #time_in_queue +=15 * len(Data.take_off_queue) # incriment the time in queue by 15 mins for every plane in the take off queue\n",
        "        count_cleared +=1\n",
        "        takeoffs_cleared += 1\n",
        "        \n",
        "      if (Data.landing_queue ):\n",
        "        cleared_for_landing = Data.landing_queue[0] \n",
        "        Data.landing_queue.pop(0)\n",
        "        print(\"flight #\", cleared_for_landing.id, \"is cleared for landing\")\n",
        "        count_cleared += 1\n",
        "        landings_cleared += 1\n",
        "      print(\"------------------------------------------\")\n",
        "      print(\" \")\n",
        "      print(\" \")\n",
        "  print(\"the average time all planes were held in queues was:\" , time_in_queue/count_cleared, \"minutes\")\n",
        "  print(\"the average time planes were held in a takeoff queues was:\" , time_in_takeoff_queue/takeoffs_cleared, \"minutes\")\n",
        "  print(\"the average time planes were held in a landing queues was:\" , time_in_landing_queue/landings_cleared, \"minutes\")\n",
        "\n",
        "  # since both takeoff and landing queues are satisfied every 15 mins, the num of planes cleared will be the same unless there were 0 of one plane in its queue the beginning (then there will be a difference of 1)\n",
        "  print(\"there were\", count_cleared, \"planes cleared during this simulation.\",landings_cleared, \"planes were cleared for landing and\",takeoffs_cleared,\"planes were cleared for takeoff\" )\n",
        "  \n",
        "   \n",
        "\n",
        "     \n",
        "run_sim()\n",
        "#print(time_in_queue)\n"
      ],
      "execution_count": 271,
      "outputs": [
        {
          "output_type": "stream",
          "text": [
            "------------------------------------------\n",
            "It has been 15 minutes:\n",
            "there are 2 planes waiting to take off\n",
            "there are 1 planes waiting to land\n",
            "flight # 4 is cleared for takeoff\n",
            "flight # 13 is cleared for landing\n",
            "------------------------------------------\n",
            " \n",
            " \n",
            "------------------------------------------\n",
            "It has been 15 minutes:\n",
            "there are 2 planes waiting to take off\n",
            "there are 2 planes waiting to land\n",
            "flight # 12 is cleared for takeoff\n",
            "flight # 25 is cleared for landing\n",
            "------------------------------------------\n",
            " \n",
            " \n",
            "------------------------------------------\n",
            "It has been 15 minutes:\n",
            "there are 4 planes waiting to take off\n",
            "there are 1 planes waiting to land\n",
            "flight # 18 is cleared for takeoff\n",
            "flight # 31 is cleared for landing\n",
            "------------------------------------------\n",
            " \n",
            " \n",
            "------------------------------------------\n",
            "It has been 15 minutes:\n",
            "there are 4 planes waiting to take off\n",
            "there are 2 planes waiting to land\n",
            "flight # 36 is cleared for takeoff\n",
            "flight # 49 is cleared for landing\n",
            "------------------------------------------\n",
            " \n",
            " \n",
            "------------------------------------------\n",
            "It has been 15 minutes:\n",
            "there are 5 planes waiting to take off\n",
            "there are 2 planes waiting to land\n",
            "flight # 42 is cleared for takeoff\n",
            "flight # 53 is cleared for landing\n",
            "------------------------------------------\n",
            " \n",
            " \n",
            "------------------------------------------\n",
            "It has been 15 minutes:\n",
            "there are 5 planes waiting to take off\n",
            "there are 3 planes waiting to land\n",
            "flight # 44 is cleared for takeoff\n",
            "flight # 71 is cleared for landing\n",
            "------------------------------------------\n",
            " \n",
            " \n",
            "------------------------------------------\n",
            "It has been 15 minutes:\n",
            "there are 4 planes waiting to take off\n",
            "there are 5 planes waiting to land\n",
            "flight # 62 is cleared for takeoff\n",
            "flight # 73 is cleared for landing\n",
            "------------------------------------------\n",
            " \n",
            " \n",
            "------------------------------------------\n",
            "It has been 15 minutes:\n",
            "there are 5 planes waiting to take off\n",
            "there are 5 planes waiting to land\n",
            "flight # 64 is cleared for takeoff\n",
            "flight # 85 is cleared for landing\n",
            "------------------------------------------\n",
            " \n",
            " \n",
            "the average time all planes were held in queues was: 22.5 minutes\n",
            "the average time planes were held in a takeoff queues was: 7.5 minutes\n",
            "the average time planes were held in a landing queues was: 7.5 minutes\n",
            "there were 16 planes cleared during this simulation. 8 planes were cleared for landing and 8 planes were cleared for takeoff\n"
          ],
          "name": "stdout"
        }
      ]
    },
    {
      "cell_type": "code",
      "metadata": {
        "id": "-2d11xsqip-C"
      },
      "source": [
        "my_l = [1,2]\n",
        "#print(my_l.remove)\n",
        "my_l.append(3)\n",
        "#my_l.pop(0)\n",
        "print(my_l[0])"
      ],
      "execution_count": null,
      "outputs": []
    },
    {
      "cell_type": "markdown",
      "metadata": {
        "id": "eRWJkwwWOR4D"
      },
      "source": [
        "The reason the planes cleared don't incriment by 2 every time (like in the example) is because not all planes in the data are added to the queue. Planes are only added to the queue every 5 minutes (when they make a request). Not every plane in the data will make a request"
      ]
    },
    {
      "cell_type": "code",
      "metadata": {
        "id": "pHTRXX7E1r3m"
      },
      "source": [
        "print(Data.planes[0].string)\n",
        "print(len(Data.landing_queue))\n",
        "print(len(Data.take_off_queue))"
      ],
      "execution_count": null,
      "outputs": []
    },
    {
      "cell_type": "code",
      "metadata": {
        "id": "pABluVe9uDbm"
      },
      "source": [
        "def main():\n",
        "  get_globals()\n",
        "  run_sim()\n",
        "  "
      ],
      "execution_count": null,
      "outputs": []
    },
    {
      "cell_type": "code",
      "metadata": {
        "id": "VcyKbXl9xFQP"
      },
      "source": [
        "import random\n",
        "print(random.randrange(1,3))\n"
      ],
      "execution_count": null,
      "outputs": []
    }
  ]
}