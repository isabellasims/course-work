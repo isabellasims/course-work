{
  "nbformat": 4,
  "nbformat_minor": 0,
  "metadata": {
    "colab": {
      "name": "airport simulation",
      "provenance": [],
      "authorship_tag": "ABX9TyMoQzFWmQTTJNmiO1xkQbBi",
      "include_colab_link": true
    },
    "kernelspec": {
      "name": "python3",
      "display_name": "Python 3"
    }
  },
  "cells": [
    {
      "cell_type": "markdown",
      "metadata": {
        "id": "view-in-github",
        "colab_type": "text"
      },
      "source": [
        "<a href=\"https://colab.research.google.com/github/isabellasims/course-work/blob/master/airport_simulation.ipynb\" target=\"_parent\"><img src=\"https://colab.research.google.com/assets/colab-badge.svg\" alt=\"Open In Colab\"/></a>"
      ]
    },
    {
      "cell_type": "code",
      "metadata": {
        "id": "q-4AHq5Yr-xA"
      },
      "source": [
        "import random\n",
        "\n",
        "def get_globals():\n",
        "  global time_left\n",
        "\n",
        "class AirPlane:\n",
        "  def __init__(self, state,id,string):\n",
        "     self.state = state\n",
        "     self.id = id\n",
        "     self.string = string \n",
        "\n",
        "class Data:\n",
        "  landing_queue = []\n",
        "  take_off_queue = []\n",
        "  time_in_queue = []\n",
        "  def get_avg():\n",
        "    return sum(time_in_queue)/(len(time_in_queue))"
      ],
      "execution_count": 18,
      "outputs": []
    },
    {
      "cell_type": "code",
      "metadata": {
        "id": "1_sTwaWcyDZO"
      },
      "source": [
        "def run_sim():\n",
        "  get_globals()\n",
        "  time_left = 120\n",
        "\n",
        "\n",
        "  for i in range(time_left):\n",
        "    print(i)\n",
        "    time_left-=1\n",
        "\n",
        "  print(time_left)"
      ],
      "execution_count": 19,
      "outputs": []
    },
    {
      "cell_type": "code",
      "metadata": {
        "id": "pABluVe9uDbm"
      },
      "source": [
        "def main():\n",
        "  get_globals()\n",
        "  run_sim()"
      ],
      "execution_count": 19,
      "outputs": []
    },
    {
      "cell_type": "code",
      "metadata": {
        "id": "-cRdaMZFx157"
      },
      "source": [
        ""
      ],
      "execution_count": 19,
      "outputs": []
    }
  ]
}