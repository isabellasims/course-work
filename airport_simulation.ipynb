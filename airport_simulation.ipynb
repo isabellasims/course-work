{
  "nbformat": 4,
  "nbformat_minor": 0,
  "metadata": {
    "colab": {
      "name": "airport simulation",
      "provenance": [],
      "authorship_tag": "ABX9TyOEcK9NI8oi7qOdwPLNqX75",
      "include_colab_link": true
    },
    "kernelspec": {
      "name": "python3",
      "display_name": "Python 3"
    }
  },
  "cells": [
    {
      "cell_type": "markdown",
      "metadata": {
        "id": "view-in-github",
        "colab_type": "text"
      },
      "source": [
        "<a href=\"https://colab.research.google.com/github/isabellasims/course-work/blob/master/airport_simulation.ipynb\" target=\"_parent\"><img src=\"https://colab.research.google.com/assets/colab-badge.svg\" alt=\"Open In Colab\"/></a>"
      ]
    },
    {
      "cell_type": "code",
      "metadata": {
        "id": "q-4AHq5Yr-xA"
      },
      "source": [
        "import random\n",
        "\n",
        "def get_globals():\n",
        "  global time_left\n",
        "  global airlines\n",
        "  \n",
        "class AirPlane:\n",
        "  def __init__(self, state,id,string):\n",
        "     self.state = state # will be 1 or 2. 1 means landing, 2 means takeoff \n",
        "     self.id = id # takeoff = even, landing = odd\n",
        "     self.string = string \n",
        "  time_in_queue = 0\n",
        "\n",
        "class Data:\n",
        "  landing_queue = []\n",
        "  take_off_queue = []\n",
        "  time_in_queue = 0\n",
        "\n",
        "  planes = []\n",
        "  def get_avg():\n",
        "    return sum(Data.time_in_queue)/(len(Data.time_in_queue))"
      ],
      "execution_count": 8,
      "outputs": []
    },
    {
      "cell_type": "code",
      "metadata": {
        "id": "1_sTwaWcyDZO",
        "outputId": "d2ccfeef-e037-4119-daf0-c7617d46e499",
        "colab": {
          "base_uri": "https://localhost:8080/",
          "height": 827
        }
      },
      "source": [
        "# note, for best results, run sim a couple times (or run just this cell multiple times) to gather substantial data. \n",
        "# Data is generative, so the way this runs, new planes are spawned every time unit instead of taking a file input\n",
        "## i felt like generative data was a more accurate depiction of real world flight patterns. If you just run the whole program once, the queues will be short as not many planes have been generated in the sky\n",
        "def run_sim():\n",
        "  # initial counters for plane ids\n",
        "  even_id = 2\n",
        "  odd_id = 1\n",
        "  get_globals()\n",
        "  time_left = 120\n",
        "  airlines = [\"Delta\",\"Southwest\",\"American\",\"Alaskan\"]\n",
        "  for i in range(time_left): \n",
        "    choice = random.randrange(1,3) # program decides if new plane is taking off or landing (1 = landing, 2 = takeoff)\n",
        "    if (choice % 2 == 0):          \n",
        "      plane = AirPlane(2,even_id,random.choice(airlines)) # assign even id\n",
        "      even_id +=1 # incriment counter\n",
        "      Data.planes.append(plane) # add new plane to data\n",
        "    else:\n",
        "      plane = AirPlane(1,odd_id,random.choice(airlines))\n",
        "      odd_id += 1\n",
        "      Data.planes.append(plane)\n",
        "    time_left-=1 # decrement time left\n",
        "    if (time_left % 5 == 0): # every 5 minutes ONE (from the option 0-3 given on assignment) request is made by a plane and therefore added to its respective queue\n",
        "      Data.time_in_queue += 1\n",
        "      if (plane.state == 2): # (if plane is taking off)\n",
        "        Data.take_off_queue.append(plane)\n",
        "      else: # if plane is landing\n",
        "        Data.landing_queue.append(plane)\n",
        "        Data.time_in_queue += 1\n",
        "    if (time_left % 15 ==0):\n",
        "      # every 15 minutes a request from both the landing queue and takeoff queue is satisfied\n",
        "      # since planes are being spawned every minute, the queues are going to grow unlike the example given on the assignment. \n",
        "      # If you execute the print statements commented out here though, you can see that the queues are actually self regulating quite well and neither is growing at an excessive rate\n",
        "      cleared_for_take_off = Data.take_off_queue[0] \n",
        "      cleared_for_landing = Data.landing_queue[0] \n",
        "      Data.take_off_queue.pop(0)\n",
        "      #print(len(Data.take_off_queue))\n",
        "      Data.landing_queue.pop(0)\n",
        "      #print(len(Data.landing_queue))\n",
        "      print(\"there are \", len(Data.take_off_queue), \"planes waiting to take off\" )\n",
        "      print(\"there are \", len( Data.landing_queue), \"planes waiting to land\" )\n",
        "      print(\"flight number\", cleared_for_take_off.id, \"is cleanred for takeoff\")\n",
        "      print(\"flight number\", cleared_for_landing.id, \"is cleanred for landing\")\n",
        "run_sim()\n",
        "print(Data.get_avg())"
      ],
      "execution_count": 9,
      "outputs": [
        {
          "output_type": "stream",
          "text": [
            "there are  0 planes waiting to take off\n",
            "there are  1 planes waiting to land\n",
            "flight number 5 is cleanred for takeoff\n",
            "flight number 4 is cleanred for landing\n",
            "there are  0 planes waiting to take off\n",
            "there are  2 planes waiting to land\n",
            "flight number 9 is cleanred for takeoff\n",
            "flight number 9 is cleanred for landing\n",
            "there are  1 planes waiting to take off\n",
            "there are  2 planes waiting to land\n",
            "flight number 14 is cleanred for takeoff\n",
            "flight number 17 is cleanred for landing\n",
            "there are  1 planes waiting to take off\n",
            "there are  3 planes waiting to land\n",
            "flight number 18 is cleanred for takeoff\n",
            "flight number 18 is cleanred for landing\n",
            "there are  1 planes waiting to take off\n",
            "there are  4 planes waiting to land\n",
            "flight number 21 is cleanred for takeoff\n",
            "flight number 28 is cleanred for landing\n",
            "there are  1 planes waiting to take off\n",
            "there are  5 planes waiting to land\n",
            "flight number 25 is cleanred for takeoff\n",
            "flight number 33 is cleanred for landing\n",
            "there are  2 planes waiting to take off\n",
            "there are  5 planes waiting to land\n",
            "flight number 39 is cleanred for takeoff\n",
            "flight number 37 is cleanred for landing\n",
            "there are  3 planes waiting to take off\n",
            "there are  5 planes waiting to land\n",
            "flight number 44 is cleanred for takeoff\n",
            "flight number 43 is cleanred for landing\n"
          ],
          "name": "stdout"
        },
        {
          "output_type": "error",
          "ename": "TypeError",
          "evalue": "ignored",
          "traceback": [
            "\u001b[0;31m---------------------------------------------------------------------------\u001b[0m",
            "\u001b[0;31mTypeError\u001b[0m                                 Traceback (most recent call last)",
            "\u001b[0;32m<ipython-input-9-8a3c1dffe350>\u001b[0m in \u001b[0;36m<module>\u001b[0;34m()\u001b[0m\n\u001b[1;32m     41\u001b[0m       \u001b[0mprint\u001b[0m\u001b[0;34m(\u001b[0m\u001b[0;34m\"flight number\"\u001b[0m\u001b[0;34m,\u001b[0m \u001b[0mcleared_for_landing\u001b[0m\u001b[0;34m.\u001b[0m\u001b[0mid\u001b[0m\u001b[0;34m,\u001b[0m \u001b[0;34m\"is cleanred for landing\"\u001b[0m\u001b[0;34m)\u001b[0m\u001b[0;34m\u001b[0m\u001b[0;34m\u001b[0m\u001b[0m\n\u001b[1;32m     42\u001b[0m \u001b[0mrun_sim\u001b[0m\u001b[0;34m(\u001b[0m\u001b[0;34m)\u001b[0m\u001b[0;34m\u001b[0m\u001b[0;34m\u001b[0m\u001b[0m\n\u001b[0;32m---> 43\u001b[0;31m \u001b[0mprint\u001b[0m\u001b[0;34m(\u001b[0m\u001b[0mData\u001b[0m\u001b[0;34m.\u001b[0m\u001b[0mget_avg\u001b[0m\u001b[0;34m(\u001b[0m\u001b[0;34m)\u001b[0m\u001b[0;34m)\u001b[0m\u001b[0;34m\u001b[0m\u001b[0;34m\u001b[0m\u001b[0m\n\u001b[0m",
            "\u001b[0;32m<ipython-input-8-46740bc27b6f>\u001b[0m in \u001b[0;36mget_avg\u001b[0;34m()\u001b[0m\n\u001b[1;32m     17\u001b[0m   \u001b[0mplanes\u001b[0m \u001b[0;34m=\u001b[0m \u001b[0;34m[\u001b[0m\u001b[0;34m]\u001b[0m\u001b[0;34m\u001b[0m\u001b[0;34m\u001b[0m\u001b[0m\n\u001b[1;32m     18\u001b[0m   \u001b[0;32mdef\u001b[0m \u001b[0mget_avg\u001b[0m\u001b[0;34m(\u001b[0m\u001b[0;34m)\u001b[0m\u001b[0;34m:\u001b[0m\u001b[0;34m\u001b[0m\u001b[0;34m\u001b[0m\u001b[0m\n\u001b[0;32m---> 19\u001b[0;31m     \u001b[0;32mreturn\u001b[0m \u001b[0msum\u001b[0m\u001b[0;34m(\u001b[0m\u001b[0mData\u001b[0m\u001b[0;34m.\u001b[0m\u001b[0mtime_in_queue\u001b[0m\u001b[0;34m)\u001b[0m\u001b[0;34m/\u001b[0m\u001b[0;34m(\u001b[0m\u001b[0mlen\u001b[0m\u001b[0;34m(\u001b[0m\u001b[0mData\u001b[0m\u001b[0;34m.\u001b[0m\u001b[0mtime_in_queue\u001b[0m\u001b[0;34m)\u001b[0m\u001b[0;34m)\u001b[0m\u001b[0;34m\u001b[0m\u001b[0;34m\u001b[0m\u001b[0m\n\u001b[0m",
            "\u001b[0;31mTypeError\u001b[0m: 'int' object is not iterable"
          ]
        }
      ]
    },
    {
      "cell_type": "code",
      "metadata": {
        "id": "-2d11xsqip-C"
      },
      "source": [
        "my_l = [1,2]\n",
        "print(my_l.remove)\n",
        "my_l.pop(0)\n",
        "print(my_l)"
      ],
      "execution_count": null,
      "outputs": []
    },
    {
      "cell_type": "code",
      "metadata": {
        "id": "pHTRXX7E1r3m"
      },
      "source": [
        "print(Data.planes[0].string)\n",
        "print(len(Data.landing_queue))\n",
        "print(len(Data.take_off_queue))"
      ],
      "execution_count": null,
      "outputs": []
    },
    {
      "cell_type": "code",
      "metadata": {
        "id": "pABluVe9uDbm"
      },
      "source": [
        "def main():\n",
        "  get_globals()\n",
        "  run_sim()\n",
        "  "
      ],
      "execution_count": null,
      "outputs": []
    },
    {
      "cell_type": "code",
      "metadata": {
        "id": "VcyKbXl9xFQP"
      },
      "source": [
        "import random\n",
        "print(random.randrange(1,3))\n"
      ],
      "execution_count": null,
      "outputs": []
    }
  ]
}