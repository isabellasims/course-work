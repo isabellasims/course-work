{
  "nbformat": 4,
  "nbformat_minor": 0,
  "metadata": {
    "colab": {
      "name": "airport simulation",
      "provenance": [],
      "authorship_tag": "ABX9TyPjXhE7P6QW1h4i8hUFay47",
      "include_colab_link": true
    },
    "kernelspec": {
      "name": "python3",
      "display_name": "Python 3"
    }
  },
  "cells": [
    {
      "cell_type": "markdown",
      "metadata": {
        "id": "view-in-github",
        "colab_type": "text"
      },
      "source": [
        "<a href=\"https://colab.research.google.com/github/isabellasims/course-work/blob/master/airport_simulation.ipynb\" target=\"_parent\"><img src=\"https://colab.research.google.com/assets/colab-badge.svg\" alt=\"Open In Colab\"/></a>"
      ]
    },
    {
      "cell_type": "code",
      "metadata": {
        "id": "q-4AHq5Yr-xA"
      },
      "source": [
        "import random\n",
        "\n",
        "def get_globals():\n",
        "  global time_left\n",
        "  global airlines\n",
        "  \n",
        "\n",
        "class AirPlane:\n",
        "  def __init__(self, state,id,string):\n",
        "     self.state = state # will be 1 or 2. 1 means landing, 2 means takeoff \n",
        "     self.id = id # takeoff = even, landing = odd\n",
        "     self.string = string \n",
        "\n",
        "class Data:\n",
        "  landing_queue = []\n",
        "  take_off_queue = []\n",
        "  time_in_queue = 0\n",
        "  planes = []\n",
        "  def get_avg():\n",
        "    return sum(time_in_queue)/(len(time_in_queue))"
      ],
      "execution_count": 22,
      "outputs": []
    },
    {
      "cell_type": "code",
      "metadata": {
        "id": "1_sTwaWcyDZO"
      },
      "source": [
        "\n",
        "def run_sim():\n",
        "  # initial counters for plane ids\n",
        "  even_id = 2\n",
        "  odd_id = 1\n",
        "  get_globals()\n",
        "  time_left = 120\n",
        "  airlines = [\"Delta\",\"Southwest\",\"American\",\"Alaskan\"]\n",
        "  for i in range(time_left): \n",
        "    # program decides if new plane is taking off or landing (1 = landing, 2 = takeoff)\n",
        "    choice = random.randrange(1,3)\n",
        "    if (choice % 2 == 0):\n",
        "      # assign even id\n",
        "      plane = AirPlane(2,even_id,random.choice(airlines))\n",
        "      # incriment counter\n",
        "      even_id +=1\n",
        "      # add new plane to data\n",
        "      Data.planes.append(plane)\n",
        "    else:\n",
        "      plane = AirPlane(1,odd_id,random.choice(airlines))\n",
        "      odd_id += 1\n",
        "      Data.planes.append(plane)\n",
        "    time_left-=1\n",
        "    if (time_left % 5 == 0):\n",
        "      time_in_queue += \n",
        "      if (plane.state == 2): # (if plane is taking off)\n",
        "        \n",
        "\n",
        "\n",
        "run_sim()"
      ],
      "execution_count": 23,
      "outputs": []
    },
    {
      "cell_type": "code",
      "metadata": {
        "id": "pHTRXX7E1r3m",
        "outputId": "91350c71-36d9-457b-9594-84e01f59ef43",
        "colab": {
          "base_uri": "https://localhost:8080/",
          "height": 34
        }
      },
      "source": [
        "print(Data.planes[0].string)"
      ],
      "execution_count": 24,
      "outputs": [
        {
          "output_type": "stream",
          "text": [
            "Delta\n"
          ],
          "name": "stdout"
        }
      ]
    },
    {
      "cell_type": "code",
      "metadata": {
        "id": "pABluVe9uDbm"
      },
      "source": [
        "def main():\n",
        "  get_globals()\n",
        "  run_sim()\n",
        "  "
      ],
      "execution_count": 25,
      "outputs": []
    },
    {
      "cell_type": "code",
      "metadata": {
        "id": "VcyKbXl9xFQP",
        "outputId": "b0116250-63ed-49ec-b1bc-1b72153a1376",
        "colab": {
          "base_uri": "https://localhost:8080/",
          "height": 34
        }
      },
      "source": [
        "import random\n",
        "print(random.randrange(1,3))\n"
      ],
      "execution_count": 26,
      "outputs": [
        {
          "output_type": "stream",
          "text": [
            "1\n"
          ],
          "name": "stdout"
        }
      ]
    }
  ]
}