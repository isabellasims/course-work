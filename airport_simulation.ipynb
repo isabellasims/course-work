{
  "nbformat": 4,
  "nbformat_minor": 0,
  "metadata": {
    "colab": {
      "name": "airport simulation",
      "provenance": [],
      "collapsed_sections": [],
      "authorship_tag": "ABX9TyPAgqrvPTnjWOsjHjdMijmt",
      "include_colab_link": true
    },
    "kernelspec": {
      "name": "python3",
      "display_name": "Python 3"
    }
  },
  "cells": [
    {
      "cell_type": "markdown",
      "metadata": {
        "id": "view-in-github",
        "colab_type": "text"
      },
      "source": [
        "<a href=\"https://colab.research.google.com/github/isabellasims/course-work/blob/master/airport_simulation.ipynb\" target=\"_parent\"><img src=\"https://colab.research.google.com/assets/colab-badge.svg\" alt=\"Open In Colab\"/></a>"
      ]
    },
    {
      "cell_type": "code",
      "metadata": {
        "id": "q-4AHq5Yr-xA"
      },
      "source": [
        "import random\n",
        "\n",
        "def get_globals():\n",
        "  global time_left\n",
        "  global airlines\n",
        "  \n",
        "class AirPlane:\n",
        "  def __init__(self, state,id,string):\n",
        "     self.state = state # will be 1 or 2. 1 means landing, 2 means takeoff \n",
        "     self.id = id # takeoff = even, landing = odd\n",
        "     self.string = string \n",
        "  time_in_queue = 0\n",
        "\n",
        "class Data:\n",
        "  landing_queue = []\n",
        "  take_off_queue = []\n",
        "  time_in_queue = 0\n",
        "\n",
        "  planes = []\n",
        "  def get_avg():\n",
        "    return sum(Data.time_in_queue)/(len(Data.time_in_queue))"
      ],
      "execution_count": 133,
      "outputs": []
    },
    {
      "cell_type": "code",
      "metadata": {
        "id": "1_sTwaWcyDZO",
        "outputId": "f8f5b334-25c4-4c93-ec54-994c47d9b5f8",
        "colab": {
          "base_uri": "https://localhost:8080/",
          "height": 561
        }
      },
      "source": [
        "# note, for best results, run sim a couple times (or run just this cell multiple times) to gather substantial data. \n",
        "# Data is generative, so the way this runs, new planes are spawned every time unit instead of taking a file input\n",
        "## i felt like generative data was a more accurate depiction of real world flight patterns. If you just run the whole program once, the queues will be short as not many planes have been generated in the sky\n",
        "def run_sim():\n",
        "  # initial counters for plane ids\n",
        "  even_id = 2\n",
        "  odd_id = 1\n",
        "  get_globals()\n",
        "  time_left = 120\n",
        "  airlines = [\"Delta\",\"Southwest\",\"American\",\"Alaskan\"]\n",
        "  for i in range(time_left): \n",
        "    choice = random.randrange(1,3) # program decides if new plane is taking off or landing (1 = landing, 2 = takeoff)\n",
        "    if (choice % 2 == 0):          \n",
        "      plane = AirPlane(2,even_id,random.choice(airlines)) # assign even id\n",
        "      even_id +=2 # incriment counter\n",
        "      Data.planes.append(plane) # add new plane to data\n",
        "    else:\n",
        "      plane = AirPlane(1,odd_id,random.choice(airlines))\n",
        "      odd_id += 2\n",
        "      Data.planes.append(plane)\n",
        "    time_left-=1 # decrement time left\n",
        "    if (time_left % 5 == 0): # every 5 minutes ONE (from the option 0-3 given on assignment) request is made by a plane and therefore added to its respective queue\n",
        "      plane.time_in_queue += 1\n",
        "      if (plane.state == 2): # (if plane is taking off)\n",
        "        Data.take_off_queue.append(plane)\n",
        "      else: # if plane is landing\n",
        "        Data.landing_queue.append(plane)\n",
        "        plane.time_in_queue += 1\n",
        "    if (time_left % 15 ==0):\n",
        "      # every 15 minutes a request from both the landing queue and takeoff queue is satisfied\n",
        "      # since planes are being spawned every minute, the queues are going to grow unlike the example given on the assignment. \n",
        "     \n",
        "      print(\"there are\", len(Data.take_off_queue), \"planes waiting to take off\" )\n",
        "      #if (Data.landing_queue ):\n",
        "      print(\"there are\", len( Data.landing_queue), \"planes waiting to land\" )\n",
        "      if (Data.take_off_queue ):\n",
        "        cleared_for_take_off = Data.take_off_queue[0] \n",
        "        Data.take_off_queue.pop(0)\n",
        "        print(\"flight number\", cleared_for_take_off.id, \"is cleared for takeoff\")\n",
        "      if (Data.landing_queue ):\n",
        "        cleared_for_landing = Data.landing_queue[0] \n",
        "        Data.landing_queue.pop(0)\n",
        "        print(\"flight number\", cleared_for_landing.id, \"is cleared for landing\")\n",
        "      #Data.take_off_queue.pop(0)\n",
        "      #print(len(Data.take_off_queue))\n",
        "      #Data.landing_queue.pop(0)\n",
        "      #print(len(Data.landing_queue))\n",
        "      #print(\"there are\", len(Data.take_off_queue), \"planes waiting to take off\" )\n",
        "      #print(\"there are\", len( Data.landing_queue), \"planes waiting to land\" )\n",
        "      #print(\"flight number\", cleared_for_take_off.id, \"is cleared for takeoff\")\n",
        "      #print(\"flight number\", cleared_for_landing.id, \"is cleared for landing\")\n",
        "     \n",
        "run_sim()\n"
      ],
      "execution_count": 134,
      "outputs": [
        {
          "output_type": "stream",
          "text": [
            "there are 1 planes waiting to take off\n",
            "there are 2 planes waiting to land\n",
            "flight number 10 is cleared for takeoff\n",
            "flight number 7 is cleared for landing\n",
            "there are 2 planes waiting to take off\n",
            "there are 2 planes waiting to land\n",
            "flight number 28 is cleared for takeoff\n",
            "flight number 13 is cleared for landing\n",
            "there are 2 planes waiting to take off\n",
            "there are 3 planes waiting to land\n",
            "flight number 32 is cleared for takeoff\n",
            "flight number 17 is cleared for landing\n",
            "there are 3 planes waiting to take off\n",
            "there are 3 planes waiting to land\n",
            "flight number 42 is cleared for takeoff\n",
            "flight number 31 is cleared for landing\n",
            "there are 5 planes waiting to take off\n",
            "there are 2 planes waiting to land\n",
            "flight number 52 is cleared for takeoff\n",
            "flight number 43 is cleared for landing\n",
            "there are 6 planes waiting to take off\n",
            "there are 2 planes waiting to land\n",
            "flight number 58 is cleared for takeoff\n",
            "flight number 53 is cleared for landing\n",
            "there are 7 planes waiting to take off\n",
            "there are 2 planes waiting to land\n",
            "flight number 66 is cleared for takeoff\n",
            "flight number 89 is cleared for landing\n",
            "there are 7 planes waiting to take off\n",
            "there are 3 planes waiting to land\n",
            "flight number 74 is cleared for takeoff\n",
            "flight number 101 is cleared for landing\n"
          ],
          "name": "stdout"
        }
      ]
    },
    {
      "cell_type": "code",
      "metadata": {
        "id": "-2d11xsqip-C",
        "outputId": "db292788-e661-4be4-854f-6fb64232694e",
        "colab": {
          "base_uri": "https://localhost:8080/",
          "height": 51
        }
      },
      "source": [
        "my_l = [1,2]\n",
        "print(my_l.remove)\n",
        "my_l.pop(0)\n",
        "print(my_l)"
      ],
      "execution_count": 135,
      "outputs": [
        {
          "output_type": "stream",
          "text": [
            "<built-in method remove of list object at 0x7ffaf63af648>\n",
            "[2]\n"
          ],
          "name": "stdout"
        }
      ]
    },
    {
      "cell_type": "code",
      "metadata": {
        "id": "pHTRXX7E1r3m",
        "outputId": "ac669018-e922-4ee9-bcea-895a55164de0",
        "colab": {
          "base_uri": "https://localhost:8080/",
          "height": 68
        }
      },
      "source": [
        "print(Data.planes[0].string)\n",
        "print(len(Data.landing_queue))\n",
        "print(len(Data.take_off_queue))"
      ],
      "execution_count": 136,
      "outputs": [
        {
          "output_type": "stream",
          "text": [
            "American\n",
            "2\n",
            "6\n"
          ],
          "name": "stdout"
        }
      ]
    },
    {
      "cell_type": "code",
      "metadata": {
        "id": "pABluVe9uDbm"
      },
      "source": [
        "def main():\n",
        "  get_globals()\n",
        "  run_sim()\n",
        "  "
      ],
      "execution_count": 137,
      "outputs": []
    },
    {
      "cell_type": "code",
      "metadata": {
        "id": "VcyKbXl9xFQP",
        "outputId": "c844d365-1870-4ec0-9b0b-3306f846ab3a",
        "colab": {
          "base_uri": "https://localhost:8080/",
          "height": 34
        }
      },
      "source": [
        "import random\n",
        "print(random.randrange(1,3))\n"
      ],
      "execution_count": 138,
      "outputs": [
        {
          "output_type": "stream",
          "text": [
            "1\n"
          ],
          "name": "stdout"
        }
      ]
    }
  ]
}