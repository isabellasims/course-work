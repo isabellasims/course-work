{
  "nbformat": 4,
  "nbformat_minor": 0,
  "metadata": {
    "colab": {
      "name": "Arithmetic & Geometrics Sequence",
      "provenance": [],
      "include_colab_link": true
    },
    "kernelspec": {
      "name": "python3",
      "display_name": "Python 3"
    }
  },
  "cells": [
    {
      "cell_type": "markdown",
      "metadata": {
        "id": "view-in-github",
        "colab_type": "text"
      },
      "source": [
        "<a href=\"https://colab.research.google.com/github/isabellasims/course-work/blob/master/Arithmetic_%26_Geometrics_Sequence.ipynb\" target=\"_parent\"><img src=\"https://colab.research.google.com/assets/colab-badge.svg\" alt=\"Open In Colab\"/></a>"
      ]
    },
    {
      "cell_type": "markdown",
      "metadata": {
        "id": "uNE0yrD3iXPA",
        "colab_type": "text"
      },
      "source": [
        "Define a Arithmetic Sequence with the given inputs:\n",
        "\n",
        "first number = a1\n",
        "\n",
        "common difference = difference\n",
        "\n",
        "total number of members = amount\n",
        "\n",
        "sum = sum of series\n",
        "\n",
        "\n",
        "Print the members of the sequence: a1, a1+d, a1+2d,…… , a1+(n-1)d\n",
        "\n",
        "Print the sum of the series: a1+(a1+d) + (a1+2d) + …… (a1+ (n-1)d)\n",
        "\n",
        "\n",
        "Example:\n",
        "\n",
        "Sequence: 4, 10, 16, 22, 28, 34, 40\n",
        "Series: 4+10+16+22+28+34+40 "
      ]
    },
    {
      "cell_type": "code",
      "metadata": {
        "id": "YnGWvtXYiSCl",
        "colab_type": "code",
        "colab": {}
      },
      "source": [
        "def Arithmatic(a1,dif,amount):\n",
        "\n",
        "    # define constants\n",
        "    members = [];\n",
        "    sum = a1\n",
        "\n",
        "    # populate members\n",
        "    for i in range(amount):\n",
        "      nextNum = a1 + i*dif\n",
        "      sum += nextNum\n",
        "      members.append(nextNum)\n",
        "\n",
        "    sequence = str(members).strip('[]')\n",
        "    print(\"sequence: \" , sequence)\n",
        "    series = sequence. replace(',',' +')\n",
        "    print(\"series: \" ,series , \" = \" , sum)\n",
        "    series = list(series)"
      ],
      "execution_count": null,
      "outputs": []
    },
    {
      "cell_type": "code",
      "metadata": {
        "id": "7WibGeHTphDG",
        "colab_type": "code",
        "colab": {
          "base_uri": "https://localhost:8080/",
          "height": 52
        },
        "outputId": "b4094bfb-2910-47e1-bbab-b910eb9509f6"
      },
      "source": [
        "Arithmatic(4,6,7)"
      ],
      "execution_count": null,
      "outputs": [
        {
          "output_type": "stream",
          "text": [
            "sequence:  4, 10, 16, 22, 28, 34, 40\n",
            "series:  4 + 10 + 16 + 22 + 28 + 34 + 40  =  158\n"
          ],
          "name": "stdout"
        }
      ]
    },
    {
      "cell_type": "code",
      "metadata": {
        "id": "UhzpLH5vqHeZ",
        "colab_type": "code",
        "colab": {
          "base_uri": "https://localhost:8080/",
          "height": 52
        },
        "outputId": "4abb2cf9-11a4-4c11-edfc-8ee2fab70e3a"
      },
      "source": [
        "Arithmatic(1,-1,20)"
      ],
      "execution_count": null,
      "outputs": [
        {
          "output_type": "stream",
          "text": [
            "sequence:  1, 0, -1, -2, -3, -4, -5, -6, -7, -8, -9, -10, -11, -12, -13, -14, -15, -16, -17, -18\n",
            "series:  1 + 0 + -1 + -2 + -3 + -4 + -5 + -6 + -7 + -8 + -9 + -10 + -11 + -12 + -13 + -14 + -15 + -16 + -17 + -18  =  -169\n"
          ],
          "name": "stdout"
        }
      ]
    },
    {
      "cell_type": "code",
      "metadata": {
        "id": "UGpMkJLVqJ49",
        "colab_type": "code",
        "colab": {
          "base_uri": "https://localhost:8080/",
          "height": 52
        },
        "outputId": "32ef6a0f-ceca-43fa-ddeb-2065ac069d96"
      },
      "source": [
        "Arithmatic(-9,2,11)"
      ],
      "execution_count": null,
      "outputs": [
        {
          "output_type": "stream",
          "text": [
            "sequence:  -9, -7, -5, -3, -1, 1, 3, 5, 7, 9, 11\n",
            "series:  -9 + -7 + -5 + -3 + -1 + 1 + 3 + 5 + 7 + 9 + 11  =  2\n"
          ],
          "name": "stdout"
        }
      ]
    },
    {
      "cell_type": "markdown",
      "metadata": {
        "id": "bLESEEULs4WL",
        "colab_type": "text"
      },
      "source": [
        "Geometic Sequence and Series"
      ]
    },
    {
      "cell_type": "code",
      "metadata": {
        "id": "sFWbTxlhs_DD",
        "colab_type": "code",
        "colab": {}
      },
      "source": [
        "def Geometric(a1,r,amount):\n",
        "\n",
        "    # define constants\n",
        "    members = [];\n",
        "    sum = a1\n",
        "\n",
        "    # populate members\n",
        "    for i in range(amount):\n",
        "      nextNum = a1 + i*r\n",
        "      sum += nextNum\n",
        "      members.append(nextNum)\n",
        "\n",
        "    sequence = str(members).strip('[]')\n",
        "    print(\"sequence: \" , sequence)\n",
        "    series = sequence. replace(',',' +')\n",
        "    print(\"series: \" ,series , \" = \" , sum)\n",
        "    series = list(series)"
      ],
      "execution_count": null,
      "outputs": []
    },
    {
      "cell_type": "code",
      "metadata": {
        "id": "Lbuy1Ao1yMxl",
        "colab_type": "code",
        "colab": {
          "base_uri": "https://localhost:8080/",
          "height": 52
        },
        "outputId": "0340daa4-dd1a-41a8-fc1d-22dfbc2b4f69"
      },
      "source": [
        "Geometric(2,(8/4),6)"
      ],
      "execution_count": null,
      "outputs": [
        {
          "output_type": "stream",
          "text": [
            "sequence:  2.0, 4.0, 6.0, 8.0, 10.0, 12.0\n",
            "series:  2.0 + 4.0 + 6.0 + 8.0 + 10.0 + 12.0  =  44.0\n"
          ],
          "name": "stdout"
        }
      ]
    },
    {
      "cell_type": "code",
      "metadata": {
        "id": "8F4sQVCxyj_0",
        "colab_type": "code",
        "colab": {
          "base_uri": "https://localhost:8080/",
          "height": 72
        },
        "outputId": "236ff84f-2a85-4386-b58b-5721e0faa3c4"
      },
      "source": [
        "Geometric(-8,(9/4),20)"
      ],
      "execution_count": null,
      "outputs": [
        {
          "output_type": "stream",
          "text": [
            "sequence:  -8.0, -5.75, -3.5, -1.25, 1.0, 3.25, 5.5, 7.75, 10.0, 12.25, 14.5, 16.75, 19.0, 21.25, 23.5, 25.75, 28.0, 30.25, 32.5, 34.75\n",
            "series:  -8.0 + -5.75 + -3.5 + -1.25 + 1.0 + 3.25 + 5.5 + 7.75 + 10.0 + 12.25 + 14.5 + 16.75 + 19.0 + 21.25 + 23.5 + 25.75 + 28.0 + 30.25 + 32.5 + 34.75  =  259.5\n"
          ],
          "name": "stdout"
        }
      ]
    },
    {
      "cell_type": "code",
      "metadata": {
        "id": "73me-aStyw73",
        "colab_type": "code",
        "colab": {
          "base_uri": "https://localhost:8080/",
          "height": 52
        },
        "outputId": "4e80f940-df41-4c23-df3d-39474117a585"
      },
      "source": [
        "Geometric(24,(1/3),5)"
      ],
      "execution_count": null,
      "outputs": [
        {
          "output_type": "stream",
          "text": [
            "sequence:  24.0, 24.333333333333332, 24.666666666666668, 25.0, 25.333333333333332\n",
            "series:  24.0 + 24.333333333333332 + 24.666666666666668 + 25.0 + 25.333333333333332  =  147.33333333333334\n"
          ],
          "name": "stdout"
        }
      ]
    },
    {
      "cell_type": "markdown",
      "metadata": {
        "id": "JeKzZfrozaP2",
        "colab_type": "text"
      },
      "source": [
        "Part 3: Infinite Geometric Sequence and Series\n",
        "Given the appropriate inputs to create a Geometric Sequence, (for example, first\n",
        "number, ratio, last number, and/or total number of members) write a program to\n",
        "see if an infinite Geometric Sequence has a sum. If so, print the sum. "
      ]
    },
    {
      "cell_type": "code",
      "metadata": {
        "id": "7q1HZXWUzf1N",
        "colab_type": "code",
        "colab": {}
      },
      "source": [
        "def infiniteGeometric(a1,r):\n",
        "    if (-1<r<1):\n",
        "      sum = a1/(1-r)\n",
        "      print('infinite geometric sequence has sum: ', sum)\n",
        "    else:\n",
        "      print('infinite geometric sequence has no sum')"
      ],
      "execution_count": null,
      "outputs": []
    },
    {
      "cell_type": "code",
      "metadata": {
        "id": "zwijFaTp1x1v",
        "colab_type": "code",
        "colab": {
          "base_uri": "https://localhost:8080/",
          "height": 52
        },
        "outputId": "8118b9e9-8a15-4b37-919c-63d6803dd9f5"
      },
      "source": [
        "# params that produce sum\n",
        "infiniteGeometric(3,(1/3))\n",
        "infiniteGeometric(300,(-1/100000))"
      ],
      "execution_count": null,
      "outputs": [
        {
          "output_type": "stream",
          "text": [
            "infinite geometric sequence has sum:  4.499999999999999\n",
            "infinite geometric sequence has sum:  299.9970000299997\n"
          ],
          "name": "stdout"
        }
      ]
    },
    {
      "cell_type": "code",
      "metadata": {
        "id": "eylnwNfY2AFB",
        "colab_type": "code",
        "colab": {
          "base_uri": "https://localhost:8080/",
          "height": 52
        },
        "outputId": "f5c3024e-cab2-4d1c-f6a5-870cc83aa8a2"
      },
      "source": [
        "# params that produce no sum\n",
        "infiniteGeometric(3,(-1/1))\n",
        "infiniteGeometric(238470,-4)"
      ],
      "execution_count": null,
      "outputs": [
        {
          "output_type": "stream",
          "text": [
            "infinite geometric sequence has no sum\n",
            "infinite geometric sequence has no sum\n"
          ],
          "name": "stdout"
        }
      ]
    }
  ]
}