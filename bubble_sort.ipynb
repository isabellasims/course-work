{
  "nbformat": 4,
  "nbformat_minor": 0,
  "metadata": {
    "colab": {
      "name": "bubble sort",
      "provenance": [],
      "collapsed_sections": [],
      "include_colab_link": true
    },
    "kernelspec": {
      "name": "python3",
      "display_name": "Python 3"
    }
  },
  "cells": [
    {
      "cell_type": "markdown",
      "metadata": {
        "id": "view-in-github",
        "colab_type": "text"
      },
      "source": [
        "<a href=\"https://colab.research.google.com/github/isabellasims/course-work/blob/master/bubble_sort.ipynb\" target=\"_parent\"><img src=\"https://colab.research.google.com/assets/colab-badge.svg\" alt=\"Open In Colab\"/></a>"
      ]
    },
    {
      "cell_type": "code",
      "metadata": {
        "id": "dZmMLV6kVDKJ",
        "outputId": "fd5fe491-ab26-4a26-e633-a2104ea82b22",
        "colab": {
          "base_uri": "https://localhost:8080/",
          "height": 34
        }
      },
      "source": [
        "def bubbleSort(arr):\n",
        "\n",
        "    n = len(arr) \n",
        "  \n",
        "    # Traverse through all array elements \n",
        "    for i in range(n): \n",
        "  \n",
        "        # Last i elements are already in place \n",
        "        for j in range(0, n-i-1): \n",
        "  \n",
        "            # traverse the array from 0 to n-i-1 \n",
        "            # Swap if the element found is greater \n",
        "            # than the next element \n",
        "            if arr[j] > arr[j+1] : # RIGHT HERE\n",
        "                arr[j], arr[j+1] = arr[j+1], arr[j] \n",
        "    print(arr)\n",
        "bubbleSort([3,5,2])"
      ],
      "execution_count": null,
      "outputs": [
        {
          "output_type": "stream",
          "text": [
            "[2, 3, 5]\n"
          ],
          "name": "stdout"
        }
      ]
    },
    {
      "cell_type": "code",
      "metadata": {
        "id": "CX9styI7XniZ"
      },
      "source": [
        "nums = "
      ],
      "execution_count": null,
      "outputs": []
    },
    {
      "cell_type": "code",
      "metadata": {
        "id": "TxoewWaKWJQU",
        "outputId": "34722645-ae04-406f-9937-057be041ff05",
        "colab": {
          "base_uri": "https://localhost:8080/",
          "height": 295
        }
      },
      "source": [
        "def sort(numbers):\n",
        "  for i in range(5):\n",
        "    min_position = i\n",
        "    for j in range(i,6):\n",
        "      if numbers[j]<numbers[min_position]:\n",
        "        min_position = j\n",
        "    temp = numbers[i]\n",
        "    print(\"iteration\",i)\n",
        "    print(\"temp =\",temp)\n",
        "    print(\" \")\n",
        "    numbers[i] = numbers[min_position]\n",
        "   \n",
        "    numbers[min_position]= temp\n",
        "\n",
        "numbers = [4,3,8,6,7,2]\n",
        "sort(numbers)\n",
        "print(numbers)"
      ],
      "execution_count": null,
      "outputs": [
        {
          "output_type": "stream",
          "text": [
            "iteration 0\n",
            "temp = 4\n",
            " \n",
            "iteration 1\n",
            "temp = 3\n",
            " \n",
            "iteration 2\n",
            "temp = 8\n",
            " \n",
            "iteration 3\n",
            "temp = 6\n",
            " \n",
            "iteration 4\n",
            "temp = 7\n",
            " \n",
            "[2, 3, 4, 6, 7, 8]\n"
          ],
          "name": "stdout"
        }
      ]
    },
    {
      "cell_type": "code",
      "metadata": {
        "id": "C2mKBmOHVsHc",
        "outputId": "7081ae6e-0260-4d4c-d785-0adf2ebf5183",
        "colab": {
          "base_uri": "https://localhost:8080/",
          "height": 34
        }
      },
      "source": [
        "def bubbleSort(arr):\n",
        "\n",
        "    n = len(arr) \n",
        "  \n",
        "    # Traverse through all array elements \n",
        "    for i in range(n): \n",
        "  \n",
        "        # Last i elements are already in place \n",
        "        for j in range(0, n-i-1): \n",
        "  \n",
        "            # traverse the array from 0 to n-i-1 \n",
        "            # Swap if the element found is greater \n",
        "            # than the next element \n",
        "            if arr[j] < arr[j+1] : # RIGHT HERE\n",
        "                arr[j], arr[j+1] = arr[j+1], arr[j] \n",
        "    print(arr)\n",
        "bubbleSort([3,5,2])"
      ],
      "execution_count": null,
      "outputs": [
        {
          "output_type": "stream",
          "text": [
            "[5, 3, 2]\n"
          ],
          "name": "stdout"
        }
      ]
    }
  ]
}