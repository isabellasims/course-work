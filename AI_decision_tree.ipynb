{
  "nbformat": 4,
  "nbformat_minor": 0,
  "metadata": {
    "colab": {
      "name": "AI decision tree",
      "provenance": [],
      "include_colab_link": true
    },
    "kernelspec": {
      "name": "python3",
      "display_name": "Python 3"
    }
  },
  "cells": [
    {
      "cell_type": "markdown",
      "metadata": {
        "id": "view-in-github",
        "colab_type": "text"
      },
      "source": [
        "<a href=\"https://colab.research.google.com/github/isabellasims/course-work/blob/master/AI_decision_tree.ipynb\" target=\"_parent\"><img src=\"https://colab.research.google.com/assets/colab-badge.svg\" alt=\"Open In Colab\"/></a>"
      ]
    },
    {
      "cell_type": "markdown",
      "metadata": {
        "id": "k6CtvtDaqwy5"
      },
      "source": [
        "This notebook shows how to:\n",
        "\n",
        "*   Load a data set from the [UC Irvine Machine Learning repository](https://archive.ics.uci.edu/ml/datasets.php) into a Pandas dataframe.\n",
        "*   Train a decision tree using that data.\n",
        "\n"
      ]
    },
    {
      "cell_type": "markdown",
      "metadata": {
        "id": "l95LJXVFuj8A"
      },
      "source": [
        "**Loading a dataset**"
      ]
    },
    {
      "cell_type": "code",
      "metadata": {
        "id": "Bdf19dLSrimH"
      },
      "source": [
        "import pandas as pd\n",
        "import numpy as np"
      ],
      "execution_count": null,
      "outputs": []
    },
    {
      "cell_type": "markdown",
      "metadata": {
        "id": "MIXxbO06rvlS"
      },
      "source": [
        "In this example, we'll use the [Spambase](https://archive.ics.uci.edu/ml/datasets/Spambase) dataset. Each dataset has a page describing it. From this page, we can see that:\n",
        "\n",
        "* It's a classification task, with integer-valued and real-value attributes. That means that our *x* is an array of numbers, and our *y* is a set of discrete classes. \n",
        "* The features in *x* are based on word and character frequencies.\n",
        "* The discrete classes for *y* are \"yes\" and \"no\" (whether a message is spam or not).\n",
        "* There are 4601 instances (labeled examples) in the dataset.\n",
        "* There are 57 attributes (this counts both the *x* and *y*).\n",
        "\n"
      ]
    },
    {
      "cell_type": "markdown",
      "metadata": {
        "id": "A75YuRh7suG1"
      },
      "source": [
        "To get the dataset itself, click on \"Data Folder\" at the top of the page.  This takes us to a folder with a few files. The one ending with .data is always the one with the dataset itself, in comma-separated value (CSV) format. The .names file contains labels for the columns.\n",
        "\n",
        "Pandas supports loading a CSV directly from a URL, so let's pull it in to a dataframe."
      ]
    },
    {
      "cell_type": "code",
      "metadata": {
        "id": "C2pdtXaO3Lmc"
      },
      "source": [
        "# url = \"https://archive.ics.uci.edu/ml/machine-learning-databases/spambase/spambase.data\"\n",
        "url = \"https://archive.ics.uci.edu/ml/machine-learning-databases/haberman/haberman.data\"\n",
        "spamdata = pd.read_csv(url, header=None)"
      ],
      "execution_count": null,
      "outputs": []
    },
    {
      "cell_type": "markdown",
      "metadata": {
        "id": "VmjBuFl7tUBY"
      },
      "source": [
        "Now we have a dataframe with 4601 lines (one per instance) and 57 columns (one per attribute). We can do various things to look at it (check the Pandas documentation for more):"
      ]
    },
    {
      "cell_type": "markdown",
      "metadata": {
        "id": "Uo3hZZkfZveX"
      },
      "source": [
        "https://archive.ics.uci.edu/ml/datasets/Haberman's+Survival\n",
        "\n",
        "1. Age of patient at time of operation (numerical)\n",
        "2. Patient's year of operation (year - 1900, numerical)\n",
        "3. Number of positive axillary nodes detected (numerical)\n",
        "4. Survival status (class attribute)\n",
        "-- 1 = the patient survived 5 years or longer\n",
        "-- 2 = the patient died within 5 year"
      ]
    },
    {
      "cell_type": "code",
      "metadata": {
        "id": "LvOs9UUrtflC",
        "outputId": "2ee4d622-bcd3-4023-d5ac-1f93f8a395e0",
        "colab": {
          "base_uri": "https://localhost:8080/",
          "height": 204
        }
      },
      "source": [
        "# Show the first 5 instances\n",
        "spamdata.head(5)"
      ],
      "execution_count": null,
      "outputs": [
        {
          "output_type": "execute_result",
          "data": {
            "text/html": [
              "<div>\n",
              "<style scoped>\n",
              "    .dataframe tbody tr th:only-of-type {\n",
              "        vertical-align: middle;\n",
              "    }\n",
              "\n",
              "    .dataframe tbody tr th {\n",
              "        vertical-align: top;\n",
              "    }\n",
              "\n",
              "    .dataframe thead th {\n",
              "        text-align: right;\n",
              "    }\n",
              "</style>\n",
              "<table border=\"1\" class=\"dataframe\">\n",
              "  <thead>\n",
              "    <tr style=\"text-align: right;\">\n",
              "      <th></th>\n",
              "      <th>0</th>\n",
              "      <th>1</th>\n",
              "      <th>2</th>\n",
              "      <th>3</th>\n",
              "    </tr>\n",
              "  </thead>\n",
              "  <tbody>\n",
              "    <tr>\n",
              "      <th>0</th>\n",
              "      <td>30</td>\n",
              "      <td>64</td>\n",
              "      <td>1</td>\n",
              "      <td>1</td>\n",
              "    </tr>\n",
              "    <tr>\n",
              "      <th>1</th>\n",
              "      <td>30</td>\n",
              "      <td>62</td>\n",
              "      <td>3</td>\n",
              "      <td>1</td>\n",
              "    </tr>\n",
              "    <tr>\n",
              "      <th>2</th>\n",
              "      <td>30</td>\n",
              "      <td>65</td>\n",
              "      <td>0</td>\n",
              "      <td>1</td>\n",
              "    </tr>\n",
              "    <tr>\n",
              "      <th>3</th>\n",
              "      <td>31</td>\n",
              "      <td>59</td>\n",
              "      <td>2</td>\n",
              "      <td>1</td>\n",
              "    </tr>\n",
              "    <tr>\n",
              "      <th>4</th>\n",
              "      <td>31</td>\n",
              "      <td>65</td>\n",
              "      <td>4</td>\n",
              "      <td>1</td>\n",
              "    </tr>\n",
              "  </tbody>\n",
              "</table>\n",
              "</div>"
            ],
            "text/plain": [
              "    0   1  2  3\n",
              "0  30  64  1  1\n",
              "1  30  62  3  1\n",
              "2  30  65  0  1\n",
              "3  31  59  2  1\n",
              "4  31  65  4  1"
            ]
          },
          "metadata": {
            "tags": []
          },
          "execution_count": 3
        }
      ]
    },
    {
      "cell_type": "code",
      "metadata": {
        "id": "ieZV8Qlxtp25",
        "outputId": "c4f756dc-d51a-4c3a-d80c-f4be65e99d1d",
        "colab": {
          "base_uri": "https://localhost:8080/",
          "height": 204
        }
      },
      "source": [
        "# Show 5 random instances\n",
        "spamdata.sample(5)"
      ],
      "execution_count": null,
      "outputs": [
        {
          "output_type": "execute_result",
          "data": {
            "text/html": [
              "<div>\n",
              "<style scoped>\n",
              "    .dataframe tbody tr th:only-of-type {\n",
              "        vertical-align: middle;\n",
              "    }\n",
              "\n",
              "    .dataframe tbody tr th {\n",
              "        vertical-align: top;\n",
              "    }\n",
              "\n",
              "    .dataframe thead th {\n",
              "        text-align: right;\n",
              "    }\n",
              "</style>\n",
              "<table border=\"1\" class=\"dataframe\">\n",
              "  <thead>\n",
              "    <tr style=\"text-align: right;\">\n",
              "      <th></th>\n",
              "      <th>0</th>\n",
              "      <th>1</th>\n",
              "      <th>2</th>\n",
              "      <th>3</th>\n",
              "    </tr>\n",
              "  </thead>\n",
              "  <tbody>\n",
              "    <tr>\n",
              "      <th>253</th>\n",
              "      <td>64</td>\n",
              "      <td>58</td>\n",
              "      <td>0</td>\n",
              "      <td>1</td>\n",
              "    </tr>\n",
              "    <tr>\n",
              "      <th>55</th>\n",
              "      <td>42</td>\n",
              "      <td>58</td>\n",
              "      <td>0</td>\n",
              "      <td>1</td>\n",
              "    </tr>\n",
              "    <tr>\n",
              "      <th>1</th>\n",
              "      <td>30</td>\n",
              "      <td>62</td>\n",
              "      <td>3</td>\n",
              "      <td>1</td>\n",
              "    </tr>\n",
              "    <tr>\n",
              "      <th>0</th>\n",
              "      <td>30</td>\n",
              "      <td>64</td>\n",
              "      <td>1</td>\n",
              "      <td>1</td>\n",
              "    </tr>\n",
              "    <tr>\n",
              "      <th>99</th>\n",
              "      <td>47</td>\n",
              "      <td>61</td>\n",
              "      <td>0</td>\n",
              "      <td>1</td>\n",
              "    </tr>\n",
              "  </tbody>\n",
              "</table>\n",
              "</div>"
            ],
            "text/plain": [
              "      0   1  2  3\n",
              "253  64  58  0  1\n",
              "55   42  58  0  1\n",
              "1    30  62  3  1\n",
              "0    30  64  1  1\n",
              "99   47  61  0  1"
            ]
          },
          "metadata": {
            "tags": []
          },
          "execution_count": 4
        }
      ]
    },
    {
      "cell_type": "markdown",
      "metadata": {
        "id": "xhNgR5tctBYO"
      },
      "source": [
        "The last column is the one specifying whether a given message is spam or not (1 if yes, 0 if no), so that's the one we want to use as our *y*, because we're trying to predict whether messages are spam or not. The rest of the columns, which provide features we hope are predictive, are the *x*. Let's split the dataframe up now into an *x* and *y*."
      ]
    },
    {
      "cell_type": "code",
      "metadata": {
        "id": "lEzMVOqr4vl3"
      },
      "source": [
        "# Changed \n",
        "\n",
        "y = spamdata[3]\n",
        "x = spamdata.drop(3,axis='columns')"
      ],
      "execution_count": null,
      "outputs": []
    },
    {
      "cell_type": "markdown",
      "metadata": {
        "id": "OSw6uoN6unRd"
      },
      "source": [
        "**Training a decision tree**"
      ]
    },
    {
      "cell_type": "markdown",
      "metadata": {
        "id": "pOm33GXKt5ez"
      },
      "source": [
        "We're going to use the implementation of decision trees from scikit-learn, a popular Python machine learning library."
      ]
    },
    {
      "cell_type": "code",
      "metadata": {
        "id": "oJID_HaQ5sAi"
      },
      "source": [
        "from sklearn.tree import DecisionTreeClassifier"
      ],
      "execution_count": null,
      "outputs": []
    },
    {
      "cell_type": "markdown",
      "metadata": {
        "id": "U6Ll_mEIuM89"
      },
      "source": [
        "But first we want to hold out some of the data as a test set, so we can use it to choose parameters that avoid overfitting. \n",
        "\n",
        "The function *train_test_split* has various options for splitting data into training and test sets. The simplest is to just give it a proportion of the data to hold out for the test set. Here we'll keep 20% of the data for the test set, leaving the other 80% for the training set."
      ]
    },
    {
      "cell_type": "code",
      "metadata": {
        "id": "Ge7gZA226avu"
      },
      "source": [
        "from sklearn.model_selection import train_test_split\n",
        "\n",
        "x_train, x_test, y_train, y_test = train_test_split(x, y, test_size=0.2)"
      ],
      "execution_count": null,
      "outputs": []
    },
    {
      "cell_type": "markdown",
      "metadata": {
        "id": "KD0afQWaue8b"
      },
      "source": [
        "Now we're ready to use our training set to train a decision tree! There are many possible parameters to *DecisionTreeClassifier()*. Here we use the defaults, except for setting *max_depth=2*, which limits how deep the tree is grown. The choice of max_depth is a parameter to the algorithm, and like with the k in k-nearest-neighbor that we saw last week, needs to be chosen empirically to balance classification performance vs. overfitting."
      ]
    },
    {
      "cell_type": "code",
      "metadata": {
        "id": "xXaCL4jT581c",
        "outputId": "5e7e3d5f-6be2-4100-98aa-9dd9d0d0a40a",
        "colab": {
          "base_uri": "https://localhost:8080/",
          "height": 119
        }
      },
      "source": [
        "tree = DecisionTreeClassifier(max_depth=1)\n",
        "tree.fit(x_train, y_train)"
      ],
      "execution_count": null,
      "outputs": [
        {
          "output_type": "execute_result",
          "data": {
            "text/plain": [
              "DecisionTreeClassifier(ccp_alpha=0.0, class_weight=None, criterion='gini',\n",
              "                       max_depth=1, max_features=None, max_leaf_nodes=None,\n",
              "                       min_impurity_decrease=0.0, min_impurity_split=None,\n",
              "                       min_samples_leaf=1, min_samples_split=2,\n",
              "                       min_weight_fraction_leaf=0.0, presort='deprecated',\n",
              "                       random_state=None, splitter='best')"
            ]
          },
          "metadata": {
            "tags": []
          },
          "execution_count": 8
        }
      ]
    },
    {
      "cell_type": "markdown",
      "metadata": {
        "id": "rb2qN3jbvBER"
      },
      "source": [
        "Done! Machine learning algorithms can often take a while to train. But this is a small dataset by modern standards, and decision trees are fast to train, so it should complete nearly instantly.\n",
        "\n",
        "Now that we have the tree, we can use it to predict whether new messages are spam. But first, let's inspect it visually. Scikit-learn comes with a feature to export decision trees to the *graphviz* graph-visualization library, and graphviz graphs can be displayed inline in our notebook."
      ]
    },
    {
      "cell_type": "code",
      "metadata": {
        "id": "nMArUl8j68IW",
        "outputId": "cb16f522-c3d6-4017-f6e7-1881840261cf",
        "colab": {
          "base_uri": "https://localhost:8080/",
          "height": 241
        }
      },
      "source": [
        "import graphviz\n",
        "from sklearn.tree import export_graphviz\n",
        "\n",
        "visual_tree = export_graphviz(tree, out_file=None, filled=True, proportion=True)\n",
        "graphviz.Source(visual_tree)"
      ],
      "execution_count": null,
      "outputs": [
        {
          "output_type": "execute_result",
          "data": {
            "text/plain": [
              "<graphviz.files.Source at 0x7feef7c72160>"
            ],
            "image/svg+xml": "<?xml version=\"1.0\" encoding=\"UTF-8\" standalone=\"no\"?>\n<!DOCTYPE svg PUBLIC \"-//W3C//DTD SVG 1.1//EN\"\n \"http://www.w3.org/Graphics/SVG/1.1/DTD/svg11.dtd\">\n<!-- Generated by graphviz version 2.40.1 (20161225.0304)\n -->\n<!-- Title: Tree Pages: 1 -->\n<svg width=\"320pt\" height=\"165pt\"\n viewBox=\"0.00 0.00 320.00 165.00\" xmlns=\"http://www.w3.org/2000/svg\" xmlns:xlink=\"http://www.w3.org/1999/xlink\">\n<g id=\"graph0\" class=\"graph\" transform=\"scale(1 1) rotate(0) translate(4 161)\">\n<title>Tree</title>\n<polygon fill=\"#ffffff\" stroke=\"transparent\" points=\"-4,4 -4,-161 316,-161 316,4 -4,4\"/>\n<!-- 0 -->\n<g id=\"node1\" class=\"node\">\n<title>0</title>\n<polygon fill=\"#eeac7c\" stroke=\"#000000\" points=\"229,-157 82,-157 82,-89 229,-89 229,-157\"/>\n<text text-anchor=\"middle\" x=\"155.5\" y=\"-141.8\" font-family=\"Times,serif\" font-size=\"14.00\" fill=\"#000000\">X[2] &lt;= 2.5</text>\n<text text-anchor=\"middle\" x=\"155.5\" y=\"-126.8\" font-family=\"Times,serif\" font-size=\"14.00\" fill=\"#000000\">gini = 0.379</text>\n<text text-anchor=\"middle\" x=\"155.5\" y=\"-111.8\" font-family=\"Times,serif\" font-size=\"14.00\" fill=\"#000000\">samples = 100.0%</text>\n<text text-anchor=\"middle\" x=\"155.5\" y=\"-96.8\" font-family=\"Times,serif\" font-size=\"14.00\" fill=\"#000000\">value = [0.746, 0.254]</text>\n</g>\n<!-- 1 -->\n<g id=\"node2\" class=\"node\">\n<title>1</title>\n<polygon fill=\"#ea985e\" stroke=\"#000000\" points=\"147,-53 0,-53 0,0 147,0 147,-53\"/>\n<text text-anchor=\"middle\" x=\"73.5\" y=\"-37.8\" font-family=\"Times,serif\" font-size=\"14.00\" fill=\"#000000\">gini = 0.264</text>\n<text text-anchor=\"middle\" x=\"73.5\" y=\"-22.8\" font-family=\"Times,serif\" font-size=\"14.00\" fill=\"#000000\">samples = 68.0%</text>\n<text text-anchor=\"middle\" x=\"73.5\" y=\"-7.8\" font-family=\"Times,serif\" font-size=\"14.00\" fill=\"#000000\">value = [0.843, 0.157]</text>\n</g>\n<!-- 0&#45;&gt;1 -->\n<g id=\"edge1\" class=\"edge\">\n<title>0&#45;&gt;1</title>\n<path fill=\"none\" stroke=\"#000000\" d=\"M126.5899,-88.9777C118.8866,-79.9123 110.5581,-70.111 102.8324,-61.0192\"/>\n<polygon fill=\"#000000\" stroke=\"#000000\" points=\"105.3718,-58.6025 96.2293,-53.2485 100.0375,-63.1352 105.3718,-58.6025\"/>\n<text text-anchor=\"middle\" x=\"94.2051\" y=\"-74.4664\" font-family=\"Times,serif\" font-size=\"14.00\" fill=\"#000000\">True</text>\n</g>\n<!-- 2 -->\n<g id=\"node3\" class=\"node\">\n<title>2</title>\n<polygon fill=\"#fbede3\" stroke=\"#000000\" points=\"312,-53 165,-53 165,0 312,0 312,-53\"/>\n<text text-anchor=\"middle\" x=\"238.5\" y=\"-37.8\" font-family=\"Times,serif\" font-size=\"14.00\" fill=\"#000000\">gini = 0.497</text>\n<text text-anchor=\"middle\" x=\"238.5\" y=\"-22.8\" font-family=\"Times,serif\" font-size=\"14.00\" fill=\"#000000\">samples = 32.0%</text>\n<text text-anchor=\"middle\" x=\"238.5\" y=\"-7.8\" font-family=\"Times,serif\" font-size=\"14.00\" fill=\"#000000\">value = [0.538, 0.462]</text>\n</g>\n<!-- 0&#45;&gt;2 -->\n<g id=\"edge2\" class=\"edge\">\n<title>0&#45;&gt;2</title>\n<path fill=\"none\" stroke=\"#000000\" d=\"M184.7627,-88.9777C192.5599,-79.9123 200.99,-70.111 208.8099,-61.0192\"/>\n<polygon fill=\"#000000\" stroke=\"#000000\" points=\"211.6262,-63.1123 215.4935,-53.2485 206.3191,-58.5477 211.6262,-63.1123\"/>\n<text text-anchor=\"middle\" x=\"217.3685\" y=\"-74.4781\" font-family=\"Times,serif\" font-size=\"14.00\" fill=\"#000000\">False</text>\n</g>\n</g>\n</svg>\n"
          },
          "metadata": {
            "tags": []
          },
          "execution_count": 9
        }
      ]
    },
    {
      "cell_type": "markdown",
      "metadata": {
        "id": "BjqzhH1Lv3z_"
      },
      "source": [
        "Finally, we can use our model to predict the spam/not-spam status of the data we held out as a test set."
      ]
    },
    {
      "cell_type": "code",
      "metadata": {
        "id": "chQZ4_TK8_lo"
      },
      "source": [
        "y_predicted = tree.predict(x_test)"
      ],
      "execution_count": null,
      "outputs": []
    },
    {
      "cell_type": "markdown",
      "metadata": {
        "id": "oyt75aRt0Tmf"
      },
      "source": [
        "How well did it do? We have the correct labels for the test set, so we can compare the predictions to the correct answers, and count what proportion of the predictions the decision tree got right and wrong. This is a test of the model's *generalization* performance, i.e. its ability to predict results on data it wasn't trained on."
      ]
    },
    {
      "cell_type": "code",
      "metadata": {
        "id": "Urn4U8Bx9L2q",
        "outputId": "49788fce-e672-40e0-9b7f-ab89a505baf5",
        "colab": {
          "base_uri": "https://localhost:8080/",
          "height": 34
        }
      },
      "source": [
        "np.sum(y_predicted == y_test) / len(y_test)"
      ],
      "execution_count": null,
      "outputs": [
        {
          "output_type": "execute_result",
          "data": {
            "text/plain": [
              "0.6935483870967742"
            ]
          },
          "metadata": {
            "tags": []
          },
          "execution_count": 11
        }
      ]
    },
    {
      "cell_type": "markdown",
      "metadata": {
        "id": "DoAGkAz31qhx"
      },
      "source": [
        "So the result is that this decision tree got its predictions right about 81% of the time on the held-out test set."
      ]
    }
  ]
}